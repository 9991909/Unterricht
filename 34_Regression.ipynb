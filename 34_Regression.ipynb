{
 "cells": [
  {
   "cell_type": "markdown",
   "metadata": {
    "colab": {
     "base_uri": "https://localhost:8080/"
    },
    "id": "d8rbc8mOm-b-",
    "outputId": "04327ffa-68c4-490f-f600-66e92f4f2084"
   },
   "source": [
    "<div align=\"center\"> <h1>Regression</h1>\n",
    "    <h2><a href=\"...\">Richard Leibrandt</a></h2>\n",
    "</div>"
   ]
  },
  {
   "cell_type": "code",
   "execution_count": 1,
   "metadata": {
    "colab": {
     "base_uri": "https://localhost:8080/"
    },
    "id": "d8rbc8mOm-b-",
    "outputId": "04327ffa-68c4-490f-f600-66e92f4f2084"
   },
   "outputs": [],
   "source": [
    "import pandas as pd\n",
    "import numpy as np\n",
    "from sklearn.gaussian_process import GaussianProcessRegressor\n",
    "from sklearn.linear_model import LinearRegression\n",
    "from sklearn.model_selection import train_test_split\n",
    "\n",
    "np.set_printoptions(linewidth=800)\n",
    "np.set_printoptions(edgeitems=20)\n",
    "pd.set_option('display.width', 700)\n",
    "pd.options.display.max_colwidth = 100\n",
    "pd.set_option('display.max_rows', 500)\n",
    "pd.set_option('display.max_columns', 500)"
   ]
  },
  {
   "cell_type": "code",
   "execution_count": 2,
   "metadata": {},
   "outputs": [
    {
     "data": {
      "text/plain": [
       "RendererRegistry.enable('mimetype')"
      ]
     },
     "execution_count": 2,
     "metadata": {},
     "output_type": "execute_result"
    }
   ],
   "source": [
    "import altair as alt\n",
    "alt.data_transformers.disable_max_rows()\n",
    "alt.renderers.enable('altair_viewer')\n",
    "alt.renderers.enable('mimetype')"
   ]
  },
  {
   "cell_type": "code",
   "execution_count": 3,
   "metadata": {
    "colab": {
     "base_uri": "https://localhost:8080/"
    },
    "id": "d8rbc8mOm-b-",
    "outputId": "04327ffa-68c4-490f-f600-66e92f4f2084"
   },
   "outputs": [],
   "source": [
    "# We load the data \"boston\"\n",
    "from sklearn.datasets import load_boston\n",
    "boston = load_boston()\n",
    "X = boston.data\n",
    "y = boston.target\n",
    "\n",
    "# We build the data into a DataFrame\n",
    "data = pd.DataFrame(boston.data)\n",
    "data.columns = boston.feature_names\n",
    "data['PRICE'] = boston.target"
   ]
  },
  {
   "cell_type": "markdown",
   "metadata": {},
   "source": [
    "# Regression"
   ]
  },
  {
   "cell_type": "code",
   "execution_count": 4,
   "metadata": {
    "colab": {
     "base_uri": "https://localhost:8080/"
    },
    "id": "8KS_GO2UpIoq",
    "outputId": "32ccaddf-9412-4d00-9c09-e1928714f1eb"
   },
   "outputs": [],
   "source": [
    "# We perform a train-test-split\n",
    "\n",
    "mytuple = train_test_split(X, y, test_size=0.2, random_state=123)\n",
    "X_train = mytuple[0]\n",
    "X_test = mytuple[1]\n",
    "y_train = mytuple[2]\n",
    "y_test = mytuple[3]\n",
    "# is the same as:\n",
    "X_train, X_test, y_train, y_test = train_test_split(X, y, test_size=0.2, random_state=123)"
   ]
  },
  {
   "cell_type": "code",
   "execution_count": 5,
   "metadata": {
    "colab": {
     "base_uri": "https://localhost:8080/"
    },
    "id": "8KS_GO2UpIoq",
    "outputId": "32ccaddf-9412-4d00-9c09-e1928714f1eb"
   },
   "outputs": [
    {
     "name": "stdout",
     "output_type": "stream",
     "text": [
      "0.7559380876016175\n",
      "0.6592466510354105\n"
     ]
    }
   ],
   "source": [
    "# We configure the (unfitted) model (in other words, we configure the algorithm that produces the fitted model - depending on the view):\n",
    "regr = LinearRegression()\n",
    "\n",
    "# We fit the model - sometimes one says \"we train the model\":\n",
    "regr.fit(X_train, y_train)\n",
    "\n",
    "# Finally, we evaluate on both - the training data and the test data, which was known during training.\n",
    "# Take note that the evaluation is generally better for the training data than for the test data, but that the evaluation on the test data is the critical one.\n",
    "print(regr.score(X_train, y_train))\n",
    "print(regr.score(X_test, y_test))\n",
    "# here we use the R^2 score."
   ]
  },
  {
   "cell_type": "code",
   "execution_count": 6,
   "metadata": {
    "colab": {
     "base_uri": "https://localhost:8080/"
    },
    "id": "FGyjuLt-pKmp",
    "outputId": "1c49e69c-5da7-44ce-99a0-a540fe7e6b47"
   },
   "outputs": [
    {
     "name": "stdout",
     "output_type": "stream",
     "text": [
      "0.6592466510354105\n"
     ]
    }
   ],
   "source": [
    "# Exkurs: Coefficient of determination (Bestimmtheitsmaß oder Determinationskoeffizient) R^2\n",
    "# https://en.wikipedia.org/wiki/Coefficient_of_determination\n",
    "# https://de.wikipedia.org/wiki/Bestimmtheitsma%C3%9F\n",
    "# R = 1 - ( Sum_of_squares_Residuen / Sum_of_squares_Variable ) = 1 - ( ( Sum_of_squares_Residuen / nr_samples ) / Variance_Variable )\n",
    "# One can interpret this as a comparison of our model with a linear model, which has only one intercept and no coefficients. \n",
    "residuen = np.abs(y_test - regr.predict(X_test))\n",
    "Sum_of_squares_Residuen = np.sum(residuen ** 2)\n",
    "Sum_of_squares_Variable = np.sum((y_test - np.mean(y_test)) ** 2)\n",
    "print(1 - Sum_of_squares_Residuen / Sum_of_squares_Variable)"
   ]
  },
  {
   "cell_type": "code",
   "execution_count": 7,
   "metadata": {
    "colab": {
     "base_uri": "https://localhost:8080/"
    },
    "id": "sdMordAOpV58",
    "outputId": "f810e354-5b56-44db-84c3-c47ed5f56ead"
   },
   "outputs": [
    {
     "name": "stdout",
     "output_type": "stream",
     "text": [
      "20.677107947815138\n",
      "28.192485758469484\n"
     ]
    }
   ],
   "source": [
    "# That's all very nice, but we build models to get the output for new, completely unseen input data. \n",
    "# Of course, completely new data is not available.\n",
    "y_train_predicted = regr.predict(X_train)\n",
    "y_test_predicted = regr.predict(X_test)\n",
    "\n",
    "# Now we use the predicted results to calculate the mean square deviation:\n",
    "# https://en.wikipedia.org/wiki/Mean_squared_error\n",
    "# https://de.wikipedia.org/wiki/Mittlere_quadratische_Abweichung\n",
    "print(np.sum((y_train_predicted - y_train) ** 2) / y_train_predicted.shape[0])\n",
    "print(np.sum((y_test_predicted - y_test) ** 2) / y_test_predicted.shape[0])"
   ]
  },
  {
   "cell_type": "code",
   "execution_count": 8,
   "metadata": {
    "colab": {
     "base_uri": "https://localhost:8080/"
    },
    "id": "q_qpdPsqpYA7",
    "outputId": "b85327ad-0301-4583-d7fa-b02495a89193"
   },
   "outputs": [
    {
     "name": "stdout",
     "output_type": "stream",
     "text": [
      "[-9.87931696e-02  4.75027102e-02  6.69491841e-02  1.26954150e+00 -1.54697747e+01  4.31968412e+00 -9.80167937e-04 -1.36597953e+00  2.84521838e-01 -1.27533606e-02 -9.13487599e-01  7.22553507e-03 -5.43790245e-01]\n",
      "31.835164121206397\n"
     ]
    }
   ],
   "source": [
    "#  We can also display coefficients and the intercept:\n",
    "print(regr.coef_)\n",
    "print(regr.intercept_)"
   ]
  },
  {
   "cell_type": "code",
   "execution_count": 9,
   "metadata": {
    "colab": {
     "base_uri": "https://localhost:8080/"
    },
    "id": "ncqwVHtFpZe0",
    "outputId": "e9ed29e1-6196-4f81-b85b-0892925a9706"
   },
   "outputs": [
    {
     "name": "stdout",
     "output_type": "stream",
     "text": [
      "0.7559380876016175\n",
      "0.6592466510354105\n"
     ]
    }
   ],
   "source": [
    "# Now let's do the whole thing with another model:\n",
    "\n",
    "regr_gp = GaussianProcessRegressor(alpha=1e-10).fit(X_train, y_train)\n",
    "regr_gp.predict(X_test)\n",
    "print(regr.score(X_train, y_train))\n",
    "print(regr.score(X_test, y_test))"
   ]
  },
  {
   "cell_type": "code",
   "execution_count": 10,
   "metadata": {
    "id": "aIDOL6R3pdm7"
   },
   "outputs": [],
   "source": [
    "# We bring the results into the data frame:\n",
    "data['PRICE_lin'] = regr.predict(X)\n",
    "data['PRICE_gp'] = regr_gp.predict(X)\n",
    "data['row_nr'] = data.index\n",
    "data_plot = data.melt(id_vars=['row_nr', 'PRICE'],\n",
    "                      value_vars=['PRICE_lin', 'PRICE_gp']).sort_values('row_nr')"
   ]
  },
  {
   "cell_type": "code",
   "execution_count": 11,
   "metadata": {
    "id": "446PHI3apfPu"
   },
   "outputs": [
    {
     "data": {
      "image/png": "[encoded data removed]",
      "text/plain": [
       "<Figure size 640x480 with 1 Axes>"
      ]
     },
     "metadata": {},
     "output_type": "display_data"
    },
    {
     "data": {
      "text/plain": [
       "<ggplot: (8787597992262)>"
      ]
     },
     "execution_count": 11,
     "metadata": {},
     "output_type": "execute_result"
    }
   ],
   "source": [
    "# VISUALISATION\n",
    "# Now, we plot this:\n",
    "import plotnine as pn\n",
    "pn.ggplot(data_plot, pn.aes(x='PRICE', y='value', color='variable')) + pn.geom_point()"
   ]
  },
  {
   "cell_type": "code",
   "execution_count": 12,
   "metadata": {
    "colab": {
     "base_uri": "https://localhost:8080/",
     "height": 568
    },
    "id": "xgM6kVqapiCL",
    "outputId": "5fb8087a-4ff0-48de-8383-32b792f06d34"
   },
   "outputs": [
    {
     "data": {
      "application/vnd.vegalite.v4+json": {
       "$schema": "https://vega.github.io/schema/vega-lite/v4.8.1.json",
       "config": {
        "view": {
         "continuousHeight": 300,
         "continuousWidth": 400
        }
       },
       "data": {
        "name": "data-9c4d389b313de1302120a6357eb3fbfa"
       },
       "datasets": {
        "data-9c4d389b313de1302120a6357eb3fbfa": [
         {
          "PRICE": 24,
          "row_nr": 0,
          "value": 29.96556857800813,
          "variable": "PRICE_lin"
         },
         {
          "PRICE": 24,
          "row_nr": 0,
          "value": 23.9999999976,
          "variable": "PRICE_gp"
         },
         {
          "PRICE": 21.6,
          "row_nr": 1,
          "value": 25.04509528946226,
          "variable": "PRICE_lin"
         },
         {
          "PRICE": 21.6,
          "row_nr": 1,
          "value": 21.59999999784,
          "variable": "PRICE_gp"
         },
         {
          "PRICE": 34.7,
          "row_nr": 2,
          "value": 31.11214315114897,
          "variable": "PRICE_lin"
         },
         {
          "PRICE": 34.7,
          "row_nr": 2,
          "value": 34.699999996529996,
          "variable": "PRICE_gp"
         },
         {
          "PRICE": 33.4,
          "row_nr": 3,
          "value": 28.988946294196314,
          "variable": "PRICE_lin"
         },
         {
          "PRICE": 33.4,
          "row_nr": 3,
          "value": 33.39999999665999,
          "variable": "PRICE_gp"
         },
         {
          "PRICE": 36.2,
          "row_nr": 4,
          "value": 28.337465363338914,
          "variable": "PRICE_lin"
         },
         {
          "PRICE": 36.2,
          "row_nr": 4,
          "value": 36.19999999638,
          "variable": "PRICE_gp"
         },
         {
          "PRICE": 28.7,
          "row_nr": 5,
          "value": 25.284881624211028,
          "variable": "PRICE_lin"
         },
         {
          "PRICE": 28.7,
          "row_nr": 5,
          "value": 2.3346851436563032e-05,
          "variable": "PRICE_gp"
         },
         {
          "PRICE": 22.9,
          "row_nr": 6,
          "value": 22.820497794095434,
          "variable": "PRICE_lin"
         },
         {
          "PRICE": 22.9,
          "row_nr": 6,
          "value": 22.899999997709998,
          "variable": "PRICE_gp"
         },
         {
          "PRICE": 27.1,
          "row_nr": 7,
          "value": 27.099999997290006,
          "variable": "PRICE_gp"
         },
         {
          "PRICE": 27.1,
          "row_nr": 7,
          "value": 19.299564929191465,
          "variable": "PRICE_lin"
         },
         {
          "PRICE": 16.5,
          "row_nr": 8,
          "value": 16.49999999835,
          "variable": "PRICE_gp"
         },
         {
          "PRICE": 16.5,
          "row_nr": 8,
          "value": 10.836176652534423,
          "variable": "PRICE_lin"
         },
         {
          "PRICE": 18.9,
          "row_nr": 9,
          "value": 1.1047329500975524e-24,
          "variable": "PRICE_gp"
         },
         {
          "PRICE": 18.9,
          "row_nr": 9,
          "value": 18.746066807697176,
          "variable": "PRICE_lin"
         },
         {
          "PRICE": 15,
          "row_nr": 10,
          "value": 14.999999998500014,
          "variable": "PRICE_gp"
         },
         {
          "PRICE": 15,
          "row_nr": 10,
          "value": 18.899151183375835,
          "variable": "PRICE_lin"
         },
         {
          "PRICE": 18.9,
          "row_nr": 11,
          "value": 21.431273049135438,
          "variable": "PRICE_lin"
         },
         {
          "PRICE": 18.9,
          "row_nr": 11,
          "value": 3.749898149299169e-43,
          "variable": "PRICE_gp"
         },
         {
          "PRICE": 21.7,
          "row_nr": 12,
          "value": 20.64491603034819,
          "variable": "PRICE_lin"
         },
         {
          "PRICE": 21.7,
          "row_nr": 12,
          "value": 21.69999999783,
          "variable": "PRICE_gp"
         },
         {
          "PRICE": 20.4,
          "row_nr": 13,
          "value": 19.617727106044285,
          "variable": "PRICE_lin"
         },
         {
          "PRICE": 20.4,
          "row_nr": 13,
          "value": 5.320984337991997e-10,
          "variable": "PRICE_gp"
         },
         {
          "PRICE": 18.2,
          "row_nr": 14,
          "value": 19.355597805576398,
          "variable": "PRICE_lin"
         },
         {
          "PRICE": 18.2,
          "row_nr": 14,
          "value": 18.19999999818715,
          "variable": "PRICE_gp"
         },
         {
          "PRICE": 19.9,
          "row_nr": 15,
          "value": 1.5910161337829496e-08,
          "variable": "PRICE_gp"
         },
         {
          "PRICE": 19.9,
          "row_nr": 15,
          "value": 19.28830094814845,
          "variable": "PRICE_lin"
         },
         {
          "PRICE": 23.1,
          "row_nr": 16,
          "value": 20.673505994938303,
          "variable": "PRICE_lin"
         },
         {
          "PRICE": 23.1,
          "row_nr": 16,
          "value": 23.09999999769,
          "variable": "PRICE_gp"
         },
         {
          "PRICE": 17.5,
          "row_nr": 17,
          "value": 17.499999998249997,
          "variable": "PRICE_gp"
         },
         {
          "PRICE": 17.5,
          "row_nr": 17,
          "value": 16.81518093853863,
          "variable": "PRICE_lin"
         },
         {
          "PRICE": 20.2,
          "row_nr": 18,
          "value": 16.095236104008332,
          "variable": "PRICE_lin"
         },
         {
          "PRICE": 20.2,
          "row_nr": 18,
          "value": 20.199999997979997,
          "variable": "PRICE_gp"
         },
         {
          "PRICE": 18.2,
          "row_nr": 19,
          "value": 18.19999999818,
          "variable": "PRICE_gp"
         },
         {
          "PRICE": 18.2,
          "row_nr": 19,
          "value": 18.200890715257934,
          "variable": "PRICE_lin"
         },
         {
          "PRICE": 13.6,
          "row_nr": 20,
          "value": 12.040370731881065,
          "variable": "PRICE_lin"
         },
         {
          "PRICE": 13.6,
          "row_nr": 20,
          "value": 13.59999999864,
          "variable": "PRICE_gp"
         },
         {
          "PRICE": 19.6,
          "row_nr": 21,
          "value": 17.527167417450162,
          "variable": "PRICE_lin"
         },
         {
          "PRICE": 19.6,
          "row_nr": 21,
          "value": 19.59999999804001,
          "variable": "PRICE_gp"
         },
         {
          "PRICE": 15.2,
          "row_nr": 22,
          "value": 15.672514166820662,
          "variable": "PRICE_lin"
         },
         {
          "PRICE": 15.2,
          "row_nr": 22,
          "value": 15.199999998479997,
          "variable": "PRICE_gp"
         },
         {
          "PRICE": 14.5,
          "row_nr": 23,
          "value": 14.499999998549999,
          "variable": "PRICE_gp"
         },
         {
          "PRICE": 14.5,
          "row_nr": 23,
          "value": 13.45786785587153,
          "variable": "PRICE_lin"
         },
         {
          "PRICE": 15.6,
          "row_nr": 24,
          "value": 0.001336178037231306,
          "variable": "PRICE_gp"
         },
         {
          "PRICE": 15.6,
          "row_nr": 24,
          "value": 15.496112901404963,
          "variable": "PRICE_lin"
         },
         {
          "PRICE": 13.9,
          "row_nr": 25,
          "value": 13.899999998610102,
          "variable": "PRICE_gp"
         },
         {
          "PRICE": 13.9,
          "row_nr": 25,
          "value": 13.245331705859925,
          "variable": "PRICE_lin"
         },
         {
          "PRICE": 16.6,
          "row_nr": 26,
          "value": 15.326502306806184,
          "variable": "PRICE_lin"
         },
         {
          "PRICE": 16.6,
          "row_nr": 26,
          "value": 9.18863346933247e-06,
          "variable": "PRICE_gp"
         },
         {
          "PRICE": 14.8,
          "row_nr": 27,
          "value": 14.799999998520097,
          "variable": "PRICE_gp"
         },
         {
          "PRICE": 14.8,
          "row_nr": 27,
          "value": 14.770436006755396,
          "variable": "PRICE_lin"
         },
         {
          "PRICE": 18.4,
          "row_nr": 28,
          "value": 19.741942134759686,
          "variable": "PRICE_lin"
         },
         {
          "PRICE": 18.4,
          "row_nr": 28,
          "value": 18.39999999816,
          "variable": "PRICE_gp"
         },
         {
          "PRICE": 21,
          "row_nr": 29,
          "value": 20.99999999790619,
          "variable": "PRICE_gp"
         },
         {
          "PRICE": 21,
          "row_nr": 29,
          "value": 21.184296614207906,
          "variable": "PRICE_lin"
         },
         {
          "PRICE": 12.7,
          "row_nr": 30,
          "value": 12.69999999873,
          "variable": "PRICE_gp"
         },
         {
          "PRICE": 12.7,
          "row_nr": 30,
          "value": 11.10193317698127,
          "variable": "PRICE_lin"
         },
         {
          "PRICE": 14.5,
          "row_nr": 31,
          "value": 18.022312425389327,
          "variable": "PRICE_lin"
         },
         {
          "PRICE": 14.5,
          "row_nr": 31,
          "value": 14.499999998549999,
          "variable": "PRICE_gp"
         },
         {
          "PRICE": 13.2,
          "row_nr": 32,
          "value": 8.743554082925645,
          "variable": "PRICE_lin"
         },
         {
          "PRICE": 13.2,
          "row_nr": 32,
          "value": 13.19999999868,
          "variable": "PRICE_gp"
         },
         {
          "PRICE": 13.1,
          "row_nr": 33,
          "value": 13.957095516680027,
          "variable": "PRICE_lin"
         },
         {
          "PRICE": 13.1,
          "row_nr": 33,
          "value": 0.00034419319643839833,
          "variable": "PRICE_gp"
         },
         {
          "PRICE": 13.5,
          "row_nr": 34,
          "value": 3.1405691874122667e-113,
          "variable": "PRICE_gp"
         },
         {
          "PRICE": 13.5,
          "row_nr": 34,
          "value": 13.77310754421464,
          "variable": "PRICE_lin"
         },
         {
          "PRICE": 18.9,
          "row_nr": 35,
          "value": 23.409546586109823,
          "variable": "PRICE_lin"
         },
         {
          "PRICE": 18.9,
          "row_nr": 35,
          "value": 18.899999998109994,
          "variable": "PRICE_gp"
         },
         {
          "PRICE": 20,
          "row_nr": 36,
          "value": 4.643797557787324e-12,
          "variable": "PRICE_gp"
         },
         {
          "PRICE": 20,
          "row_nr": 36,
          "value": 21.910973727865844,
          "variable": "PRICE_lin"
         },
         {
          "PRICE": 21,
          "row_nr": 37,
          "value": 22.786519033910192,
          "variable": "PRICE_lin"
         },
         {
          "PRICE": 21,
          "row_nr": 37,
          "value": 20.999999997899998,
          "variable": "PRICE_gp"
         },
         {
          "PRICE": 24.7,
          "row_nr": 38,
          "value": 22.643378111068024,
          "variable": "PRICE_lin"
         },
         {
          "PRICE": 24.7,
          "row_nr": 38,
          "value": 24.699999997529996,
          "variable": "PRICE_gp"
         },
         {
          "PRICE": 30.8,
          "row_nr": 39,
          "value": 31.493091563599208,
          "variable": "PRICE_lin"
         },
         {
          "PRICE": 30.8,
          "row_nr": 39,
          "value": 30.799999996920004,
          "variable": "PRICE_gp"
         },
         {
          "PRICE": 34.9,
          "row_nr": 40,
          "value": 34.62392517187395,
          "variable": "PRICE_lin"
         },
         {
          "PRICE": 34.9,
          "row_nr": 40,
          "value": 34.89999999651,
          "variable": "PRICE_gp"
         },
         {
          "PRICE": 26.6,
          "row_nr": 41,
          "value": 1.8095718190102386e-21,
          "variable": "PRICE_gp"
         },
         {
          "PRICE": 26.6,
          "row_nr": 41,
          "value": 28.46497366387171,
          "variable": "PRICE_lin"
         },
         {
          "PRICE": 25.3,
          "row_nr": 42,
          "value": 1.2782272685728894e-26,
          "variable": "PRICE_gp"
         },
         {
          "PRICE": 25.3,
          "row_nr": 42,
          "value": 25.32161122209555,
          "variable": "PRICE_lin"
         },
         {
          "PRICE": 24.7,
          "row_nr": 43,
          "value": 24.699999997529996,
          "variable": "PRICE_gp"
         },
         {
          "PRICE": 24.7,
          "row_nr": 43,
          "value": 24.695124610390614,
          "variable": "PRICE_lin"
         },
         {
          "PRICE": 21.2,
          "row_nr": 44,
          "value": 22.86848570420259,
          "variable": "PRICE_lin"
         },
         {
          "PRICE": 21.2,
          "row_nr": 44,
          "value": 21.199999997880003,
          "variable": "PRICE_gp"
         },
         {
          "PRICE": 19.3,
          "row_nr": 45,
          "value": 19.29999999807075,
          "variable": "PRICE_gp"
         },
         {
          "PRICE": 19.3,
          "row_nr": 45,
          "value": 21.740983300271534,
          "variable": "PRICE_lin"
         },
         {
          "PRICE": 20,
          "row_nr": 46,
          "value": 19.99999999800072,
          "variable": "PRICE_gp"
         },
         {
          "PRICE": 20,
          "row_nr": 46,
          "value": 20.0465134109917,
          "variable": "PRICE_lin"
         },
         {
          "PRICE": 16.6,
          "row_nr": 47,
          "value": 16.599999998340003,
          "variable": "PRICE_gp"
         },
         {
          "PRICE": 16.6,
          "row_nr": 47,
          "value": 17.682065135940903,
          "variable": "PRICE_lin"
         },
         {
          "PRICE": 14.4,
          "row_nr": 48,
          "value": 8.196749974394628,
          "variable": "PRICE_lin"
         },
         {
          "PRICE": 14.4,
          "row_nr": 48,
          "value": 1.5574370444056842e-55,
          "variable": "PRICE_gp"
         },
         {
          "PRICE": 19.4,
          "row_nr": 49,
          "value": 4.0365317831630166e-33,
          "variable": "PRICE_gp"
         },
         {
          "PRICE": 19.4,
          "row_nr": 49,
          "value": 16.7570560302173,
          "variable": "PRICE_lin"
         },
         {
          "PRICE": 19.7,
          "row_nr": 50,
          "value": 19.69999999803,
          "variable": "PRICE_gp"
         },
         {
          "PRICE": 19.7,
          "row_nr": 50,
          "value": 21.0516424488238,
          "variable": "PRICE_lin"
         },
         {
          "PRICE": 20.5,
          "row_nr": 51,
          "value": 23.8703069734894,
          "variable": "PRICE_lin"
         },
         {
          "PRICE": 20.5,
          "row_nr": 51,
          "value": 20.49999999795,
          "variable": "PRICE_gp"
         },
         {
          "PRICE": 25,
          "row_nr": 52,
          "value": 27.898860604587416,
          "variable": "PRICE_lin"
         },
         {
          "PRICE": 25,
          "row_nr": 52,
          "value": 24.999999997513648,
          "variable": "PRICE_gp"
         },
         {
          "PRICE": 23.4,
          "row_nr": 53,
          "value": 23.97000375194442,
          "variable": "PRICE_lin"
         },
         {
          "PRICE": 23.4,
          "row_nr": 53,
          "value": 23.3999999976746,
          "variable": "PRICE_gp"
         },
         {
          "PRICE": 18.9,
          "row_nr": 54,
          "value": 15.128167022549299,
          "variable": "PRICE_lin"
         },
         {
          "PRICE": 18.9,
          "row_nr": 54,
          "value": 18.899999998109998,
          "variable": "PRICE_gp"
         },
         {
          "PRICE": 35.4,
          "row_nr": 55,
          "value": 6.149866232271408e-40,
          "variable": "PRICE_gp"
         },
         {
          "PRICE": 35.4,
          "row_nr": 55,
          "value": 31.803115376895047,
          "variable": "PRICE_lin"
         },
         {
          "PRICE": 24.7,
          "row_nr": 56,
          "value": 24.699999997529996,
          "variable": "PRICE_gp"
         },
         {
          "PRICE": 24.7,
          "row_nr": 56,
          "value": 25.069328862183337,
          "variable": "PRICE_lin"
         },
         {
          "PRICE": 31.6,
          "row_nr": 57,
          "value": 31.599999996840005,
          "variable": "PRICE_gp"
         },
         {
          "PRICE": 31.6,
          "row_nr": 57,
          "value": 33.401107195653445,
          "variable": "PRICE_lin"
         },
         {
          "PRICE": 23.3,
          "row_nr": 58,
          "value": 23.299999997670003,
          "variable": "PRICE_gp"
         },
         {
          "PRICE": 23.3,
          "row_nr": 58,
          "value": 21.93508146677916,
          "variable": "PRICE_lin"
         },
         {
          "PRICE": 19.6,
          "row_nr": 59,
          "value": 0.0029959261462130147,
          "variable": "PRICE_gp"
         },
         {
          "PRICE": 19.6,
          "row_nr": 59,
          "value": 20.948287126165543,
          "variable": "PRICE_lin"
         },
         {
          "PRICE": 18.7,
          "row_nr": 60,
          "value": 18.69999999813,
          "variable": "PRICE_gp"
         },
         {
          "PRICE": 18.7,
          "row_nr": 60,
          "value": 17.57084648641915,
          "variable": "PRICE_lin"
         },
         {
          "PRICE": 16,
          "row_nr": 61,
          "value": 15.9999999984,
          "variable": "PRICE_gp"
         },
         {
          "PRICE": 16,
          "row_nr": 61,
          "value": 18.24517965824438,
          "variable": "PRICE_lin"
         },
         {
          "PRICE": 22.2,
          "row_nr": 62,
          "value": 24.165640724114258,
          "variable": "PRICE_lin"
         },
         {
          "PRICE": 22.2,
          "row_nr": 62,
          "value": 22.19999999778,
          "variable": "PRICE_gp"
         },
         {
          "PRICE": 25,
          "row_nr": 63,
          "value": 22.96207913159368,
          "variable": "PRICE_lin"
         },
         {
          "PRICE": 25,
          "row_nr": 63,
          "value": 24.999999997499998,
          "variable": "PRICE_gp"
         },
         {
          "PRICE": 33,
          "row_nr": 64,
          "value": 32.9999999967,
          "variable": "PRICE_gp"
         },
         {
          "PRICE": 33,
          "row_nr": 64,
          "value": 23.922202420422472,
          "variable": "PRICE_lin"
         },
         {
          "PRICE": 23.5,
          "row_nr": 65,
          "value": 30.28405006159107,
          "variable": "PRICE_lin"
         },
         {
          "PRICE": 23.5,
          "row_nr": 65,
          "value": 23.49999999765,
          "variable": "PRICE_gp"
         },
         {
          "PRICE": 19.4,
          "row_nr": 66,
          "value": 25.068515641905872,
          "variable": "PRICE_lin"
         },
         {
          "PRICE": 19.4,
          "row_nr": 66,
          "value": 7.668935750212822e-37,
          "variable": "PRICE_gp"
         },
         {
          "PRICE": 22,
          "row_nr": 67,
          "value": 21.999999997800003,
          "variable": "PRICE_gp"
         },
         {
          "PRICE": 22,
          "row_nr": 67,
          "value": 20.92785589816008,
          "variable": "PRICE_lin"
         },
         {
          "PRICE": 17.4,
          "row_nr": 68,
          "value": 16.969772026645046,
          "variable": "PRICE_lin"
         },
         {
          "PRICE": 17.4,
          "row_nr": 68,
          "value": 17.399999998260007,
          "variable": "PRICE_gp"
         },
         {
          "PRICE": 20.9,
          "row_nr": 69,
          "value": 20.56955189297097,
          "variable": "PRICE_lin"
         },
         {
          "PRICE": 20.9,
          "row_nr": 69,
          "value": 20.89999999791,
          "variable": "PRICE_gp"
         },
         {
          "PRICE": 24.2,
          "row_nr": 70,
          "value": 24.199999997579997,
          "variable": "PRICE_gp"
         },
         {
          "PRICE": 24.2,
          "row_nr": 70,
          "value": 25.479483351973368,
          "variable": "PRICE_lin"
         },
         {
          "PRICE": 21.7,
          "row_nr": 71,
          "value": 21.69999999783,
          "variable": "PRICE_gp"
         },
         {
          "PRICE": 21.7,
          "row_nr": 71,
          "value": 21.724620084203714,
          "variable": "PRICE_lin"
         },
         {
          "PRICE": 22.8,
          "row_nr": 72,
          "value": 24.661872053522167,
          "variable": "PRICE_lin"
         },
         {
          "PRICE": 22.8,
          "row_nr": 72,
          "value": 3.443990897344575e-11,
          "variable": "PRICE_gp"
         },
         {
          "PRICE": 23.4,
          "row_nr": 73,
          "value": 24.232998526330398,
          "variable": "PRICE_lin"
         },
         {
          "PRICE": 23.4,
          "row_nr": 73,
          "value": 23.399999997659997,
          "variable": "PRICE_gp"
         },
         {
          "PRICE": 24.1,
          "row_nr": 74,
          "value": 24.099999997590004,
          "variable": "PRICE_gp"
         },
         {
          "PRICE": 24.1,
          "row_nr": 74,
          "value": 25.64122949090379,
          "variable": "PRICE_lin"
         },
         {
          "PRICE": 21.4,
          "row_nr": 75,
          "value": 0.005398950913073422,
          "variable": "PRICE_gp"
         },
         {
          "PRICE": 21.4,
          "row_nr": 75,
          "value": 24.055511443927823,
          "variable": "PRICE_lin"
         },
         {
          "PRICE": 20,
          "row_nr": 76,
          "value": 22.89412980173931,
          "variable": "PRICE_lin"
         },
         {
          "PRICE": 20,
          "row_nr": 76,
          "value": 19.999999998,
          "variable": "PRICE_gp"
         },
         {
          "PRICE": 20.8,
          "row_nr": 77,
          "value": 23.291479094708823,
          "variable": "PRICE_lin"
         },
         {
          "PRICE": 20.8,
          "row_nr": 77,
          "value": 20.79999999792,
          "variable": "PRICE_gp"
         },
         {
          "PRICE": 21.2,
          "row_nr": 78,
          "value": 21.199999997880003,
          "variable": "PRICE_gp"
         },
         {
          "PRICE": 21.2,
          "row_nr": 78,
          "value": 21.292859969150687,
          "variable": "PRICE_lin"
         },
         {
          "PRICE": 20.3,
          "row_nr": 79,
          "value": 22.29084359394279,
          "variable": "PRICE_lin"
         },
         {
          "PRICE": 20.3,
          "row_nr": 79,
          "value": 20.29999999797,
          "variable": "PRICE_gp"
         },
         {
          "PRICE": 28,
          "row_nr": 80,
          "value": 27.9999999972,
          "variable": "PRICE_gp"
         },
         {
          "PRICE": 28,
          "row_nr": 80,
          "value": 28.591644519125225,
          "variable": "PRICE_lin"
         },
         {
          "PRICE": 23.9,
          "row_nr": 81,
          "value": 23.899999997609996,
          "variable": "PRICE_gp"
         },
         {
          "PRICE": 23.9,
          "row_nr": 81,
          "value": 27.02991404589014,
          "variable": "PRICE_lin"
         },
         {
          "PRICE": 24.8,
          "row_nr": 82,
          "value": 3.952829708272599,
          "variable": "PRICE_gp"
         },
         {
          "PRICE": 24.8,
          "row_nr": 82,
          "value": 25.97988145473932,
          "variable": "PRICE_lin"
         },
         {
          "PRICE": 22.9,
          "row_nr": 83,
          "value": 22.899999997709998,
          "variable": "PRICE_gp"
         },
         {
          "PRICE": 22.9,
          "row_nr": 83,
          "value": 24.907792216213338,
          "variable": "PRICE_lin"
         },
         {
          "PRICE": 23.9,
          "row_nr": 84,
          "value": 24.64820803529521,
          "variable": "PRICE_lin"
         },
         {
          "PRICE": 23.9,
          "row_nr": 84,
          "value": 23.899999997610102,
          "variable": "PRICE_gp"
         },
         {
          "PRICE": 26.6,
          "row_nr": 85,
          "value": 27.794474307560208,
          "variable": "PRICE_lin"
         },
         {
          "PRICE": 26.6,
          "row_nr": 85,
          "value": 0.033441171147859355,
          "variable": "PRICE_gp"
         },
         {
          "PRICE": 22.5,
          "row_nr": 86,
          "value": 22.499999997750113,
          "variable": "PRICE_gp"
         },
         {
          "PRICE": 22.5,
          "row_nr": 86,
          "value": 21.74800357417405,
          "variable": "PRICE_lin"
         },
         {
          "PRICE": 22.2,
          "row_nr": 87,
          "value": 25.518285936631653,
          "variable": "PRICE_lin"
         },
         {
          "PRICE": 22.2,
          "row_nr": 87,
          "value": 22.19999999778,
          "variable": "PRICE_gp"
         },
         {
          "PRICE": 23.6,
          "row_nr": 88,
          "value": 23.599999997640005,
          "variable": "PRICE_gp"
         },
         {
          "PRICE": 23.6,
          "row_nr": 88,
          "value": 30.745140939765925,
          "variable": "PRICE_lin"
         },
         {
          "PRICE": 28.7,
          "row_nr": 89,
          "value": 28.69999999713,
          "variable": "PRICE_gp"
         },
         {
          "PRICE": 28.7,
          "row_nr": 89,
          "value": 30.974259326546388,
          "variable": "PRICE_lin"
         },
         {
          "PRICE": 22.6,
          "row_nr": 90,
          "value": 22.59999999774,
          "variable": "PRICE_gp"
         },
         {
          "PRICE": 22.6,
          "row_nr": 90,
          "value": 26.833194338533566,
          "variable": "PRICE_lin"
         },
         {
          "PRICE": 22,
          "row_nr": 91,
          "value": 21.999999997800003,
          "variable": "PRICE_gp"
         },
         {
          "PRICE": 22,
          "row_nr": 91,
          "value": 27.116339972257133,
          "variable": "PRICE_lin"
         },
         {
          "PRICE": 22.9,
          "row_nr": 92,
          "value": 29.24338770368434,
          "variable": "PRICE_lin"
         },
         {
          "PRICE": 22.9,
          "row_nr": 92,
          "value": 22.899999997709998,
          "variable": "PRICE_gp"
         },
         {
          "PRICE": 25,
          "row_nr": 93,
          "value": 29.34099147651392,
          "variable": "PRICE_lin"
         },
         {
          "PRICE": 25,
          "row_nr": 93,
          "value": 1.0344216440867202e-55,
          "variable": "PRICE_gp"
         },
         {
          "PRICE": 20.6,
          "row_nr": 94,
          "value": 27.14814310906877,
          "variable": "PRICE_lin"
         },
         {
          "PRICE": 20.6,
          "row_nr": 94,
          "value": 20.599999997940003,
          "variable": "PRICE_gp"
         },
         {
          "PRICE": 28.4,
          "row_nr": 95,
          "value": 28.496154089283934,
          "variable": "PRICE_lin"
         },
         {
          "PRICE": 28.4,
          "row_nr": 95,
          "value": 28.399999997160002,
          "variable": "PRICE_gp"
         },
         {
          "PRICE": 21.4,
          "row_nr": 96,
          "value": 24.183793706240113,
          "variable": "PRICE_lin"
         },
         {
          "PRICE": 21.4,
          "row_nr": 96,
          "value": 21.399999997860004,
          "variable": "PRICE_gp"
         },
         {
          "PRICE": 38.7,
          "row_nr": 97,
          "value": 38.69999999613,
          "variable": "PRICE_gp"
         },
         {
          "PRICE": 38.7,
          "row_nr": 97,
          "value": 36.324124471975885,
          "variable": "PRICE_lin"
         },
         {
          "PRICE": 43.8,
          "row_nr": 98,
          "value": 43.79999999562,
          "variable": "PRICE_gp"
         },
         {
          "PRICE": 43.8,
          "row_nr": 98,
          "value": 35.61437237681777,
          "variable": "PRICE_lin"
         },
         {
          "PRICE": 33.2,
          "row_nr": 99,
          "value": 33.199999996680006,
          "variable": "PRICE_gp"
         },
         {
          "PRICE": 33.2,
          "row_nr": 99,
          "value": 32.44505828734686,
          "variable": "PRICE_lin"
         },
         {
          "PRICE": 27.5,
          "row_nr": 100,
          "value": 24.698337502915255,
          "variable": "PRICE_lin"
         },
         {
          "PRICE": 27.5,
          "row_nr": 100,
          "value": 27.49999999725,
          "variable": "PRICE_gp"
         },
         {
          "PRICE": 26.5,
          "row_nr": 101,
          "value": 25.794024118277918,
          "variable": "PRICE_lin"
         },
         {
          "PRICE": 26.5,
          "row_nr": 101,
          "value": 3.6803295562846043e-16,
          "variable": "PRICE_gp"
         },
         {
          "PRICE": 18.6,
          "row_nr": 102,
          "value": 20.381517729617276,
          "variable": "PRICE_lin"
         },
         {
          "PRICE": 18.6,
          "row_nr": 102,
          "value": 5.522752507552665e-206,
          "variable": "PRICE_gp"
         },
         {
          "PRICE": 19.3,
          "row_nr": 103,
          "value": 19.299999998077205,
          "variable": "PRICE_gp"
         },
         {
          "PRICE": 19.3,
          "row_nr": 103,
          "value": 20.034214696989434,
          "variable": "PRICE_lin"
         },
         {
          "PRICE": 20.1,
          "row_nr": 104,
          "value": 20.09999999799872,
          "variable": "PRICE_gp"
         },
         {
          "PRICE": 20.1,
          "row_nr": 104,
          "value": 21.160304786723373,
          "variable": "PRICE_lin"
         },
         {
          "PRICE": 19.5,
          "row_nr": 105,
          "value": 19.499999998050104,
          "variable": "PRICE_gp"
         },
         {
          "PRICE": 19.5,
          "row_nr": 105,
          "value": 17.976996336180278,
          "variable": "PRICE_lin"
         },
         {
          "PRICE": 19.5,
          "row_nr": 106,
          "value": 19.499999998050004,
          "variable": "PRICE_gp"
         },
         {
          "PRICE": 19.5,
          "row_nr": 106,
          "value": 16.591700701167195,
          "variable": "PRICE_lin"
         },
         {
          "PRICE": 20.4,
          "row_nr": 107,
          "value": 4.4531278392627385e-10,
          "variable": "PRICE_gp"
         },
         {
          "PRICE": 20.4,
          "row_nr": 107,
          "value": 20.407738033862447,
          "variable": "PRICE_lin"
         },
         {
          "PRICE": 19.8,
          "row_nr": 108,
          "value": 19.79999999802011,
          "variable": "PRICE_gp"
         },
         {
          "PRICE": 19.8,
          "row_nr": 108,
          "value": 22.515430018406327,
          "variable": "PRICE_lin"
         },
         {
          "PRICE": 19.4,
          "row_nr": 109,
          "value": 19.48362375432797,
          "variable": "PRICE_lin"
         },
         {
          "PRICE": 19.4,
          "row_nr": 109,
          "value": 19.39999999806185,
          "variable": "PRICE_gp"
         },
         {
          "PRICE": 21.7,
          "row_nr": 110,
          "value": 20.473338169401703,
          "variable": "PRICE_lin"
         },
         {
          "PRICE": 21.7,
          "row_nr": 110,
          "value": 21.69999999783,
          "variable": "PRICE_gp"
         },
         {
          "PRICE": 22.8,
          "row_nr": 111,
          "value": 22.79999999809256,
          "variable": "PRICE_gp"
         },
         {
          "PRICE": 22.8,
          "row_nr": 111,
          "value": 26.5737239413127,
          "variable": "PRICE_lin"
         },
         {
          "PRICE": 18.8,
          "row_nr": 112,
          "value": 18.799999998127976,
          "variable": "PRICE_gp"
         },
         {
          "PRICE": 18.8,
          "row_nr": 112,
          "value": 20.24420210741049,
          "variable": "PRICE_lin"
         },
         {
          "PRICE": 18.7,
          "row_nr": 113,
          "value": 20.274946178874554,
          "variable": "PRICE_lin"
         },
         {
          "PRICE": 18.7,
          "row_nr": 113,
          "value": 18.699999998138015,
          "variable": "PRICE_gp"
         },
         {
          "PRICE": 18.5,
          "row_nr": 114,
          "value": 18.499999998150003,
          "variable": "PRICE_gp"
         },
         {
          "PRICE": 18.5,
          "row_nr": 114,
          "value": 24.94358746444276,
          "variable": "PRICE_lin"
         },
         {
          "PRICE": 18.3,
          "row_nr": 115,
          "value": 20.042149028421633,
          "variable": "PRICE_lin"
         },
         {
          "PRICE": 18.3,
          "row_nr": 115,
          "value": 18.299999998169998,
          "variable": "PRICE_gp"
         },
         {
          "PRICE": 21.2,
          "row_nr": 116,
          "value": 23.14057416487835,
          "variable": "PRICE_lin"
         },
         {
          "PRICE": 21.2,
          "row_nr": 116,
          "value": 21.199999997880003,
          "variable": "PRICE_gp"
         },
         {
          "PRICE": 19.2,
          "row_nr": 117,
          "value": 23.390513320075335,
          "variable": "PRICE_lin"
         },
         {
          "PRICE": 19.2,
          "row_nr": 117,
          "value": 19.199999998580697,
          "variable": "PRICE_gp"
         },
         {
          "PRICE": 20.4,
          "row_nr": 118,
          "value": 19.966105793091526,
          "variable": "PRICE_lin"
         },
         {
          "PRICE": 20.4,
          "row_nr": 118,
          "value": 20.399999997960002,
          "variable": "PRICE_gp"
         },
         {
          "PRICE": 19.3,
          "row_nr": 119,
          "value": 20.317661209004083,
          "variable": "PRICE_lin"
         },
         {
          "PRICE": 19.3,
          "row_nr": 119,
          "value": 19.299999998070003,
          "variable": "PRICE_gp"
         },
         {
          "PRICE": 22,
          "row_nr": 120,
          "value": 22.483261903853958,
          "variable": "PRICE_lin"
         },
         {
          "PRICE": 22,
          "row_nr": 120,
          "value": 21.999999997800003,
          "variable": "PRICE_gp"
         },
         {
          "PRICE": 20.3,
          "row_nr": 121,
          "value": 23.101520815847532,
          "variable": "PRICE_lin"
         },
         {
          "PRICE": 20.3,
          "row_nr": 121,
          "value": 20.29999999797,
          "variable": "PRICE_gp"
         },
         {
          "PRICE": 20.5,
          "row_nr": 122,
          "value": 20.499999997961325,
          "variable": "PRICE_gp"
         },
         {
          "PRICE": 20.5,
          "row_nr": 122,
          "value": 21.068743839427263,
          "variable": "PRICE_lin"
         },
         {
          "PRICE": 17.3,
          "row_nr": 123,
          "value": 16.676374963557496,
          "variable": "PRICE_lin"
         },
         {
          "PRICE": 17.3,
          "row_nr": 123,
          "value": 17.29999999827,
          "variable": "PRICE_gp"
         },
         {
          "PRICE": 18.8,
          "row_nr": 124,
          "value": 18.79999999813237,
          "variable": "PRICE_gp"
         },
         {
          "PRICE": 18.8,
          "row_nr": 124,
          "value": 21.02088936756313,
          "variable": "PRICE_lin"
         },
         {
          "PRICE": 21.4,
          "row_nr": 125,
          "value": 3.3021838598133043e-15,
          "variable": "PRICE_gp"
         },
         {
          "PRICE": 21.4,
          "row_nr": 125,
          "value": 23.0487360519444,
          "variable": "PRICE_lin"
         },
         {
          "PRICE": 15.7,
          "row_nr": 126,
          "value": 14.774726956180263,
          "variable": "PRICE_lin"
         },
         {
          "PRICE": 15.7,
          "row_nr": 126,
          "value": 15.699999998429998,
          "variable": "PRICE_gp"
         },
         {
          "PRICE": 16.2,
          "row_nr": 127,
          "value": 15.36140645352156,
          "variable": "PRICE_lin"
         },
         {
          "PRICE": 16.2,
          "row_nr": 127,
          "value": 16.199999998384683,
          "variable": "PRICE_gp"
         },
         {
          "PRICE": 18,
          "row_nr": 128,
          "value": 17.999999998265604,
          "variable": "PRICE_gp"
         },
         {
          "PRICE": 18,
          "row_nr": 128,
          "value": 19.520416905974013,
          "variable": "PRICE_lin"
         },
         {
          "PRICE": 14.3,
          "row_nr": 129,
          "value": 14.29999999857817,
          "variable": "PRICE_gp"
         },
         {
          "PRICE": 14.3,
          "row_nr": 129,
          "value": 14.206848983906827,
          "variable": "PRICE_lin"
         },
         {
          "PRICE": 19.2,
          "row_nr": 130,
          "value": 19.199999998195484,
          "variable": "PRICE_gp"
         },
         {
          "PRICE": 19.2,
          "row_nr": 130,
          "value": 20.721250570339073,
          "variable": "PRICE_lin"
         },
         {
          "PRICE": 19.6,
          "row_nr": 131,
          "value": 1.053814820298803,
          "variable": "PRICE_gp"
         },
         {
          "PRICE": 19.6,
          "row_nr": 131,
          "value": 20.05798604977564,
          "variable": "PRICE_lin"
         },
         {
          "PRICE": 23,
          "row_nr": 132,
          "value": 22.9999999977,
          "variable": "PRICE_gp"
         },
         {
          "PRICE": 23,
          "row_nr": 132,
          "value": 20.778444073534324,
          "variable": "PRICE_lin"
         },
         {
          "PRICE": 18.4,
          "row_nr": 133,
          "value": 18.39999999816029,
          "variable": "PRICE_gp"
         },
         {
          "PRICE": 18.4,
          "row_nr": 133,
          "value": 16.131076047871026,
          "variable": "PRICE_lin"
         },
         {
          "PRICE": 15.6,
          "row_nr": 134,
          "value": 13.802992584213566,
          "variable": "PRICE_lin"
         },
         {
          "PRICE": 15.6,
          "row_nr": 134,
          "value": 4.394768166446003e-262,
          "variable": "PRICE_gp"
         },
         {
          "PRICE": 18.1,
          "row_nr": 135,
          "value": 17.806162015051758,
          "variable": "PRICE_lin"
         },
         {
          "PRICE": 18.1,
          "row_nr": 135,
          "value": 18.099999998335278,
          "variable": "PRICE_gp"
         },
         {
          "PRICE": 17.4,
          "row_nr": 136,
          "value": 16.246775153896316,
          "variable": "PRICE_lin"
         },
         {
          "PRICE": 17.4,
          "row_nr": 136,
          "value": 17.39999999826,
          "variable": "PRICE_gp"
         },
         {
          "PRICE": 17.1,
          "row_nr": 137,
          "value": 17.099999998523568,
          "variable": "PRICE_gp"
         },
         {
          "PRICE": 17.1,
          "row_nr": 137,
          "value": 19.98120932269059,
          "variable": "PRICE_lin"
         },
         {
          "PRICE": 13.3,
          "row_nr": 138,
          "value": 13.299999998670033,
          "variable": "PRICE_gp"
         },
         {
          "PRICE": 13.3,
          "row_nr": 138,
          "value": 13.985750245954666,
          "variable": "PRICE_lin"
         },
         {
          "PRICE": 17.8,
          "row_nr": 139,
          "value": 17.799999998274657,
          "variable": "PRICE_gp"
         },
         {
          "PRICE": 17.8,
          "row_nr": 139,
          "value": 16.81713470977664,
          "variable": "PRICE_lin"
         },
         {
          "PRICE": 14,
          "row_nr": 140,
          "value": 13.999999998600002,
          "variable": "PRICE_gp"
         },
         {
          "PRICE": 14,
          "row_nr": 140,
          "value": 13.860012110796383,
          "variable": "PRICE_lin"
         },
         {
          "PRICE": 14.4,
          "row_nr": 141,
          "value": 3.4578549715615488,
          "variable": "PRICE_lin"
         },
         {
          "PRICE": 14.4,
          "row_nr": 141,
          "value": 14.39999999856,
          "variable": "PRICE_gp"
         },
         {
          "PRICE": 13.4,
          "row_nr": 142,
          "value": 13.399999999162272,
          "variable": "PRICE_gp"
         },
         {
          "PRICE": 13.4,
          "row_nr": 142,
          "value": 13.187355508751619,
          "variable": "PRICE_lin"
         },
         {
          "PRICE": 15.6,
          "row_nr": 143,
          "value": 15.599999998785469,
          "variable": "PRICE_gp"
         },
         {
          "PRICE": 15.6,
          "row_nr": 143,
          "value": 12.216200145112936,
          "variable": "PRICE_lin"
         },
         {
          "PRICE": 11.8,
          "row_nr": 144,
          "value": 11.799999998822257,
          "variable": "PRICE_gp"
         },
         {
          "PRICE": 11.8,
          "row_nr": 144,
          "value": 8.437250838931146,
          "variable": "PRICE_lin"
         },
         {
          "PRICE": 13.8,
          "row_nr": 145,
          "value": 12.866713840472379,
          "variable": "PRICE_lin"
         },
         {
          "PRICE": 13.8,
          "row_nr": 145,
          "value": 13.799999998620002,
          "variable": "PRICE_gp"
         },
         {
          "PRICE": 15.6,
          "row_nr": 146,
          "value": 15.59999999844,
          "variable": "PRICE_gp"
         },
         {
          "PRICE": 15.6,
          "row_nr": 146,
          "value": 16.624168011923317,
          "variable": "PRICE_lin"
         },
         {
          "PRICE": 14.6,
          "row_nr": 147,
          "value": 8.2543165409887,
          "variable": "PRICE_lin"
         },
         {
          "PRICE": 14.6,
          "row_nr": 147,
          "value": 14.599999998540001,
          "variable": "PRICE_gp"
         },
         {
          "PRICE": 17.8,
          "row_nr": 148,
          "value": 9.696150547306576,
          "variable": "PRICE_lin"
         },
         {
          "PRICE": 17.8,
          "row_nr": 148,
          "value": 7.365555357475761e-16,
          "variable": "PRICE_gp"
         },
         {
          "PRICE": 15.4,
          "row_nr": 149,
          "value": 15.134677920655864,
          "variable": "PRICE_lin"
         },
         {
          "PRICE": 15.4,
          "row_nr": 149,
          "value": 15.399999998460002,
          "variable": "PRICE_gp"
         },
         {
          "PRICE": 21.5,
          "row_nr": 150,
          "value": 21.499999997849997,
          "variable": "PRICE_gp"
         },
         {
          "PRICE": 21.5,
          "row_nr": 150,
          "value": 21.52874983167108,
          "variable": "PRICE_lin"
         },
         {
          "PRICE": 19.6,
          "row_nr": 151,
          "value": 19.599999998040005,
          "variable": "PRICE_gp"
         },
         {
          "PRICE": 19.6,
          "row_nr": 151,
          "value": 18.69693791220343,
          "variable": "PRICE_lin"
         },
         {
          "PRICE": 15.3,
          "row_nr": 152,
          "value": 15.29999999847,
          "variable": "PRICE_gp"
         },
         {
          "PRICE": 15.3,
          "row_nr": 152,
          "value": 18.938981400491,
          "variable": "PRICE_lin"
         },
         {
          "PRICE": 19.4,
          "row_nr": 153,
          "value": 19.399999998059997,
          "variable": "PRICE_gp"
         },
         {
          "PRICE": 19.4,
          "row_nr": 153,
          "value": 17.967821377145427,
          "variable": "PRICE_lin"
         },
         {
          "PRICE": 17,
          "row_nr": 154,
          "value": 21.74549141467723,
          "variable": "PRICE_lin"
         },
         {
          "PRICE": 17,
          "row_nr": 154,
          "value": 16.999999998299998,
          "variable": "PRICE_gp"
         },
         {
          "PRICE": 15.6,
          "row_nr": 155,
          "value": 20.02450669928135,
          "variable": "PRICE_lin"
         },
         {
          "PRICE": 15.6,
          "row_nr": 155,
          "value": 7.914586326618885e-29,
          "variable": "PRICE_gp"
         },
         {
          "PRICE": 13.1,
          "row_nr": 156,
          "value": 13.09999999869,
          "variable": "PRICE_gp"
         },
         {
          "PRICE": 13.1,
          "row_nr": 156,
          "value": 14.457853996535363,
          "variable": "PRICE_lin"
         },
         {
          "PRICE": 41.3,
          "row_nr": 157,
          "value": 41.299999995869996,
          "variable": "PRICE_gp"
         },
         {
          "PRICE": 41.3,
          "row_nr": 157,
          "value": 33.98239543607019,
          "variable": "PRICE_lin"
         },
         {
          "PRICE": 24.3,
          "row_nr": 158,
          "value": 29.274113835919206,
          "variable": "PRICE_lin"
         },
         {
          "PRICE": 24.3,
          "row_nr": 158,
          "value": 24.29999999757,
          "variable": "PRICE_gp"
         },
         {
          "PRICE": 23.3,
          "row_nr": 159,
          "value": 26.61047872140115,
          "variable": "PRICE_lin"
         },
         {
          "PRICE": 23.3,
          "row_nr": 159,
          "value": 0.01621280332872958,
          "variable": "PRICE_gp"
         },
         {
          "PRICE": 27,
          "row_nr": 160,
          "value": 31.694001636689592,
          "variable": "PRICE_lin"
         },
         {
          "PRICE": 27,
          "row_nr": 160,
          "value": 3.846593832026726e-18,
          "variable": "PRICE_gp"
         },
         {
          "PRICE": 50,
          "row_nr": 161,
          "value": 49.999999994999996,
          "variable": "PRICE_gp"
         },
         {
          "PRICE": 50,
          "row_nr": 161,
          "value": 37.83058875375225,
          "variable": "PRICE_lin"
         },
         {
          "PRICE": 50,
          "row_nr": 162,
          "value": 40.31936226838544,
          "variable": "PRICE_lin"
         },
         {
          "PRICE": 50,
          "row_nr": 162,
          "value": 0.0007415024287608413,
          "variable": "PRICE_gp"
         },
         {
          "PRICE": 50,
          "row_nr": 163,
          "value": 49.999999994999996,
          "variable": "PRICE_gp"
         },
         {
          "PRICE": 50,
          "row_nr": 163,
          "value": 41.89446986383756,
          "variable": "PRICE_lin"
         },
         {
          "PRICE": 22.7,
          "row_nr": 164,
          "value": 22.69999999773,
          "variable": "PRICE_gp"
         },
         {
          "PRICE": 22.7,
          "row_nr": 164,
          "value": 24.834234533838142,
          "variable": "PRICE_lin"
         },
         {
          "PRICE": 25,
          "row_nr": 165,
          "value": 24.999999997499998,
          "variable": "PRICE_gp"
         },
         {
          "PRICE": 25,
          "row_nr": 165,
          "value": 25.89754318754715,
          "variable": "PRICE_lin"
         },
         {
          "PRICE": 50,
          "row_nr": 166,
          "value": 49.99999999499999,
          "variable": "PRICE_gp"
         },
         {
          "PRICE": 50,
          "row_nr": 166,
          "value": 38.46115155064638,
          "variable": "PRICE_lin"
         },
         {
          "PRICE": 23.8,
          "row_nr": 167,
          "value": 23.502112302846776,
          "variable": "PRICE_lin"
         },
         {
          "PRICE": 23.8,
          "row_nr": 167,
          "value": 23.799999997620002,
          "variable": "PRICE_gp"
         },
         {
          "PRICE": 23.8,
          "row_nr": 168,
          "value": 23.799999997620002,
          "variable": "PRICE_gp"
         },
         {
          "PRICE": 23.8,
          "row_nr": 168,
          "value": 26.85818416682654,
          "variable": "PRICE_lin"
         },
         {
          "PRICE": 22.3,
          "row_nr": 169,
          "value": 27.099342928485914,
          "variable": "PRICE_lin"
         },
         {
          "PRICE": 22.3,
          "row_nr": 169,
          "value": 22.299999997769998,
          "variable": "PRICE_gp"
         },
         {
          "PRICE": 17.4,
          "row_nr": 170,
          "value": 17.39999999826,
          "variable": "PRICE_gp"
         },
         {
          "PRICE": 17.4,
          "row_nr": 170,
          "value": 22.75901681351865,
          "variable": "PRICE_lin"
         },
         {
          "PRICE": 19.1,
          "row_nr": 171,
          "value": 24.42804101928325,
          "variable": "PRICE_lin"
         },
         {
          "PRICE": 19.1,
          "row_nr": 171,
          "value": 5.793578494352406e-11,
          "variable": "PRICE_gp"
         },
         {
          "PRICE": 23.1,
          "row_nr": 172,
          "value": 22.002549272258896,
          "variable": "PRICE_lin"
         },
         {
          "PRICE": 23.1,
          "row_nr": 172,
          "value": 23.09999999769,
          "variable": "PRICE_gp"
         },
         {
          "PRICE": 23.6,
          "row_nr": 173,
          "value": 28.651081221048344,
          "variable": "PRICE_lin"
         },
         {
          "PRICE": 23.6,
          "row_nr": 173,
          "value": 23.599999997640005,
          "variable": "PRICE_gp"
         },
         {
          "PRICE": 22.6,
          "row_nr": 174,
          "value": 22.599999997739996,
          "variable": "PRICE_gp"
         },
         {
          "PRICE": 22.6,
          "row_nr": 174,
          "value": 25.842209354405323,
          "variable": "PRICE_lin"
         },
         {
          "PRICE": 29.4,
          "row_nr": 175,
          "value": 30.58590421312737,
          "variable": "PRICE_lin"
         },
         {
          "PRICE": 29.4,
          "row_nr": 175,
          "value": 29.39999999706,
          "variable": "PRICE_gp"
         },
         {
          "PRICE": 23.2,
          "row_nr": 176,
          "value": 25.13939796099425,
          "variable": "PRICE_lin"
         },
         {
          "PRICE": 23.2,
          "row_nr": 176,
          "value": 23.19999999768,
          "variable": "PRICE_gp"
         },
         {
          "PRICE": 24.6,
          "row_nr": 177,
          "value": 28.808288898918356,
          "variable": "PRICE_lin"
         },
         {
          "PRICE": 24.6,
          "row_nr": 177,
          "value": 24.599999997540102,
          "variable": "PRICE_gp"
         },
         {
          "PRICE": 29.9,
          "row_nr": 178,
          "value": 31.335856810247204,
          "variable": "PRICE_lin"
         },
         {
          "PRICE": 29.9,
          "row_nr": 178,
          "value": 29.89999999701008,
          "variable": "PRICE_gp"
         },
         {
          "PRICE": 37.2,
          "row_nr": 179,
          "value": 32.933895834810215,
          "variable": "PRICE_lin"
         },
         {
          "PRICE": 37.2,
          "row_nr": 179,
          "value": 1.1177522094816954e-06,
          "variable": "PRICE_gp"
         },
         {
          "PRICE": 39.8,
          "row_nr": 180,
          "value": 35.039816005937936,
          "variable": "PRICE_lin"
         },
         {
          "PRICE": 39.8,
          "row_nr": 180,
          "value": 39.79999999601999,
          "variable": "PRICE_gp"
         },
         {
          "PRICE": 36.2,
          "row_nr": 181,
          "value": 27.235383527127286,
          "variable": "PRICE_lin"
         },
         {
          "PRICE": 36.2,
          "row_nr": 181,
          "value": 36.19999999638,
          "variable": "PRICE_gp"
         },
         {
          "PRICE": 37.9,
          "row_nr": 182,
          "value": 33.928366620964475,
          "variable": "PRICE_lin"
         },
         {
          "PRICE": 37.9,
          "row_nr": 182,
          "value": 37.89999999621011,
          "variable": "PRICE_gp"
         },
         {
          "PRICE": 32.5,
          "row_nr": 183,
          "value": 30.719334943864293,
          "variable": "PRICE_lin"
         },
         {
          "PRICE": 32.5,
          "row_nr": 183,
          "value": 32.49999999675014,
          "variable": "PRICE_gp"
         },
         {
          "PRICE": 26.4,
          "row_nr": 184,
          "value": 21.835566118982257,
          "variable": "PRICE_lin"
         },
         {
          "PRICE": 26.4,
          "row_nr": 184,
          "value": 26.39999999736,
          "variable": "PRICE_gp"
         },
         {
          "PRICE": 29.6,
          "row_nr": 185,
          "value": 24.25453569024149,
          "variable": "PRICE_lin"
         },
         {
          "PRICE": 29.6,
          "row_nr": 185,
          "value": 1.6359613455574988e-32,
          "variable": "PRICE_gp"
         },
         {
          "PRICE": 50,
          "row_nr": 186,
          "value": 49.999999994999996,
          "variable": "PRICE_gp"
         },
         {
          "PRICE": 50,
          "row_nr": 186,
          "value": 36.39912527250827,
          "variable": "PRICE_lin"
         },
         {
          "PRICE": 32,
          "row_nr": 187,
          "value": 33.19084541490832,
          "variable": "PRICE_lin"
         },
         {
          "PRICE": 32,
          "row_nr": 187,
          "value": 31.9999999968,
          "variable": "PRICE_gp"
         },
         {
          "PRICE": 29.8,
          "row_nr": 188,
          "value": 32.23198058606614,
          "variable": "PRICE_lin"
         },
         {
          "PRICE": 29.8,
          "row_nr": 188,
          "value": 4.481066173204022e-15,
          "variable": "PRICE_gp"
         },
         {
          "PRICE": 34.9,
          "row_nr": 189,
          "value": 34.59385957892998,
          "variable": "PRICE_lin"
         },
         {
          "PRICE": 34.9,
          "row_nr": 189,
          "value": 0.008559609974867913,
          "variable": "PRICE_gp"
         },
         {
          "PRICE": 37,
          "row_nr": 190,
          "value": 31.00498779555445,
          "variable": "PRICE_lin"
         },
         {
          "PRICE": 37,
          "row_nr": 190,
          "value": 6.822902218003657e-41,
          "variable": "PRICE_gp"
         },
         {
          "PRICE": 30.5,
          "row_nr": 191,
          "value": 30.39210735527797,
          "variable": "PRICE_lin"
         },
         {
          "PRICE": 30.5,
          "row_nr": 191,
          "value": 0.00018645038696471963,
          "variable": "PRICE_gp"
         },
         {
          "PRICE": 36.4,
          "row_nr": 192,
          "value": 36.39999999636,
          "variable": "PRICE_gp"
         },
         {
          "PRICE": 36.4,
          "row_nr": 192,
          "value": 33.28646176114094,
          "variable": "PRICE_lin"
         },
         {
          "PRICE": 31.1,
          "row_nr": 193,
          "value": 31.09999999689,
          "variable": "PRICE_gp"
         },
         {
          "PRICE": 31.1,
          "row_nr": 193,
          "value": 32.30576826172964,
          "variable": "PRICE_lin"
         },
         {
          "PRICE": 29.1,
          "row_nr": 194,
          "value": 29.099999997090002,
          "variable": "PRICE_gp"
         },
         {
          "PRICE": 29.1,
          "row_nr": 194,
          "value": 31.684139641315294,
          "variable": "PRICE_lin"
         },
         {
          "PRICE": 50,
          "row_nr": 195,
          "value": 49.999999994999996,
          "variable": "PRICE_gp"
         },
         {
          "PRICE": 50,
          "row_nr": 195,
          "value": 41.37234131839663,
          "variable": "PRICE_lin"
         },
         {
          "PRICE": 33.3,
          "row_nr": 196,
          "value": 3.2421350098926308e-09,
          "variable": "PRICE_gp"
         },
         {
          "PRICE": 33.3,
          "row_nr": 196,
          "value": 36.45595724064701,
          "variable": "PRICE_lin"
         },
         {
          "PRICE": 30.3,
          "row_nr": 197,
          "value": 30.299999996969998,
          "variable": "PRICE_gp"
         },
         {
          "PRICE": 30.3,
          "row_nr": 197,
          "value": 32.904211233994104,
          "variable": "PRICE_lin"
         },
         {
          "PRICE": 34.6,
          "row_nr": 198,
          "value": 34.59999999654,
          "variable": "PRICE_gp"
         },
         {
          "PRICE": 34.6,
          "row_nr": 198,
          "value": 34.980737471559436,
          "variable": "PRICE_lin"
         },
         {
          "PRICE": 34.9,
          "row_nr": 199,
          "value": 5.866948588401976e-295,
          "variable": "PRICE_gp"
         },
         {
          "PRICE": 34.9,
          "row_nr": 199,
          "value": 30.45487494239032,
          "variable": "PRICE_lin"
         },
         {
          "PRICE": 32.9,
          "row_nr": 200,
          "value": 31.11752726491948,
          "variable": "PRICE_lin"
         },
         {
          "PRICE": 32.9,
          "row_nr": 200,
          "value": 4.918432917137934e-307,
          "variable": "PRICE_gp"
         },
         {
          "PRICE": 24.1,
          "row_nr": 201,
          "value": 28.989692058347607,
          "variable": "PRICE_lin"
         },
         {
          "PRICE": 24.1,
          "row_nr": 201,
          "value": 2.2012350957235256e-33,
          "variable": "PRICE_gp"
         },
         {
          "PRICE": 42.3,
          "row_nr": 202,
          "value": 37.628904151418055,
          "variable": "PRICE_lin"
         },
         {
          "PRICE": 42.3,
          "row_nr": 202,
          "value": 42.299999995769994,
          "variable": "PRICE_gp"
         },
         {
          "PRICE": 48.5,
          "row_nr": 203,
          "value": 42.605030880443636,
          "variable": "PRICE_lin"
         },
         {
          "PRICE": 48.5,
          "row_nr": 203,
          "value": 48.499999995261604,
          "variable": "PRICE_gp"
         },
         {
          "PRICE": 50,
          "row_nr": 204,
          "value": 43.87926279566132,
          "variable": "PRICE_lin"
         },
         {
          "PRICE": 50,
          "row_nr": 204,
          "value": 49.9999999951081,
          "variable": "PRICE_gp"
         },
         {
          "PRICE": 22.6,
          "row_nr": 205,
          "value": 22.573376653479123,
          "variable": "PRICE_lin"
         },
         {
          "PRICE": 22.6,
          "row_nr": 205,
          "value": 22.59999999774,
          "variable": "PRICE_gp"
         },
         {
          "PRICE": 24.4,
          "row_nr": 206,
          "value": 23.785208260646257,
          "variable": "PRICE_lin"
         },
         {
          "PRICE": 24.4,
          "row_nr": 206,
          "value": 24.399999997560002,
          "variable": "PRICE_gp"
         },
         {
          "PRICE": 22.5,
          "row_nr": 207,
          "value": 17.522837551804074,
          "variable": "PRICE_lin"
         },
         {
          "PRICE": 22.5,
          "row_nr": 207,
          "value": 22.499999997750002,
          "variable": "PRICE_gp"
         },
         {
          "PRICE": 24.4,
          "row_nr": 208,
          "value": 24.399999997560002,
          "variable": "PRICE_gp"
         },
         {
          "PRICE": 24.4,
          "row_nr": 208,
          "value": 21.97934401242641,
          "variable": "PRICE_lin"
         },
         {
          "PRICE": 20,
          "row_nr": 209,
          "value": 1.0385711708131158e-17,
          "variable": "PRICE_gp"
         },
         {
          "PRICE": 20,
          "row_nr": 209,
          "value": 14.825372242792582,
          "variable": "PRICE_lin"
         },
         {
          "PRICE": 21.7,
          "row_nr": 210,
          "value": 21.69999999783,
          "variable": "PRICE_gp"
         },
         {
          "PRICE": 21.7,
          "row_nr": 210,
          "value": 20.655468172888398,
          "variable": "PRICE_lin"
         },
         {
          "PRICE": 19.3,
          "row_nr": 211,
          "value": 8.993479594551768e-13,
          "variable": "PRICE_gp"
         },
         {
          "PRICE": 19.3,
          "row_nr": 211,
          "value": 14.892535873462027,
          "variable": "PRICE_lin"
         },
         {
          "PRICE": 22.4,
          "row_nr": 212,
          "value": 5.297461264743349e-09,
          "variable": "PRICE_gp"
         },
         {
          "PRICE": 22.4,
          "row_nr": 212,
          "value": 20.9921468231931,
          "variable": "PRICE_lin"
         },
         {
          "PRICE": 28.1,
          "row_nr": 213,
          "value": 25.384013320009085,
          "variable": "PRICE_lin"
         },
         {
          "PRICE": 28.1,
          "row_nr": 213,
          "value": 28.099999997190004,
          "variable": "PRICE_gp"
         },
         {
          "PRICE": 23.7,
          "row_nr": 214,
          "value": 23.699999997629998,
          "variable": "PRICE_gp"
         },
         {
          "PRICE": 23.7,
          "row_nr": 214,
          "value": 10.485645234305984,
          "variable": "PRICE_lin"
         },
         {
          "PRICE": 25,
          "row_nr": 215,
          "value": 24.999999997499994,
          "variable": "PRICE_gp"
         },
         {
          "PRICE": 25,
          "row_nr": 215,
          "value": 24.542296542628545,
          "variable": "PRICE_lin"
         },
         {
          "PRICE": 23.3,
          "row_nr": 216,
          "value": 8.781049952772368e-09,
          "variable": "PRICE_gp"
         },
         {
          "PRICE": 23.3,
          "row_nr": 216,
          "value": 25.063163603012022,
          "variable": "PRICE_lin"
         },
         {
          "PRICE": 28.7,
          "row_nr": 217,
          "value": 28.699999997129996,
          "variable": "PRICE_gp"
         },
         {
          "PRICE": 28.7,
          "row_nr": 217,
          "value": 28.674764202746584,
          "variable": "PRICE_lin"
         },
         {
          "PRICE": 21.5,
          "row_nr": 218,
          "value": 23.227672858425642,
          "variable": "PRICE_lin"
         },
         {
          "PRICE": 21.5,
          "row_nr": 218,
          "value": 21.499999997850004,
          "variable": "PRICE_gp"
         },
         {
          "PRICE": 23,
          "row_nr": 219,
          "value": 28.416216723616568,
          "variable": "PRICE_lin"
         },
         {
          "PRICE": 23,
          "row_nr": 219,
          "value": 22.9999999977,
          "variable": "PRICE_gp"
         },
         {
          "PRICE": 26.7,
          "row_nr": 220,
          "value": 26.69999999733,
          "variable": "PRICE_gp"
         },
         {
          "PRICE": 26.7,
          "row_nr": 220,
          "value": 31.68784142988887,
          "variable": "PRICE_lin"
         },
         {
          "PRICE": 21.7,
          "row_nr": 221,
          "value": 21.66216446400949,
          "variable": "PRICE_lin"
         },
         {
          "PRICE": 21.7,
          "row_nr": 221,
          "value": 21.69999999783,
          "variable": "PRICE_gp"
         },
         {
          "PRICE": 27.5,
          "row_nr": 222,
          "value": 30.67148606157168,
          "variable": "PRICE_lin"
         },
         {
          "PRICE": 27.5,
          "row_nr": 222,
          "value": 27.499999997357975,
          "variable": "PRICE_gp"
         },
         {
          "PRICE": 30.1,
          "row_nr": 223,
          "value": 30.09999999699,
          "variable": "PRICE_gp"
         },
         {
          "PRICE": 30.1,
          "row_nr": 223,
          "value": 29.586413296961894,
          "variable": "PRICE_lin"
         },
         {
          "PRICE": 44.8,
          "row_nr": 224,
          "value": 44.79999999551999,
          "variable": "PRICE_gp"
         },
         {
          "PRICE": 44.8,
          "row_nr": 224,
          "value": 39.095510314573346,
          "variable": "PRICE_lin"
         },
         {
          "PRICE": 50,
          "row_nr": 225,
          "value": 49.999999994999996,
          "variable": "PRICE_gp"
         },
         {
          "PRICE": 50,
          "row_nr": 225,
          "value": 40.764238801860955,
          "variable": "PRICE_lin"
         },
         {
          "PRICE": 37.6,
          "row_nr": 226,
          "value": 38.23179837623107,
          "variable": "PRICE_lin"
         },
         {
          "PRICE": 37.6,
          "row_nr": 226,
          "value": 1.3686097553488574e-08,
          "variable": "PRICE_gp"
         },
         {
          "PRICE": 31.6,
          "row_nr": 227,
          "value": 32.579923823185595,
          "variable": "PRICE_lin"
         },
         {
          "PRICE": 31.6,
          "row_nr": 227,
          "value": 4.3720659618813754e-05,
          "variable": "PRICE_gp"
         },
         {
          "PRICE": 46.7,
          "row_nr": 228,
          "value": 46.69999999533,
          "variable": "PRICE_gp"
         },
         {
          "PRICE": 46.7,
          "row_nr": 228,
          "value": 36.06039809298866,
          "variable": "PRICE_lin"
         },
         {
          "PRICE": 31.5,
          "row_nr": 229,
          "value": 31.250832548606283,
          "variable": "PRICE_lin"
         },
         {
          "PRICE": 31.5,
          "row_nr": 229,
          "value": 2.735003144215749e-05,
          "variable": "PRICE_gp"
         },
         {
          "PRICE": 24.3,
          "row_nr": 230,
          "value": 24.29999999757,
          "variable": "PRICE_gp"
         },
         {
          "PRICE": 24.3,
          "row_nr": 230,
          "value": 24.019351804370746,
          "variable": "PRICE_lin"
         },
         {
          "PRICE": 31.7,
          "row_nr": 231,
          "value": 33.663798092178986,
          "variable": "PRICE_lin"
         },
         {
          "PRICE": 31.7,
          "row_nr": 231,
          "value": 31.699999996829998,
          "variable": "PRICE_gp"
         },
         {
          "PRICE": 41.7,
          "row_nr": 232,
          "value": 38.95987612789888,
          "variable": "PRICE_lin"
         },
         {
          "PRICE": 41.7,
          "row_nr": 232,
          "value": 41.69999999583003,
          "variable": "PRICE_gp"
         },
         {
          "PRICE": 48.3,
          "row_nr": 233,
          "value": 37.99769068895737,
          "variable": "PRICE_lin"
         },
         {
          "PRICE": 48.3,
          "row_nr": 233,
          "value": 48.29999999517,
          "variable": "PRICE_gp"
         },
         {
          "PRICE": 29,
          "row_nr": 234,
          "value": 30.324293024907607,
          "variable": "PRICE_lin"
         },
         {
          "PRICE": 29,
          "row_nr": 234,
          "value": 28.999999997099998,
          "variable": "PRICE_gp"
         },
         {
          "PRICE": 24,
          "row_nr": 235,
          "value": 23.9999999976,
          "variable": "PRICE_gp"
         },
         {
          "PRICE": 24,
          "row_nr": 235,
          "value": 24.887314982453024,
          "variable": "PRICE_lin"
         },
         {
          "PRICE": 25.1,
          "row_nr": 236,
          "value": 25.09999999760932,
          "variable": "PRICE_gp"
         },
         {
          "PRICE": 25.1,
          "row_nr": 236,
          "value": 28.61315351153878,
          "variable": "PRICE_lin"
         },
         {
          "PRICE": 31.5,
          "row_nr": 237,
          "value": 31.49999999685001,
          "variable": "PRICE_gp"
         },
         {
          "PRICE": 31.5,
          "row_nr": 237,
          "value": 33.11702608017303,
          "variable": "PRICE_lin"
         },
         {
          "PRICE": 23.7,
          "row_nr": 238,
          "value": 28.483722890453254,
          "variable": "PRICE_lin"
         },
         {
          "PRICE": 23.7,
          "row_nr": 238,
          "value": 23.699999997629998,
          "variable": "PRICE_gp"
         },
         {
          "PRICE": 23.3,
          "row_nr": 239,
          "value": 28.481805031438267,
          "variable": "PRICE_lin"
         },
         {
          "PRICE": 23.3,
          "row_nr": 239,
          "value": 23.299999997670003,
          "variable": "PRICE_gp"
         },
         {
          "PRICE": 22,
          "row_nr": 240,
          "value": 27.398590802770993,
          "variable": "PRICE_lin"
         },
         {
          "PRICE": 22,
          "row_nr": 240,
          "value": 21.999999997800003,
          "variable": "PRICE_gp"
         },
         {
          "PRICE": 20.1,
          "row_nr": 241,
          "value": 20.099999997990004,
          "variable": "PRICE_gp"
         },
         {
          "PRICE": 20.1,
          "row_nr": 241,
          "value": 23.39401067096408,
          "variable": "PRICE_lin"
         },
         {
          "PRICE": 22.2,
          "row_nr": 242,
          "value": 24.07064771563712,
          "variable": "PRICE_lin"
         },
         {
          "PRICE": 22.2,
          "row_nr": 242,
          "value": 22.19999999778,
          "variable": "PRICE_gp"
         },
         {
          "PRICE": 23.7,
          "row_nr": 243,
          "value": 23.699999997629998,
          "variable": "PRICE_gp"
         },
         {
          "PRICE": 23.7,
          "row_nr": 243,
          "value": 27.556822233551593,
          "variable": "PRICE_lin"
         },
         {
          "PRICE": 17.6,
          "row_nr": 244,
          "value": 17.599999998240005,
          "variable": "PRICE_gp"
         },
         {
          "PRICE": 17.6,
          "row_nr": 244,
          "value": 16.03298594697602,
          "variable": "PRICE_lin"
         },
         {
          "PRICE": 18.5,
          "row_nr": 245,
          "value": 18.499999998150003,
          "variable": "PRICE_gp"
         },
         {
          "PRICE": 18.5,
          "row_nr": 245,
          "value": 12.97169745604161,
          "variable": "PRICE_lin"
         },
         {
          "PRICE": 24.3,
          "row_nr": 246,
          "value": 24.29999999757,
          "variable": "PRICE_gp"
         },
         {
          "PRICE": 24.3,
          "row_nr": 246,
          "value": 20.091846264938198,
          "variable": "PRICE_lin"
         },
         {
          "PRICE": 20.5,
          "row_nr": 247,
          "value": 19.93250180650887,
          "variable": "PRICE_lin"
         },
         {
          "PRICE": 20.5,
          "row_nr": 247,
          "value": 20.499999997950006,
          "variable": "PRICE_gp"
         },
         {
          "PRICE": 24.5,
          "row_nr": 248,
          "value": 24.49999999755,
          "variable": "PRICE_gp"
         },
         {
          "PRICE": 24.5,
          "row_nr": 248,
          "value": 21.50442329022221,
          "variable": "PRICE_lin"
         },
         {
          "PRICE": 26.2,
          "row_nr": 249,
          "value": 2.7692937879154678e-05,
          "variable": "PRICE_gp"
         },
         {
          "PRICE": 26.2,
          "row_nr": 249,
          "value": 24.511025418551775,
          "variable": "PRICE_lin"
         },
         {
          "PRICE": 24.4,
          "row_nr": 250,
          "value": 24.399999997560005,
          "variable": "PRICE_gp"
         },
         {
          "PRICE": 24.4,
          "row_nr": 250,
          "value": 24.486923702063397,
          "variable": "PRICE_lin"
         },
         {
          "PRICE": 24.8,
          "row_nr": 251,
          "value": 24.79999999752,
          "variable": "PRICE_gp"
         },
         {
          "PRICE": 24.8,
          "row_nr": 251,
          "value": 25.389340858214286,
          "variable": "PRICE_lin"
         },
         {
          "PRICE": 29.6,
          "row_nr": 252,
          "value": 25.681516771798243,
          "variable": "PRICE_lin"
         },
         {
          "PRICE": 29.6,
          "row_nr": 252,
          "value": 29.59999999704,
          "variable": "PRICE_gp"
         },
         {
          "PRICE": 42.8,
          "row_nr": 253,
          "value": 42.79999999572,
          "variable": "PRICE_gp"
         },
         {
          "PRICE": 42.8,
          "row_nr": 253,
          "value": 31.34852039989362,
          "variable": "PRICE_lin"
         },
         {
          "PRICE": 21.9,
          "row_nr": 254,
          "value": 24.120842889679615,
          "variable": "PRICE_lin"
         },
         {
          "PRICE": 21.9,
          "row_nr": 254,
          "value": 21.89999999781,
          "variable": "PRICE_gp"
         },
         {
          "PRICE": 20.9,
          "row_nr": 255,
          "value": 20.89999999791,
          "variable": "PRICE_gp"
         },
         {
          "PRICE": 20.9,
          "row_nr": 255,
          "value": 21.691764618519592,
          "variable": "PRICE_lin"
         },
         {
          "PRICE": 44,
          "row_nr": 256,
          "value": 43.99999999560001,
          "variable": "PRICE_gp"
         },
         {
          "PRICE": 44,
          "row_nr": 256,
          "value": 38.092895940542064,
          "variable": "PRICE_lin"
         },
         {
          "PRICE": 50,
          "row_nr": 257,
          "value": 44.246839477763146,
          "variable": "PRICE_lin"
         },
         {
          "PRICE": 50,
          "row_nr": 257,
          "value": 49.999999995000024,
          "variable": "PRICE_gp"
         },
         {
          "PRICE": 36,
          "row_nr": 258,
          "value": 36.680486743456726,
          "variable": "PRICE_lin"
         },
         {
          "PRICE": 36,
          "row_nr": 258,
          "value": 35.99999999640001,
          "variable": "PRICE_gp"
         },
         {
          "PRICE": 30.1,
          "row_nr": 259,
          "value": 34.948011277452316,
          "variable": "PRICE_lin"
         },
         {
          "PRICE": 30.1,
          "row_nr": 259,
          "value": 30.09999999699,
          "variable": "PRICE_gp"
         },
         {
          "PRICE": 33.8,
          "row_nr": 260,
          "value": 33.79999999662,
          "variable": "PRICE_gp"
         },
         {
          "PRICE": 33.8,
          "row_nr": 260,
          "value": 34.94174979108199,
          "variable": "PRICE_lin"
         },
         {
          "PRICE": 43.1,
          "row_nr": 261,
          "value": 37.501416671483554,
          "variable": "PRICE_lin"
         },
         {
          "PRICE": 43.1,
          "row_nr": 261,
          "value": 2.331498423598264,
          "variable": "PRICE_gp"
         },
         {
          "PRICE": 48.8,
          "row_nr": 262,
          "value": 41.813507226558976,
          "variable": "PRICE_lin"
         },
         {
          "PRICE": 48.8,
          "row_nr": 262,
          "value": 48.79999999520658,
          "variable": "PRICE_gp"
         },
         {
          "PRICE": 31,
          "row_nr": 263,
          "value": 9.806493074094769e-10,
          "variable": "PRICE_gp"
         },
         {
          "PRICE": 31,
          "row_nr": 263,
          "value": 34.58404676045198,
          "variable": "PRICE_lin"
         },
         {
          "PRICE": 36.5,
          "row_nr": 264,
          "value": 36.499999996467494,
          "variable": "PRICE_gp"
         },
         {
          "PRICE": 36.5,
          "row_nr": 264,
          "value": 35.96749757954621,
          "variable": "PRICE_lin"
         },
         {
          "PRICE": 22.8,
          "row_nr": 265,
          "value": 22.799999997720004,
          "variable": "PRICE_gp"
         },
         {
          "PRICE": 22.8,
          "row_nr": 265,
          "value": 27.54226549317223,
          "variable": "PRICE_lin"
         },
         {
          "PRICE": 30.7,
          "row_nr": 266,
          "value": 31.179121836600295,
          "variable": "PRICE_lin"
         },
         {
          "PRICE": 30.7,
          "row_nr": 266,
          "value": 30.69999999693,
          "variable": "PRICE_gp"
         },
         {
          "PRICE": 50,
          "row_nr": 267,
          "value": 41.47873306605318,
          "variable": "PRICE_lin"
         },
         {
          "PRICE": 50,
          "row_nr": 267,
          "value": 49.999999994999996,
          "variable": "PRICE_gp"
         },
         {
          "PRICE": 43.5,
          "row_nr": 268,
          "value": 39.67801119935286,
          "variable": "PRICE_lin"
         },
         {
          "PRICE": 43.5,
          "row_nr": 268,
          "value": 43.49999999565,
          "variable": "PRICE_gp"
         },
         {
          "PRICE": 20.7,
          "row_nr": 269,
          "value": 23.918420813323575,
          "variable": "PRICE_lin"
         },
         {
          "PRICE": 20.7,
          "row_nr": 269,
          "value": 20.699999997929996,
          "variable": "PRICE_gp"
         },
         {
          "PRICE": 21.1,
          "row_nr": 270,
          "value": 21.099999997890002,
          "variable": "PRICE_gp"
         },
         {
          "PRICE": 21.1,
          "row_nr": 270,
          "value": 22.006163866647338,
          "variable": "PRICE_lin"
         },
         {
          "PRICE": 25.2,
          "row_nr": 271,
          "value": 25.199999997480003,
          "variable": "PRICE_gp"
         },
         {
          "PRICE": 25.2,
          "row_nr": 271,
          "value": 27.249056643100026,
          "variable": "PRICE_lin"
         },
         {
          "PRICE": 24.4,
          "row_nr": 272,
          "value": 28.56421716528988,
          "variable": "PRICE_lin"
         },
         {
          "PRICE": 24.4,
          "row_nr": 272,
          "value": 7.239087365267565e-12,
          "variable": "PRICE_gp"
         },
         {
          "PRICE": 35.2,
          "row_nr": 273,
          "value": 34.79227807116192,
          "variable": "PRICE_lin"
         },
         {
          "PRICE": 35.2,
          "row_nr": 273,
          "value": 35.19999999648,
          "variable": "PRICE_gp"
         },
         {
          "PRICE": 32.4,
          "row_nr": 274,
          "value": 34.873240141438934,
          "variable": "PRICE_lin"
         },
         {
          "PRICE": 32.4,
          "row_nr": 274,
          "value": 0.01518594213309065,
          "variable": "PRICE_gp"
         },
         {
          "PRICE": 32,
          "row_nr": 275,
          "value": 34.044730764728804,
          "variable": "PRICE_lin"
         },
         {
          "PRICE": 32,
          "row_nr": 275,
          "value": 1.2779485736843988e-22,
          "variable": "PRICE_gp"
         },
         {
          "PRICE": 33.2,
          "row_nr": 276,
          "value": 33.199999996680006,
          "variable": "PRICE_gp"
         },
         {
          "PRICE": 33.2,
          "row_nr": 276,
          "value": 34.656486054158364,
          "variable": "PRICE_lin"
         },
         {
          "PRICE": 33.1,
          "row_nr": 277,
          "value": 33.7316133068057,
          "variable": "PRICE_lin"
         },
         {
          "PRICE": 33.1,
          "row_nr": 277,
          "value": 33.099999996689995,
          "variable": "PRICE_gp"
         },
         {
          "PRICE": 29.1,
          "row_nr": 278,
          "value": 30.33402491175363,
          "variable": "PRICE_lin"
         },
         {
          "PRICE": 29.1,
          "row_nr": 278,
          "value": 29.099999997090002,
          "variable": "PRICE_gp"
         },
         {
          "PRICE": 35.1,
          "row_nr": 279,
          "value": 35.215816672821646,
          "variable": "PRICE_lin"
         },
         {
          "PRICE": 35.1,
          "row_nr": 279,
          "value": 35.099999996490006,
          "variable": "PRICE_gp"
         },
         {
          "PRICE": 45.4,
          "row_nr": 280,
          "value": 7.39968902557139e-27,
          "variable": "PRICE_gp"
         },
         {
          "PRICE": 45.4,
          "row_nr": 280,
          "value": 39.2676947813722,
          "variable": "PRICE_lin"
         },
         {
          "PRICE": 35.4,
          "row_nr": 281,
          "value": 35.399999996460004,
          "variable": "PRICE_gp"
         },
         {
          "PRICE": 35.4,
          "row_nr": 281,
          "value": 34.44687201404064,
          "variable": "PRICE_lin"
         },
         {
          "PRICE": 46,
          "row_nr": 282,
          "value": 3.637552247946244e-61,
          "variable": "PRICE_gp"
         },
         {
          "PRICE": 46,
          "row_nr": 282,
          "value": 39.42064642459452,
          "variable": "PRICE_lin"
         },
         {
          "PRICE": 50,
          "row_nr": 283,
          "value": 43.89324672923506,
          "variable": "PRICE_lin"
         },
         {
          "PRICE": 50,
          "row_nr": 283,
          "value": 49.999999994999996,
          "variable": "PRICE_gp"
         },
         {
          "PRICE": 32.2,
          "row_nr": 284,
          "value": 1.3532642284266606e-50,
          "variable": "PRICE_gp"
         },
         {
          "PRICE": 32.2,
          "row_nr": 284,
          "value": 31.993117166759852,
          "variable": "PRICE_lin"
         },
         {
          "PRICE": 22,
          "row_nr": 285,
          "value": 27.300478724334283,
          "variable": "PRICE_lin"
         },
         {
          "PRICE": 22,
          "row_nr": 285,
          "value": 1.3949019167155935e-20,
          "variable": "PRICE_gp"
         },
         {
          "PRICE": 20.1,
          "row_nr": 286,
          "value": 20.099999997990004,
          "variable": "PRICE_gp"
         },
         {
          "PRICE": 20.1,
          "row_nr": 286,
          "value": 20.283025221727197,
          "variable": "PRICE_lin"
         },
         {
          "PRICE": 23.2,
          "row_nr": 287,
          "value": 23.19999999768,
          "variable": "PRICE_gp"
         },
         {
          "PRICE": 23.2,
          "row_nr": 287,
          "value": 27.002891885271286,
          "variable": "PRICE_lin"
         },
         {
          "PRICE": 22.3,
          "row_nr": 288,
          "value": 27.19590816535266,
          "variable": "PRICE_lin"
         },
         {
          "PRICE": 22.3,
          "row_nr": 288,
          "value": 8.178040074897304e-44,
          "variable": "PRICE_gp"
         },
         {
          "PRICE": 24.8,
          "row_nr": 289,
          "value": 24.79999999752,
          "variable": "PRICE_gp"
         },
         {
          "PRICE": 24.8,
          "row_nr": 289,
          "value": 27.077790131522804,
          "variable": "PRICE_lin"
         },
         {
          "PRICE": 28.5,
          "row_nr": 290,
          "value": 28.500000003471392,
          "variable": "PRICE_gp"
         },
         {
          "PRICE": 28.5,
          "row_nr": 290,
          "value": 33.75748639639616,
          "variable": "PRICE_lin"
         },
         {
          "PRICE": 37.3,
          "row_nr": 291,
          "value": 37.29999999309305,
          "variable": "PRICE_gp"
         },
         {
          "PRICE": 37.3,
          "row_nr": 291,
          "value": 34.868028924904436,
          "variable": "PRICE_lin"
         },
         {
          "PRICE": 27.9,
          "row_nr": 292,
          "value": 27.899999997210255,
          "variable": "PRICE_gp"
         },
         {
          "PRICE": 27.9,
          "row_nr": 292,
          "value": 32.01894584708904,
          "variable": "PRICE_lin"
         },
         {
          "PRICE": 23.9,
          "row_nr": 293,
          "value": 23.899999997609996,
          "variable": "PRICE_gp"
         },
         {
          "PRICE": 23.9,
          "row_nr": 293,
          "value": 25.969393110294526,
          "variable": "PRICE_lin"
         },
         {
          "PRICE": 21.7,
          "row_nr": 294,
          "value": 24.446611327146382,
          "variable": "PRICE_lin"
         },
         {
          "PRICE": 21.7,
          "row_nr": 294,
          "value": 21.69999999783,
          "variable": "PRICE_gp"
         },
         {
          "PRICE": 28.6,
          "row_nr": 295,
          "value": 28.9634268904392,
          "variable": "PRICE_lin"
         },
         {
          "PRICE": 28.6,
          "row_nr": 295,
          "value": 28.599999997140003,
          "variable": "PRICE_gp"
         },
         {
          "PRICE": 27.1,
          "row_nr": 296,
          "value": 27.75584256839125,
          "variable": "PRICE_lin"
         },
         {
          "PRICE": 27.1,
          "row_nr": 296,
          "value": 27.09999999729,
          "variable": "PRICE_gp"
         },
         {
          "PRICE": 20.3,
          "row_nr": 297,
          "value": 20.29999999797,
          "variable": "PRICE_gp"
         },
         {
          "PRICE": 20.3,
          "row_nr": 297,
          "value": 19.404745118200537,
          "variable": "PRICE_lin"
         },
         {
          "PRICE": 22.5,
          "row_nr": 298,
          "value": 29.107485190546335,
          "variable": "PRICE_lin"
         },
         {
          "PRICE": 22.5,
          "row_nr": 298,
          "value": 22.499999997750002,
          "variable": "PRICE_gp"
         },
         {
          "PRICE": 29,
          "row_nr": 299,
          "value": 28.999999997099998,
          "variable": "PRICE_gp"
         },
         {
          "PRICE": 29,
          "row_nr": 299,
          "value": 32.273984159374095,
          "variable": "PRICE_lin"
         },
         {
          "PRICE": 24.8,
          "row_nr": 300,
          "value": 30.920177061149037,
          "variable": "PRICE_lin"
         },
         {
          "PRICE": 24.8,
          "row_nr": 300,
          "value": 24.79999999752,
          "variable": "PRICE_gp"
         },
         {
          "PRICE": 22,
          "row_nr": 301,
          "value": 21.999999997800003,
          "variable": "PRICE_gp"
         },
         {
          "PRICE": 22,
          "row_nr": 301,
          "value": 28.863784955434213,
          "variable": "PRICE_lin"
         },
         {
          "PRICE": 26.4,
          "row_nr": 302,
          "value": 26.39999999736,
          "variable": "PRICE_gp"
         },
         {
          "PRICE": 26.4,
          "row_nr": 302,
          "value": 28.8329467052786,
          "variable": "PRICE_lin"
         },
         {
          "PRICE": 33.1,
          "row_nr": 303,
          "value": 33.099999996689995,
          "variable": "PRICE_gp"
         },
         {
          "PRICE": 33.1,
          "row_nr": 303,
          "value": 33.057712833054275,
          "variable": "PRICE_lin"
         },
         {
          "PRICE": 36.1,
          "row_nr": 304,
          "value": 36.099999996390004,
          "variable": "PRICE_gp"
         },
         {
          "PRICE": 36.1,
          "row_nr": 304,
          "value": 33.392817712952606,
          "variable": "PRICE_lin"
         },
         {
          "PRICE": 28.4,
          "row_nr": 305,
          "value": 30.498712255441355,
          "variable": "PRICE_lin"
         },
         {
          "PRICE": 28.4,
          "row_nr": 305,
          "value": 28.399999997160002,
          "variable": "PRICE_gp"
         },
         {
          "PRICE": 33.4,
          "row_nr": 306,
          "value": 35.689422053485885,
          "variable": "PRICE_lin"
         },
         {
          "PRICE": 33.4,
          "row_nr": 306,
          "value": 33.399999996984064,
          "variable": "PRICE_gp"
         },
         {
          "PRICE": 28.2,
          "row_nr": 307,
          "value": 32.53651370893355,
          "variable": "PRICE_lin"
         },
         {
          "PRICE": 28.2,
          "row_nr": 307,
          "value": 28.19999999758465,
          "variable": "PRICE_gp"
         },
         {
          "PRICE": 22.8,
          "row_nr": 308,
          "value": 28.934204876179546,
          "variable": "PRICE_lin"
         },
         {
          "PRICE": 22.8,
          "row_nr": 308,
          "value": 1.5851207871048825e-09,
          "variable": "PRICE_gp"
         },
         {
          "PRICE": 20.3,
          "row_nr": 309,
          "value": 23.426259712336787,
          "variable": "PRICE_lin"
         },
         {
          "PRICE": 20.3,
          "row_nr": 309,
          "value": 20.29999999814315,
          "variable": "PRICE_gp"
         },
         {
          "PRICE": 16.1,
          "row_nr": 310,
          "value": 16.099999998390004,
          "variable": "PRICE_gp"
         },
         {
          "PRICE": 16.1,
          "row_nr": 310,
          "value": 17.936900171451622,
          "variable": "PRICE_lin"
         },
         {
          "PRICE": 22.1,
          "row_nr": 311,
          "value": 22.09999999779,
          "variable": "PRICE_gp"
         },
         {
          "PRICE": 22.1,
          "row_nr": 311,
          "value": 26.859917237294965,
          "variable": "PRICE_lin"
         },
         {
          "PRICE": 19.4,
          "row_nr": 312,
          "value": 23.057366556651825,
          "variable": "PRICE_lin"
         },
         {
          "PRICE": 19.4,
          "row_nr": 312,
          "value": 19.399999998060522,
          "variable": "PRICE_gp"
         },
         {
          "PRICE": 21.6,
          "row_nr": 313,
          "value": 25.584259764637192,
          "variable": "PRICE_lin"
         },
         {
          "PRICE": 21.6,
          "row_nr": 313,
          "value": 2.345140959108501e-05,
          "variable": "PRICE_gp"
         },
         {
          "PRICE": 23.8,
          "row_nr": 314,
          "value": 25.67265053961834,
          "variable": "PRICE_lin"
         },
         {
          "PRICE": 23.8,
          "row_nr": 314,
          "value": 23.79999999762043,
          "variable": "PRICE_gp"
         },
         {
          "PRICE": 16.2,
          "row_nr": 315,
          "value": 16.199999998611563,
          "variable": "PRICE_gp"
         },
         {
          "PRICE": 16.2,
          "row_nr": 315,
          "value": 20.299855991025737,
          "variable": "PRICE_lin"
         },
         {
          "PRICE": 17.8,
          "row_nr": 316,
          "value": 17.79999999822,
          "variable": "PRICE_gp"
         },
         {
          "PRICE": 17.8,
          "row_nr": 316,
          "value": 17.362252205839447,
          "variable": "PRICE_lin"
         },
         {
          "PRICE": 19.8,
          "row_nr": 317,
          "value": 3.846396616338334e-11,
          "variable": "PRICE_gp"
         },
         {
          "PRICE": 19.8,
          "row_nr": 317,
          "value": 18.109785754703704,
          "variable": "PRICE_lin"
         },
         {
          "PRICE": 23.1,
          "row_nr": 318,
          "value": 24.39455160950826,
          "variable": "PRICE_lin"
         },
         {
          "PRICE": 23.1,
          "row_nr": 318,
          "value": 23.09999999769,
          "variable": "PRICE_gp"
         },
         {
          "PRICE": 21,
          "row_nr": 319,
          "value": 21.310930007516205,
          "variable": "PRICE_lin"
         },
         {
          "PRICE": 21,
          "row_nr": 319,
          "value": 20.999999997899998,
          "variable": "PRICE_gp"
         },
         {
          "PRICE": 23.8,
          "row_nr": 320,
          "value": 3.864222179209294,
          "variable": "PRICE_gp"
         },
         {
          "PRICE": 23.8,
          "row_nr": 320,
          "value": 25.00158928685442,
          "variable": "PRICE_lin"
         },
         {
          "PRICE": 23.1,
          "row_nr": 321,
          "value": 24.961713409194687,
          "variable": "PRICE_lin"
         },
         {
          "PRICE": 23.1,
          "row_nr": 321,
          "value": 23.099999997690084,
          "variable": "PRICE_gp"
         },
         {
          "PRICE": 20.4,
          "row_nr": 322,
          "value": 22.80400318053278,
          "variable": "PRICE_lin"
         },
         {
          "PRICE": 20.4,
          "row_nr": 322,
          "value": 20.39999999796009,
          "variable": "PRICE_gp"
         },
         {
          "PRICE": 18.5,
          "row_nr": 323,
          "value": 19.109669218319578,
          "variable": "PRICE_lin"
         },
         {
          "PRICE": 18.5,
          "row_nr": 323,
          "value": 18.499999998150003,
          "variable": "PRICE_gp"
         },
         {
          "PRICE": 25,
          "row_nr": 324,
          "value": 25.28935214776529,
          "variable": "PRICE_lin"
         },
         {
          "PRICE": 25,
          "row_nr": 324,
          "value": 24.999999997499998,
          "variable": "PRICE_gp"
         },
         {
          "PRICE": 24.6,
          "row_nr": 325,
          "value": 24.991299321507505,
          "variable": "PRICE_lin"
         },
         {
          "PRICE": 24.6,
          "row_nr": 325,
          "value": 24.599999997540003,
          "variable": "PRICE_gp"
         },
         {
          "PRICE": 23,
          "row_nr": 326,
          "value": 22.9999999977,
          "variable": "PRICE_gp"
         },
         {
          "PRICE": 23,
          "row_nr": 326,
          "value": 23.89372288086112,
          "variable": "PRICE_lin"
         },
         {
          "PRICE": 22.2,
          "row_nr": 327,
          "value": 19.285410148388728,
          "variable": "PRICE_lin"
         },
         {
          "PRICE": 22.2,
          "row_nr": 327,
          "value": 6.39542855301255e-12,
          "variable": "PRICE_gp"
         },
         {
          "PRICE": 19.3,
          "row_nr": 328,
          "value": 19.299999998070003,
          "variable": "PRICE_gp"
         },
         {
          "PRICE": 19.3,
          "row_nr": 328,
          "value": 20.686974026148977,
          "variable": "PRICE_lin"
         },
         {
          "PRICE": 22.6,
          "row_nr": 329,
          "value": 22.59999999774,
          "variable": "PRICE_gp"
         },
         {
          "PRICE": 22.6,
          "row_nr": 329,
          "value": 24.081878606079524,
          "variable": "PRICE_lin"
         },
         {
          "PRICE": 19.8,
          "row_nr": 330,
          "value": 19.799999998020002,
          "variable": "PRICE_gp"
         },
         {
          "PRICE": 19.8,
          "row_nr": 330,
          "value": 21.353118489043005,
          "variable": "PRICE_lin"
         },
         {
          "PRICE": 17.1,
          "row_nr": 331,
          "value": 17.099999998290002,
          "variable": "PRICE_gp"
         },
         {
          "PRICE": 17.1,
          "row_nr": 331,
          "value": 19.730767316328954,
          "variable": "PRICE_lin"
         },
         {
          "PRICE": 19.4,
          "row_nr": 332,
          "value": 1.7494246760607904e-83,
          "variable": "PRICE_gp"
         },
         {
          "PRICE": 19.4,
          "row_nr": 332,
          "value": 23.41308160178522,
          "variable": "PRICE_lin"
         },
         {
          "PRICE": 22.2,
          "row_nr": 333,
          "value": 22.47495474500666,
          "variable": "PRICE_lin"
         },
         {
          "PRICE": 22.2,
          "row_nr": 333,
          "value": 10.27306322733141,
          "variable": "PRICE_gp"
         },
         {
          "PRICE": 20.7,
          "row_nr": 334,
          "value": 21.86587786301557,
          "variable": "PRICE_lin"
         },
         {
          "PRICE": 20.7,
          "row_nr": 334,
          "value": 20.699999997929996,
          "variable": "PRICE_gp"
         },
         {
          "PRICE": 21.1,
          "row_nr": 335,
          "value": 20.705565177682654,
          "variable": "PRICE_lin"
         },
         {
          "PRICE": 21.1,
          "row_nr": 335,
          "value": 21.099999997903485,
          "variable": "PRICE_gp"
         },
         {
          "PRICE": 19.5,
          "row_nr": 336,
          "value": 20.025657038164848,
          "variable": "PRICE_lin"
         },
         {
          "PRICE": 19.5,
          "row_nr": 336,
          "value": 19.499999998737703,
          "variable": "PRICE_gp"
         },
         {
          "PRICE": 18.5,
          "row_nr": 337,
          "value": 0.37069765258117887,
          "variable": "PRICE_gp"
         },
         {
          "PRICE": 18.5,
          "row_nr": 337,
          "value": 19.172532438870583,
          "variable": "PRICE_lin"
         },
         {
          "PRICE": 20.6,
          "row_nr": 338,
          "value": 22.123544906097962,
          "variable": "PRICE_lin"
         },
         {
          "PRICE": 20.6,
          "row_nr": 338,
          "value": 20.59999999795382,
          "variable": "PRICE_gp"
         },
         {
          "PRICE": 19,
          "row_nr": 339,
          "value": 18.999999998864492,
          "variable": "PRICE_gp"
         },
         {
          "PRICE": 19,
          "row_nr": 339,
          "value": 21.130413767312735,
          "variable": "PRICE_lin"
         },
         {
          "PRICE": 18.7,
          "row_nr": 340,
          "value": 21.288198440209243,
          "variable": "PRICE_lin"
         },
         {
          "PRICE": 18.7,
          "row_nr": 340,
          "value": 18.69999999813,
          "variable": "PRICE_gp"
         },
         {
          "PRICE": 32.7,
          "row_nr": 341,
          "value": 30.7477881174905,
          "variable": "PRICE_lin"
         },
         {
          "PRICE": 32.7,
          "row_nr": 341,
          "value": 32.69999999673,
          "variable": "PRICE_gp"
         },
         {
          "PRICE": 16.5,
          "row_nr": 342,
          "value": 22.069682888818075,
          "variable": "PRICE_lin"
         },
         {
          "PRICE": 16.5,
          "row_nr": 342,
          "value": 16.49999999835,
          "variable": "PRICE_gp"
         },
         {
          "PRICE": 23.9,
          "row_nr": 343,
          "value": 23.899999997609996,
          "variable": "PRICE_gp"
         },
         {
          "PRICE": 23.9,
          "row_nr": 343,
          "value": 27.84027497930175,
          "variable": "PRICE_lin"
         },
         {
          "PRICE": 31.2,
          "row_nr": 344,
          "value": 28.96776172829892,
          "variable": "PRICE_lin"
         },
         {
          "PRICE": 31.2,
          "row_nr": 344,
          "value": 31.19999999688,
          "variable": "PRICE_gp"
         },
         {
          "PRICE": 17.5,
          "row_nr": 345,
          "value": 1.165822054038391e-99,
          "variable": "PRICE_gp"
         },
         {
          "PRICE": 17.5,
          "row_nr": 345,
          "value": 16.52414364907538,
          "variable": "PRICE_lin"
         },
         {
          "PRICE": 17.2,
          "row_nr": 346,
          "value": 17.199999998280003,
          "variable": "PRICE_gp"
         },
         {
          "PRICE": 17.2,
          "row_nr": 346,
          "value": 14.700659321588777,
          "variable": "PRICE_lin"
         },
         {
          "PRICE": 23.1,
          "row_nr": 347,
          "value": 23.09999999769,
          "variable": "PRICE_gp"
         },
         {
          "PRICE": 23.1,
          "row_nr": 347,
          "value": 25.660459432546137,
          "variable": "PRICE_lin"
         },
         {
          "PRICE": 24.5,
          "row_nr": 348,
          "value": 27.878678270315433,
          "variable": "PRICE_lin"
         },
         {
          "PRICE": 24.5,
          "row_nr": 348,
          "value": 24.49999999755,
          "variable": "PRICE_gp"
         },
         {
          "PRICE": 26.6,
          "row_nr": 349,
          "value": 26.59999999734,
          "variable": "PRICE_gp"
         },
         {
          "PRICE": 26.6,
          "row_nr": 349,
          "value": 22.740596070514968,
          "variable": "PRICE_lin"
         },
         {
          "PRICE": 22.9,
          "row_nr": 350,
          "value": 22.899999997709998,
          "variable": "PRICE_gp"
         },
         {
          "PRICE": 22.9,
          "row_nr": 350,
          "value": 20.790081106205903,
          "variable": "PRICE_lin"
         },
         {
          "PRICE": 24.1,
          "row_nr": 351,
          "value": 21.059811259782755,
          "variable": "PRICE_lin"
         },
         {
          "PRICE": 24.1,
          "row_nr": 351,
          "value": 24.099999997590004,
          "variable": "PRICE_gp"
         },
         {
          "PRICE": 18.6,
          "row_nr": 352,
          "value": 18.59999999814,
          "variable": "PRICE_gp"
         },
         {
          "PRICE": 18.6,
          "row_nr": 352,
          "value": 16.980375911607943,
          "variable": "PRICE_lin"
         },
         {
          "PRICE": 30.1,
          "row_nr": 353,
          "value": 30.09999999699,
          "variable": "PRICE_gp"
         },
         {
          "PRICE": 30.1,
          "row_nr": 353,
          "value": 26.203564106313994,
          "variable": "PRICE_lin"
         },
         {
          "PRICE": 18.2,
          "row_nr": 354,
          "value": 14.521204996727441,
          "variable": "PRICE_lin"
         },
         {
          "PRICE": 18.2,
          "row_nr": 354,
          "value": 18.19999999818,
          "variable": "PRICE_gp"
         },
         {
          "PRICE": 20.6,
          "row_nr": 355,
          "value": 20.599999997940003,
          "variable": "PRICE_gp"
         },
         {
          "PRICE": 20.6,
          "row_nr": 355,
          "value": 16.99630508713254,
          "variable": "PRICE_lin"
         },
         {
          "PRICE": 17.8,
          "row_nr": 356,
          "value": 17.799999998227904,
          "variable": "PRICE_gp"
         },
         {
          "PRICE": 17.8,
          "row_nr": 356,
          "value": 18.397761448011657,
          "variable": "PRICE_lin"
         },
         {
          "PRICE": 21.7,
          "row_nr": 357,
          "value": 21.631448878721933,
          "variable": "PRICE_lin"
         },
         {
          "PRICE": 21.7,
          "row_nr": 357,
          "value": 21.699999997844028,
          "variable": "PRICE_gp"
         },
         {
          "PRICE": 22.7,
          "row_nr": 358,
          "value": 22.69999999773448,
          "variable": "PRICE_gp"
         },
         {
          "PRICE": 22.7,
          "row_nr": 358,
          "value": 21.05348395914148,
          "variable": "PRICE_lin"
         },
         {
          "PRICE": 22.6,
          "row_nr": 359,
          "value": 22.59999999774135,
          "variable": "PRICE_gp"
         },
         {
          "PRICE": 22.6,
          "row_nr": 359,
          "value": 19.424891650338623,
          "variable": "PRICE_lin"
         },
         {
          "PRICE": 25,
          "row_nr": 360,
          "value": 23.150388658938095,
          "variable": "PRICE_lin"
         },
         {
          "PRICE": 25,
          "row_nr": 360,
          "value": 24.999999997499998,
          "variable": "PRICE_gp"
         },
         {
          "PRICE": 19.9,
          "row_nr": 361,
          "value": 19.233197187908438,
          "variable": "PRICE_lin"
         },
         {
          "PRICE": 19.9,
          "row_nr": 361,
          "value": 19.899999998014525,
          "variable": "PRICE_gp"
         },
         {
          "PRICE": 20.8,
          "row_nr": 362,
          "value": 20.79999999792,
          "variable": "PRICE_gp"
         },
         {
          "PRICE": 20.8,
          "row_nr": 362,
          "value": 18.058739795473286,
          "variable": "PRICE_lin"
         },
         {
          "PRICE": 16.8,
          "row_nr": 363,
          "value": 18.8378770626665,
          "variable": "PRICE_lin"
         },
         {
          "PRICE": 16.8,
          "row_nr": 363,
          "value": 16.799999998325365,
          "variable": "PRICE_gp"
         },
         {
          "PRICE": 21.9,
          "row_nr": 364,
          "value": 37.67724151771611,
          "variable": "PRICE_lin"
         },
         {
          "PRICE": 21.9,
          "row_nr": 364,
          "value": 7.486654469465824e-12,
          "variable": "PRICE_gp"
         },
         {
          "PRICE": 27.5,
          "row_nr": 365,
          "value": 27.49999999725,
          "variable": "PRICE_gp"
         },
         {
          "PRICE": 27.5,
          "row_nr": 365,
          "value": 13.155644739615656,
          "variable": "PRICE_lin"
         },
         {
          "PRICE": 21.9,
          "row_nr": 366,
          "value": 15.082570644447909,
          "variable": "PRICE_lin"
         },
         {
          "PRICE": 21.9,
          "row_nr": 366,
          "value": 21.89999999781,
          "variable": "PRICE_gp"
         },
         {
          "PRICE": 23.1,
          "row_nr": 367,
          "value": 23.09999999769,
          "variable": "PRICE_gp"
         },
         {
          "PRICE": 23.1,
          "row_nr": 367,
          "value": 10.058282155882239,
          "variable": "PRICE_lin"
         },
         {
          "PRICE": 50,
          "row_nr": 368,
          "value": 23.175164632755415,
          "variable": "PRICE_lin"
         },
         {
          "PRICE": 50,
          "row_nr": 368,
          "value": 49.999999994999996,
          "variable": "PRICE_gp"
         },
         {
          "PRICE": 50,
          "row_nr": 369,
          "value": 0.027275645983053105,
          "variable": "PRICE_gp"
         },
         {
          "PRICE": 50,
          "row_nr": 369,
          "value": 31.48120598762562,
          "variable": "PRICE_lin"
         },
         {
          "PRICE": 50,
          "row_nr": 370,
          "value": 33.583445229745905,
          "variable": "PRICE_lin"
         },
         {
          "PRICE": 50,
          "row_nr": 370,
          "value": 49.999999994999996,
          "variable": "PRICE_gp"
         },
         {
          "PRICE": 50,
          "row_nr": 371,
          "value": 24.875246505836074,
          "variable": "PRICE_lin"
         },
         {
          "PRICE": 50,
          "row_nr": 371,
          "value": 49.999999994999996,
          "variable": "PRICE_gp"
         },
         {
          "PRICE": 50,
          "row_nr": 372,
          "value": 24.480337476032776,
          "variable": "PRICE_lin"
         },
         {
          "PRICE": 50,
          "row_nr": 372,
          "value": 1.6369896945946242e-12,
          "variable": "PRICE_gp"
         },
         {
          "PRICE": 13.8,
          "row_nr": 373,
          "value": 4.948715331968568,
          "variable": "PRICE_lin"
         },
         {
          "PRICE": 13.8,
          "row_nr": 373,
          "value": 13.799999998620002,
          "variable": "PRICE_gp"
         },
         {
          "PRICE": 13.8,
          "row_nr": 374,
          "value": -0.7882078246539592,
          "variable": "PRICE_lin"
         },
         {
          "PRICE": 13.8,
          "row_nr": 374,
          "value": 1.1407370123181727e-12,
          "variable": "PRICE_gp"
         },
         {
          "PRICE": 15,
          "row_nr": 375,
          "value": 1.1820834989697925e-12,
          "variable": "PRICE_gp"
         },
         {
          "PRICE": 15,
          "row_nr": 375,
          "value": 25.866943553603463,
          "variable": "PRICE_lin"
         },
         {
          "PRICE": 13.9,
          "row_nr": 376,
          "value": 17.817064687103823,
          "variable": "PRICE_lin"
         },
         {
          "PRICE": 13.9,
          "row_nr": 376,
          "value": 1.973285191735862e-28,
          "variable": "PRICE_gp"
         },
         {
          "PRICE": 13.3,
          "row_nr": 377,
          "value": 13.299999998687548,
          "variable": "PRICE_gp"
         },
         {
          "PRICE": 13.3,
          "row_nr": 377,
          "value": 20.292371511228517,
          "variable": "PRICE_lin"
         },
         {
          "PRICE": 13.1,
          "row_nr": 378,
          "value": 13.099999998690109,
          "variable": "PRICE_gp"
         },
         {
          "PRICE": 13.1,
          "row_nr": 378,
          "value": 15.770113675418038,
          "variable": "PRICE_lin"
         },
         {
          "PRICE": 10.2,
          "row_nr": 379,
          "value": 10.199999998980468,
          "variable": "PRICE_gp"
         },
         {
          "PRICE": 10.2,
          "row_nr": 379,
          "value": 16.67517801700473,
          "variable": "PRICE_lin"
         },
         {
          "PRICE": 10.4,
          "row_nr": 380,
          "value": 15.342577491992188,
          "variable": "PRICE_lin"
         },
         {
          "PRICE": 10.4,
          "row_nr": 380,
          "value": 10.39999999896,
          "variable": "PRICE_gp"
         },
         {
          "PRICE": 10.9,
          "row_nr": 381,
          "value": 18.485498075656146,
          "variable": "PRICE_lin"
         },
         {
          "PRICE": 10.9,
          "row_nr": 381,
          "value": 10.899999998985887,
          "variable": "PRICE_gp"
         },
         {
          "PRICE": 11.3,
          "row_nr": 382,
          "value": 12.884149278865166,
          "variable": "PRICE_lin"
         },
         {
          "PRICE": 11.3,
          "row_nr": 382,
          "value": 11.299999998884298,
          "variable": "PRICE_gp"
         },
         {
          "PRICE": 12.3,
          "row_nr": 383,
          "value": 3.4459325330080675,
          "variable": "PRICE_gp"
         },
         {
          "PRICE": 12.3,
          "row_nr": 383,
          "value": 12.47561892186961,
          "variable": "PRICE_lin"
         },
         {
          "PRICE": 8.8,
          "row_nr": 384,
          "value": 2.33782850380819,
          "variable": "PRICE_lin"
         },
         {
          "PRICE": 8.8,
          "row_nr": 384,
          "value": 5.504314168564479e-121,
          "variable": "PRICE_gp"
         },
         {
          "PRICE": 7.2,
          "row_nr": 385,
          "value": 7.303980199263364,
          "variable": "PRICE_lin"
         },
         {
          "PRICE": 7.2,
          "row_nr": 385,
          "value": 7.199999999279999,
          "variable": "PRICE_gp"
         },
         {
          "PRICE": 10.5,
          "row_nr": 386,
          "value": 10.499999998997842,
          "variable": "PRICE_gp"
         },
         {
          "PRICE": 10.5,
          "row_nr": 386,
          "value": 5.172913052105333,
          "variable": "PRICE_lin"
         },
         {
          "PRICE": 7.4,
          "row_nr": 387,
          "value": 4.776556617417292,
          "variable": "PRICE_lin"
         },
         {
          "PRICE": 7.4,
          "row_nr": 387,
          "value": 7.39999999926,
          "variable": "PRICE_gp"
         },
         {
          "PRICE": 10.2,
          "row_nr": 388,
          "value": 5.538873397267025,
          "variable": "PRICE_lin"
         },
         {
          "PRICE": 10.2,
          "row_nr": 388,
          "value": 10.199999998980001,
          "variable": "PRICE_gp"
         },
         {
          "PRICE": 11.5,
          "row_nr": 389,
          "value": 13.650500172176997,
          "variable": "PRICE_lin"
         },
         {
          "PRICE": 11.5,
          "row_nr": 389,
          "value": 1.2357268134240855,
          "variable": "PRICE_gp"
         },
         {
          "PRICE": 15.1,
          "row_nr": 390,
          "value": 16.910061937577897,
          "variable": "PRICE_lin"
         },
         {
          "PRICE": 15.1,
          "row_nr": 390,
          "value": 15.099999998497546,
          "variable": "PRICE_gp"
         },
         {
          "PRICE": 23.2,
          "row_nr": 391,
          "value": 23.19999999768,
          "variable": "PRICE_gp"
         },
         {
          "PRICE": 23.2,
          "row_nr": 391,
          "value": 17.206388684304326,
          "variable": "PRICE_lin"
         },
         {
          "PRICE": 9.7,
          "row_nr": 392,
          "value": 9.699999999030085,
          "variable": "PRICE_gp"
         },
         {
          "PRICE": 9.7,
          "row_nr": 392,
          "value": 9.100971678859839,
          "variable": "PRICE_lin"
         },
         {
          "PRICE": 13.8,
          "row_nr": 393,
          "value": 13.799999998620002,
          "variable": "PRICE_gp"
         },
         {
          "PRICE": 13.8,
          "row_nr": 393,
          "value": 20.187498281126903,
          "variable": "PRICE_lin"
         },
         {
          "PRICE": 12.7,
          "row_nr": 394,
          "value": 17.768560764331248,
          "variable": "PRICE_lin"
         },
         {
          "PRICE": 12.7,
          "row_nr": 394,
          "value": 12.69999999873,
          "variable": "PRICE_gp"
         },
         {
          "PRICE": 13.1,
          "row_nr": 395,
          "value": 20.368712354729503,
          "variable": "PRICE_lin"
         },
         {
          "PRICE": 13.1,
          "row_nr": 395,
          "value": 13.099999998696276,
          "variable": "PRICE_gp"
         },
         {
          "PRICE": 12.5,
          "row_nr": 396,
          "value": 19.246212581921057,
          "variable": "PRICE_lin"
         },
         {
          "PRICE": 12.5,
          "row_nr": 396,
          "value": 12.49999999877989,
          "variable": "PRICE_gp"
         },
         {
          "PRICE": 8.5,
          "row_nr": 397,
          "value": 15.955935042571433,
          "variable": "PRICE_lin"
         },
         {
          "PRICE": 8.5,
          "row_nr": 397,
          "value": 8.499999999157643,
          "variable": "PRICE_gp"
         },
         {
          "PRICE": 5,
          "row_nr": 398,
          "value": 4.9999999995,
          "variable": "PRICE_gp"
         },
         {
          "PRICE": 5,
          "row_nr": 398,
          "value": 6.075559990148069,
          "variable": "PRICE_lin"
         },
         {
          "PRICE": 6.3,
          "row_nr": 399,
          "value": 6.299999999370001,
          "variable": "PRICE_gp"
         },
         {
          "PRICE": 6.3,
          "row_nr": 399,
          "value": 10.528051602766194,
          "variable": "PRICE_lin"
         },
         {
          "PRICE": 5.6,
          "row_nr": 400,
          "value": 5.5999999995454885,
          "variable": "PRICE_gp"
         },
         {
          "PRICE": 5.6,
          "row_nr": 400,
          "value": 11.638557156874032,
          "variable": "PRICE_lin"
         },
         {
          "PRICE": 7.2,
          "row_nr": 401,
          "value": 17.771835969515152,
          "variable": "PRICE_lin"
         },
         {
          "PRICE": 7.2,
          "row_nr": 401,
          "value": 7.199999999409563,
          "variable": "PRICE_gp"
         },
         {
          "PRICE": 12.1,
          "row_nr": 402,
          "value": 18.26035237382549,
          "variable": "PRICE_lin"
         },
         {
          "PRICE": 12.1,
          "row_nr": 402,
          "value": 12.099999998790587,
          "variable": "PRICE_gp"
         },
         {
          "PRICE": 8.3,
          "row_nr": 403,
          "value": 12.561474457744861,
          "variable": "PRICE_lin"
         },
         {
          "PRICE": 8.3,
          "row_nr": 403,
          "value": 8.299999999170167,
          "variable": "PRICE_gp"
         },
         {
          "PRICE": 8.5,
          "row_nr": 404,
          "value": 8.499999999149999,
          "variable": "PRICE_gp"
         },
         {
          "PRICE": 8.5,
          "row_nr": 404,
          "value": 7.210264600741642,
          "variable": "PRICE_lin"
         },
         {
          "PRICE": 5,
          "row_nr": 405,
          "value": 4.9999999995,
          "variable": "PRICE_gp"
         },
         {
          "PRICE": 5,
          "row_nr": 405,
          "value": 8.287611125607754,
          "variable": "PRICE_lin"
         },
         {
          "PRICE": 11.9,
          "row_nr": 406,
          "value": 11.899999998810001,
          "variable": "PRICE_gp"
         },
         {
          "PRICE": 11.9,
          "row_nr": 406,
          "value": 6.838629149854384,
          "variable": "PRICE_lin"
         },
         {
          "PRICE": 27.9,
          "row_nr": 407,
          "value": 2.467869183317754e-40,
          "variable": "PRICE_gp"
         },
         {
          "PRICE": 27.9,
          "row_nr": 407,
          "value": 19.728579413214078,
          "variable": "PRICE_lin"
         },
         {
          "PRICE": 17.2,
          "row_nr": 408,
          "value": 17.199999998280003,
          "variable": "PRICE_gp"
         },
         {
          "PRICE": 17.2,
          "row_nr": 408,
          "value": 13.06036832547327,
          "variable": "PRICE_lin"
         },
         {
          "PRICE": 27.5,
          "row_nr": 409,
          "value": 20.305836667521483,
          "variable": "PRICE_lin"
         },
         {
          "PRICE": 27.5,
          "row_nr": 409,
          "value": 27.49999999725,
          "variable": "PRICE_gp"
         },
         {
          "PRICE": 15,
          "row_nr": 410,
          "value": 16.00330022775172,
          "variable": "PRICE_lin"
         },
         {
          "PRICE": 15,
          "row_nr": 410,
          "value": 2.100300389981964e-174,
          "variable": "PRICE_gp"
         },
         {
          "PRICE": 17.2,
          "row_nr": 411,
          "value": 17.199999998280003,
          "variable": "PRICE_gp"
         },
         {
          "PRICE": 17.2,
          "row_nr": 411,
          "value": 17.59132484667196,
          "variable": "PRICE_lin"
         },
         {
          "PRICE": 17.9,
          "row_nr": 412,
          "value": 1.1242651990730437,
          "variable": "PRICE_lin"
         },
         {
          "PRICE": 17.9,
          "row_nr": 412,
          "value": 17.89999999821,
          "variable": "PRICE_gp"
         },
         {
          "PRICE": 16.3,
          "row_nr": 413,
          "value": 16.29999999837,
          "variable": "PRICE_gp"
         },
         {
          "PRICE": 16.3,
          "row_nr": 413,
          "value": 11.4667580456309,
          "variable": "PRICE_lin"
         },
         {
          "PRICE": 7,
          "row_nr": 414,
          "value": 6.9999999993,
          "variable": "PRICE_gp"
         },
         {
          "PRICE": 7,
          "row_nr": 414,
          "value": -4.624672018442183,
          "variable": "PRICE_lin"
         },
         {
          "PRICE": 7.2,
          "row_nr": 415,
          "value": 5.631994057394426e-07,
          "variable": "PRICE_gp"
         },
         {
          "PRICE": 7.2,
          "row_nr": 415,
          "value": 10.227126294447782,
          "variable": "PRICE_lin"
         },
         {
          "PRICE": 7.5,
          "row_nr": 416,
          "value": 14.20816196051192,
          "variable": "PRICE_lin"
         },
         {
          "PRICE": 7.5,
          "row_nr": 416,
          "value": 7.499999999250001,
          "variable": "PRICE_gp"
         },
         {
          "PRICE": 10.4,
          "row_nr": 417,
          "value": 10.39999999896,
          "variable": "PRICE_gp"
         },
         {
          "PRICE": 10.4,
          "row_nr": 417,
          "value": 6.870042097114528,
          "variable": "PRICE_lin"
         },
         {
          "PRICE": 8.8,
          "row_nr": 418,
          "value": 7.238569041206951,
          "variable": "PRICE_lin"
         },
         {
          "PRICE": 8.8,
          "row_nr": 418,
          "value": 8.79999999912,
          "variable": "PRICE_gp"
         },
         {
          "PRICE": 8.4,
          "row_nr": 419,
          "value": 15.591269392612901,
          "variable": "PRICE_lin"
         },
         {
          "PRICE": 8.4,
          "row_nr": 419,
          "value": 8.39999999916,
          "variable": "PRICE_gp"
         },
         {
          "PRICE": 16.7,
          "row_nr": 420,
          "value": 16.699999998329996,
          "variable": "PRICE_gp"
         },
         {
          "PRICE": 16.7,
          "row_nr": 420,
          "value": 19.918291820878217,
          "variable": "PRICE_lin"
         },
         {
          "PRICE": 14.2,
          "row_nr": 421,
          "value": 14.199999998580001,
          "variable": "PRICE_gp"
         },
         {
          "PRICE": 14.2,
          "row_nr": 421,
          "value": 18.192666166062985,
          "variable": "PRICE_lin"
         },
         {
          "PRICE": 20.8,
          "row_nr": 422,
          "value": 18.326135564728737,
          "variable": "PRICE_lin"
         },
         {
          "PRICE": 20.8,
          "row_nr": 422,
          "value": 9.374951361440534e-70,
          "variable": "PRICE_gp"
         },
         {
          "PRICE": 13.4,
          "row_nr": 423,
          "value": 13.399999998660002,
          "variable": "PRICE_gp"
         },
         {
          "PRICE": 13.4,
          "row_nr": 423,
          "value": 13.605521880767967,
          "variable": "PRICE_lin"
         },
         {
          "PRICE": 11.7,
          "row_nr": 424,
          "value": 14.872407144216801,
          "variable": "PRICE_lin"
         },
         {
          "PRICE": 11.7,
          "row_nr": 424,
          "value": 11.699999998829998,
          "variable": "PRICE_gp"
         },
         {
          "PRICE": 8.3,
          "row_nr": 425,
          "value": 10.417737609558209,
          "variable": "PRICE_lin"
         },
         {
          "PRICE": 8.3,
          "row_nr": 425,
          "value": 8.299999999170002,
          "variable": "PRICE_gp"
         },
         {
          "PRICE": 10.2,
          "row_nr": 426,
          "value": 16.757832699913397,
          "variable": "PRICE_lin"
         },
         {
          "PRICE": 10.2,
          "row_nr": 426,
          "value": 10.199999998980001,
          "variable": "PRICE_gp"
         },
         {
          "PRICE": 10.9,
          "row_nr": 427,
          "value": 15.113574014774493,
          "variable": "PRICE_lin"
         },
         {
          "PRICE": 10.9,
          "row_nr": 427,
          "value": 1.0572516585263646e-211,
          "variable": "PRICE_gp"
         },
         {
          "PRICE": 11,
          "row_nr": 428,
          "value": 14.725306293470943,
          "variable": "PRICE_lin"
         },
         {
          "PRICE": 11,
          "row_nr": 428,
          "value": 10.999999998900002,
          "variable": "PRICE_gp"
         },
         {
          "PRICE": 9.5,
          "row_nr": 429,
          "value": 13.62431041214003,
          "variable": "PRICE_lin"
         },
         {
          "PRICE": 9.5,
          "row_nr": 429,
          "value": 9.49999999905,
          "variable": "PRICE_gp"
         },
         {
          "PRICE": 14.5,
          "row_nr": 430,
          "value": 14.499999998549999,
          "variable": "PRICE_gp"
         },
         {
          "PRICE": 14.5,
          "row_nr": 430,
          "value": 18.599495133439763,
          "variable": "PRICE_lin"
         },
         {
          "PRICE": 14.1,
          "row_nr": 431,
          "value": 14.099999998589999,
          "variable": "PRICE_gp"
         },
         {
          "PRICE": 14.1,
          "row_nr": 431,
          "value": 19.352802075787977,
          "variable": "PRICE_lin"
         },
         {
          "PRICE": 16.1,
          "row_nr": 432,
          "value": 22.09920138135098,
          "variable": "PRICE_lin"
         },
         {
          "PRICE": 16.1,
          "row_nr": 432,
          "value": 3.830569232288361e-22,
          "variable": "PRICE_gp"
         },
         {
          "PRICE": 14.3,
          "row_nr": 433,
          "value": 14.299999998570001,
          "variable": "PRICE_gp"
         },
         {
          "PRICE": 14.3,
          "row_nr": 433,
          "value": 17.803603339169047,
          "variable": "PRICE_lin"
         },
         {
          "PRICE": 11.7,
          "row_nr": 434,
          "value": 16.69059355214503,
          "variable": "PRICE_lin"
         },
         {
          "PRICE": 11.7,
          "row_nr": 434,
          "value": 11.699999998829998,
          "variable": "PRICE_gp"
         },
         {
          "PRICE": 13.4,
          "row_nr": 435,
          "value": 14.15896776721203,
          "variable": "PRICE_lin"
         },
         {
          "PRICE": 13.4,
          "row_nr": 435,
          "value": 13.399999998660002,
          "variable": "PRICE_gp"
         },
         {
          "PRICE": 9.6,
          "row_nr": 436,
          "value": 15.52270591429675,
          "variable": "PRICE_lin"
         },
         {
          "PRICE": 9.6,
          "row_nr": 436,
          "value": 7.548132792783396e-24,
          "variable": "PRICE_gp"
         },
         {
          "PRICE": 8.7,
          "row_nr": 437,
          "value": 9.52825579959368,
          "variable": "PRICE_lin"
         },
         {
          "PRICE": 8.7,
          "row_nr": 437,
          "value": 8.69999999913,
          "variable": "PRICE_gp"
         },
         {
          "PRICE": 8.4,
          "row_nr": 438,
          "value": 5.19306740073451,
          "variable": "PRICE_lin"
         },
         {
          "PRICE": 8.4,
          "row_nr": 438,
          "value": 8.39999999916,
          "variable": "PRICE_gp"
         },
         {
          "PRICE": 12.8,
          "row_nr": 439,
          "value": 12.799999998720015,
          "variable": "PRICE_gp"
         },
         {
          "PRICE": 12.8,
          "row_nr": 439,
          "value": 12.712378319794318,
          "variable": "PRICE_lin"
         },
         {
          "PRICE": 10.5,
          "row_nr": 440,
          "value": 12.600546605832456,
          "variable": "PRICE_lin"
         },
         {
          "PRICE": 10.5,
          "row_nr": 440,
          "value": 2.1297159051550781e-10,
          "variable": "PRICE_gp"
         },
         {
          "PRICE": 17.1,
          "row_nr": 441,
          "value": 17.099999998290006,
          "variable": "PRICE_gp"
         },
         {
          "PRICE": 17.1,
          "row_nr": 441,
          "value": 17.450686782890266,
          "variable": "PRICE_lin"
         },
         {
          "PRICE": 18.4,
          "row_nr": 442,
          "value": 18.39999999816261,
          "variable": "PRICE_gp"
         },
         {
          "PRICE": 18.4,
          "row_nr": 442,
          "value": 18.787023732679103,
          "variable": "PRICE_lin"
         },
         {
          "PRICE": 15.4,
          "row_nr": 443,
          "value": 0.1943555017924931,
          "variable": "PRICE_gp"
         },
         {
          "PRICE": 15.4,
          "row_nr": 443,
          "value": 18.253587397118974,
          "variable": "PRICE_lin"
         },
         {
          "PRICE": 10.8,
          "row_nr": 444,
          "value": 11.621379378336016,
          "variable": "PRICE_lin"
         },
         {
          "PRICE": 10.8,
          "row_nr": 444,
          "value": 10.79999999892,
          "variable": "PRICE_gp"
         },
         {
          "PRICE": 11.8,
          "row_nr": 445,
          "value": 12.79087721306211,
          "variable": "PRICE_lin"
         },
         {
          "PRICE": 11.8,
          "row_nr": 445,
          "value": 11.799999998820002,
          "variable": "PRICE_gp"
         },
         {
          "PRICE": 14.9,
          "row_nr": 446,
          "value": 17.950512404708924,
          "variable": "PRICE_lin"
         },
         {
          "PRICE": 14.9,
          "row_nr": 446,
          "value": 0.08875675993100188,
          "variable": "PRICE_gp"
         },
         {
          "PRICE": 12.6,
          "row_nr": 447,
          "value": 0.005480371623860832,
          "variable": "PRICE_gp"
         },
         {
          "PRICE": 12.6,
          "row_nr": 447,
          "value": 18.273731664827544,
          "variable": "PRICE_lin"
         },
         {
          "PRICE": 14.1,
          "row_nr": 448,
          "value": 14.09999999859577,
          "variable": "PRICE_gp"
         },
         {
          "PRICE": 14.1,
          "row_nr": 448,
          "value": 17.51778326610075,
          "variable": "PRICE_lin"
         },
         {
          "PRICE": 13,
          "row_nr": 449,
          "value": 17.491700735595654,
          "variable": "PRICE_lin"
         },
         {
          "PRICE": 13,
          "row_nr": 449,
          "value": 12.999999998700002,
          "variable": "PRICE_gp"
         },
         {
          "PRICE": 13.4,
          "row_nr": 450,
          "value": 13.399999998660002,
          "variable": "PRICE_gp"
         },
         {
          "PRICE": 13.4,
          "row_nr": 450,
          "value": 17.64307149833888,
          "variable": "PRICE_lin"
         },
         {
          "PRICE": 15.2,
          "row_nr": 451,
          "value": 19.721633692802026,
          "variable": "PRICE_lin"
         },
         {
          "PRICE": 15.2,
          "row_nr": 451,
          "value": 15.19999999848,
          "variable": "PRICE_gp"
         },
         {
          "PRICE": 16.1,
          "row_nr": 452,
          "value": 18.663840013493832,
          "variable": "PRICE_lin"
         },
         {
          "PRICE": 16.1,
          "row_nr": 452,
          "value": 16.099999998390004,
          "variable": "PRICE_gp"
         },
         {
          "PRICE": 17.8,
          "row_nr": 453,
          "value": 23.18504575554023,
          "variable": "PRICE_lin"
         },
         {
          "PRICE": 17.8,
          "row_nr": 453,
          "value": 17.79999999822806,
          "variable": "PRICE_gp"
         },
         {
          "PRICE": 14.9,
          "row_nr": 454,
          "value": 16.394380392495208,
          "variable": "PRICE_lin"
         },
         {
          "PRICE": 14.9,
          "row_nr": 454,
          "value": 14.89999999851,
          "variable": "PRICE_gp"
         },
         {
          "PRICE": 14.1,
          "row_nr": 455,
          "value": 14.099999998589999,
          "variable": "PRICE_gp"
         },
         {
          "PRICE": 14.1,
          "row_nr": 455,
          "value": 16.712738336955116,
          "variable": "PRICE_lin"
         },
         {
          "PRICE": 12.7,
          "row_nr": 456,
          "value": 12.69999999873,
          "variable": "PRICE_gp"
         },
         {
          "PRICE": 12.7,
          "row_nr": 456,
          "value": 13.379582809461684,
          "variable": "PRICE_lin"
         },
         {
          "PRICE": 13.5,
          "row_nr": 457,
          "value": 13.669259983014989,
          "variable": "PRICE_lin"
         },
         {
          "PRICE": 13.5,
          "row_nr": 457,
          "value": 13.49999999865,
          "variable": "PRICE_gp"
         },
         {
          "PRICE": 14.9,
          "row_nr": 458,
          "value": 5.925935319456406e-257,
          "variable": "PRICE_gp"
         },
         {
          "PRICE": 14.9,
          "row_nr": 458,
          "value": 17.60924331670276,
          "variable": "PRICE_lin"
         },
         {
          "PRICE": 20,
          "row_nr": 459,
          "value": 18.57474422288879,
          "variable": "PRICE_lin"
         },
         {
          "PRICE": 20,
          "row_nr": 459,
          "value": 19.99999999844576,
          "variable": "PRICE_gp"
         },
         {
          "PRICE": 16.4,
          "row_nr": 460,
          "value": 19.648919774566533,
          "variable": "PRICE_lin"
         },
         {
          "PRICE": 16.4,
          "row_nr": 460,
          "value": 4.63768184995139e-82,
          "variable": "PRICE_gp"
         },
         {
          "PRICE": 17.7,
          "row_nr": 461,
          "value": 20.345294622785165,
          "variable": "PRICE_lin"
         },
         {
          "PRICE": 17.7,
          "row_nr": 461,
          "value": 17.699999998246852,
          "variable": "PRICE_gp"
         },
         {
          "PRICE": 19.5,
          "row_nr": 462,
          "value": 19.499999998498016,
          "variable": "PRICE_gp"
         },
         {
          "PRICE": 19.5,
          "row_nr": 462,
          "value": 19.973016432620692,
          "variable": "PRICE_lin"
         },
         {
          "PRICE": 20.2,
          "row_nr": 463,
          "value": 20.199999997983056,
          "variable": "PRICE_gp"
         },
         {
          "PRICE": 20.2,
          "row_nr": 463,
          "value": 22.793257578311955,
          "variable": "PRICE_lin"
         },
         {
          "PRICE": 21.4,
          "row_nr": 464,
          "value": 21.399999997869692,
          "variable": "PRICE_gp"
         },
         {
          "PRICE": 21.4,
          "row_nr": 464,
          "value": 20.409886980361517,
          "variable": "PRICE_lin"
         },
         {
          "PRICE": 19.9,
          "row_nr": 465,
          "value": 17.857539657655778,
          "variable": "PRICE_lin"
         },
         {
          "PRICE": 19.9,
          "row_nr": 465,
          "value": 3.572821677699377e-258,
          "variable": "PRICE_gp"
         },
         {
          "PRICE": 19,
          "row_nr": 466,
          "value": 14.961996963965134,
          "variable": "PRICE_lin"
         },
         {
          "PRICE": 19,
          "row_nr": 466,
          "value": 18.9999999981,
          "variable": "PRICE_gp"
         },
         {
          "PRICE": 19.1,
          "row_nr": 467,
          "value": 6.453925287506066e-36,
          "variable": "PRICE_gp"
         },
         {
          "PRICE": 19.1,
          "row_nr": 467,
          "value": 16.62662097255287,
          "variable": "PRICE_lin"
         },
         {
          "PRICE": 19.1,
          "row_nr": 468,
          "value": 16.77950673347089,
          "variable": "PRICE_lin"
         },
         {
          "PRICE": 19.1,
          "row_nr": 468,
          "value": 19.09999999809,
          "variable": "PRICE_gp"
         },
         {
          "PRICE": 20.1,
          "row_nr": 469,
          "value": 18.2722152757071,
          "variable": "PRICE_lin"
         },
         {
          "PRICE": 20.1,
          "row_nr": 469,
          "value": 2.3225114509323113e-22,
          "variable": "PRICE_gp"
         },
         {
          "PRICE": 19.9,
          "row_nr": 470,
          "value": 19.950248125679078,
          "variable": "PRICE_lin"
         },
         {
          "PRICE": 19.9,
          "row_nr": 470,
          "value": 19.899999998033067,
          "variable": "PRICE_gp"
         },
         {
          "PRICE": 19.6,
          "row_nr": 471,
          "value": 19.599999998043433,
          "variable": "PRICE_gp"
         },
         {
          "PRICE": 19.6,
          "row_nr": 471,
          "value": 22.743114521531847,
          "variable": "PRICE_lin"
         },
         {
          "PRICE": 23.2,
          "row_nr": 472,
          "value": 22.413465521854768,
          "variable": "PRICE_lin"
         },
         {
          "PRICE": 23.2,
          "row_nr": 472,
          "value": 23.19999999768001,
          "variable": "PRICE_gp"
         },
         {
          "PRICE": 29.8,
          "row_nr": 473,
          "value": 29.79999999702,
          "variable": "PRICE_gp"
         },
         {
          "PRICE": 29.8,
          "row_nr": 473,
          "value": 25.963673689838487,
          "variable": "PRICE_lin"
         },
         {
          "PRICE": 13.8,
          "row_nr": 474,
          "value": 0.00010749170715822369,
          "variable": "PRICE_gp"
         },
         {
          "PRICE": 13.8,
          "row_nr": 474,
          "value": 15.812660154638497,
          "variable": "PRICE_lin"
         },
         {
          "PRICE": 13.3,
          "row_nr": 475,
          "value": 13.299999998670001,
          "variable": "PRICE_gp"
         },
         {
          "PRICE": 13.3,
          "row_nr": 475,
          "value": 15.854668289601012,
          "variable": "PRICE_lin"
         },
         {
          "PRICE": 16.7,
          "row_nr": 476,
          "value": 20.422500144073233,
          "variable": "PRICE_lin"
         },
         {
          "PRICE": 16.7,
          "row_nr": 476,
          "value": 16.699999998351057,
          "variable": "PRICE_gp"
         },
         {
          "PRICE": 12,
          "row_nr": 477,
          "value": 10.872715915635972,
          "variable": "PRICE_lin"
         },
         {
          "PRICE": 12,
          "row_nr": 477,
          "value": 11.9999999988,
          "variable": "PRICE_gp"
         },
         {
          "PRICE": 14.6,
          "row_nr": 478,
          "value": 19.01649171554805,
          "variable": "PRICE_lin"
         },
         {
          "PRICE": 14.6,
          "row_nr": 478,
          "value": 0.49751979695165716,
          "variable": "PRICE_gp"
         },
         {
          "PRICE": 21.4,
          "row_nr": 479,
          "value": 21.39999999786,
          "variable": "PRICE_gp"
         },
         {
          "PRICE": 21.4,
          "row_nr": 479,
          "value": 21.81112788080173,
          "variable": "PRICE_lin"
         },
         {
          "PRICE": 23,
          "row_nr": 480,
          "value": 23.374160262204533,
          "variable": "PRICE_lin"
         },
         {
          "PRICE": 23,
          "row_nr": 480,
          "value": 22.99999999770902,
          "variable": "PRICE_gp"
         },
         {
          "PRICE": 23.7,
          "row_nr": 481,
          "value": 23.69999999764733,
          "variable": "PRICE_gp"
         },
         {
          "PRICE": 23.7,
          "row_nr": 481,
          "value": 27.300055339899796,
          "variable": "PRICE_lin"
         },
         {
          "PRICE": 25,
          "row_nr": 482,
          "value": 28.944308009928378,
          "variable": "PRICE_lin"
         },
         {
          "PRICE": 25,
          "row_nr": 482,
          "value": 24.999999997516408,
          "variable": "PRICE_gp"
         },
         {
          "PRICE": 21.8,
          "row_nr": 483,
          "value": 21.79999999782,
          "variable": "PRICE_gp"
         },
         {
          "PRICE": 21.8,
          "row_nr": 483,
          "value": 20.84601214462693,
          "variable": "PRICE_lin"
         },
         {
          "PRICE": 20.6,
          "row_nr": 484,
          "value": 19.33286515938249,
          "variable": "PRICE_lin"
         },
         {
          "PRICE": 20.6,
          "row_nr": 484,
          "value": 20.599999997940003,
          "variable": "PRICE_gp"
         },
         {
          "PRICE": 21.2,
          "row_nr": 485,
          "value": 1.8433754886908904,
          "variable": "PRICE_gp"
         },
         {
          "PRICE": 21.2,
          "row_nr": 485,
          "value": 22.364550325096413,
          "variable": "PRICE_lin"
         },
         {
          "PRICE": 19.1,
          "row_nr": 486,
          "value": 19.0999999980916,
          "variable": "PRICE_gp"
         },
         {
          "PRICE": 19.1,
          "row_nr": 486,
          "value": 19.52814592955034,
          "variable": "PRICE_lin"
         },
         {
          "PRICE": 20.6,
          "row_nr": 487,
          "value": 20.599999997940003,
          "variable": "PRICE_gp"
         },
         {
          "PRICE": 20.6,
          "row_nr": 487,
          "value": 21.160982491612558,
          "variable": "PRICE_lin"
         },
         {
          "PRICE": 15.2,
          "row_nr": 488,
          "value": 11.980953359634345,
          "variable": "PRICE_lin"
         },
         {
          "PRICE": 15.2,
          "row_nr": 488,
          "value": 15.19999999848,
          "variable": "PRICE_gp"
         },
         {
          "PRICE": 7,
          "row_nr": 489,
          "value": 6.9999999993,
          "variable": "PRICE_gp"
         },
         {
          "PRICE": 7,
          "row_nr": 489,
          "value": 8.306345288501493,
          "variable": "PRICE_lin"
         },
         {
          "PRICE": 8.1,
          "row_nr": 490,
          "value": 8.099999999189999,
          "variable": "PRICE_gp"
         },
         {
          "PRICE": 8.1,
          "row_nr": 490,
          "value": 3.5356864748903263,
          "variable": "PRICE_lin"
         },
         {
          "PRICE": 13.6,
          "row_nr": 491,
          "value": 13.59999999864,
          "variable": "PRICE_gp"
         },
         {
          "PRICE": 13.6,
          "row_nr": 491,
          "value": 14.158649484429525,
          "variable": "PRICE_lin"
         },
         {
          "PRICE": 20.1,
          "row_nr": 492,
          "value": 16.458552278888774,
          "variable": "PRICE_lin"
         },
         {
          "PRICE": 20.1,
          "row_nr": 492,
          "value": 20.099999997990004,
          "variable": "PRICE_gp"
         },
         {
          "PRICE": 21.8,
          "row_nr": 493,
          "value": 21.79999999782,
          "variable": "PRICE_gp"
         },
         {
          "PRICE": 21.8,
          "row_nr": 493,
          "value": 20.281615649868293,
          "variable": "PRICE_lin"
         },
         {
          "PRICE": 24.5,
          "row_nr": 494,
          "value": 8.281684724233355e-26,
          "variable": "PRICE_gp"
         },
         {
          "PRICE": 24.5,
          "row_nr": 494,
          "value": 20.369114038155466,
          "variable": "PRICE_lin"
         },
         {
          "PRICE": 23.1,
          "row_nr": 495,
          "value": 1.1023430693609069e-43,
          "variable": "PRICE_gp"
         },
         {
          "PRICE": 23.1,
          "row_nr": 495,
          "value": 16.510577907633674,
          "variable": "PRICE_lin"
         },
         {
          "PRICE": 19.7,
          "row_nr": 496,
          "value": 19.69999999803,
          "variable": "PRICE_gp"
         },
         {
          "PRICE": 19.7,
          "row_nr": 496,
          "value": 13.347980147839891,
          "variable": "PRICE_lin"
         },
         {
          "PRICE": 18.3,
          "row_nr": 497,
          "value": 18.299999998177164,
          "variable": "PRICE_gp"
         },
         {
          "PRICE": 18.3,
          "row_nr": 497,
          "value": 18.797227964211142,
          "variable": "PRICE_lin"
         },
         {
          "PRICE": 21.2,
          "row_nr": 498,
          "value": 21.199999997880003,
          "variable": "PRICE_gp"
         },
         {
          "PRICE": 21.2,
          "row_nr": 498,
          "value": 21.0795026585668,
          "variable": "PRICE_lin"
         },
         {
          "PRICE": 17.5,
          "row_nr": 499,
          "value": 17.499999998257493,
          "variable": "PRICE_gp"
         },
         {
          "PRICE": 17.5,
          "row_nr": 499,
          "value": 17.952601881169024,
          "variable": "PRICE_lin"
         },
         {
          "PRICE": 16.8,
          "row_nr": 500,
          "value": 20.21294890315042,
          "variable": "PRICE_lin"
         },
         {
          "PRICE": 16.8,
          "row_nr": 500,
          "value": 16.79999999832,
          "variable": "PRICE_gp"
         },
         {
          "PRICE": 22.4,
          "row_nr": 501,
          "value": 22.39999999776,
          "variable": "PRICE_gp"
         },
         {
          "PRICE": 22.4,
          "row_nr": 501,
          "value": 23.98323121090534,
          "variable": "PRICE_lin"
         },
         {
          "PRICE": 20.6,
          "row_nr": 502,
          "value": 0.0012606005875693182,
          "variable": "PRICE_gp"
         },
         {
          "PRICE": 20.6,
          "row_nr": 502,
          "value": 22.55163870212804,
          "variable": "PRICE_lin"
         },
         {
          "PRICE": 23.9,
          "row_nr": 503,
          "value": 23.899999997610905,
          "variable": "PRICE_gp"
         },
         {
          "PRICE": 23.9,
          "row_nr": 503,
          "value": 28.268297591876646,
          "variable": "PRICE_lin"
         },
         {
          "PRICE": 22,
          "row_nr": 504,
          "value": 21.999999997800987,
          "variable": "PRICE_gp"
         },
         {
          "PRICE": 22,
          "row_nr": 504,
          "value": 26.69481752720061,
          "variable": "PRICE_lin"
         },
         {
          "PRICE": 11.9,
          "row_nr": 505,
          "value": 22.51408477226707,
          "variable": "PRICE_lin"
         },
         {
          "PRICE": 11.9,
          "row_nr": 505,
          "value": 11.899999998810001,
          "variable": "PRICE_gp"
         }
        ]
       },
       "encoding": {
        "color": {
         "field": "variable",
         "type": "nominal"
        },
        "x": {
         "field": "value",
         "type": "quantitative"
        },
        "y": {
         "field": "PRICE",
         "type": "quantitative"
        }
       },
       "height": 500,
       "mark": "point",
       "width": 500
      },
      "image/png": "[encoded data removed]",
      "text/plain": [
       "<VegaLite 4 object>\n",
       "\n",
       "If you see this message, it means the renderer has not been properly enabled\n",
       "for the frontend that you are using. For more information, see\n",
       "https://altair-viz.github.io/user_guide/troubleshooting.html\n"
      ]
     },
     "execution_count": 12,
     "metadata": {},
     "output_type": "execute_result"
    }
   ],
   "source": [
    "# VISUALISATION\n",
    "# install with: pip install altair altair_viewer\n",
    "(alt.Chart(data_plot).\n",
    " properties(height=500, width=500).\n",
    " mark_point().\n",
    " encode(x='value',\n",
    "        y='PRICE',\n",
    "        color='variable')\n",
    ")"
   ]
  },
  {
   "cell_type": "markdown",
   "metadata": {},
   "source": [
    "# Linear Regression - with categorical input data\n",
    "\n",
    "Let's apply a linear regression model to the data.\n",
    "\n",
    "Fist we need to split the data in two groups. A training group and a test group."
   ]
  },
  {
   "cell_type": "code",
   "execution_count": 13,
   "metadata": {
    "tags": []
   },
   "outputs": [],
   "source": [
    "from sklearn.model_selection import train_test_split\n",
    "from sklearn.preprocessing import StandardScaler\n",
    "from sklearn.impute import SimpleImputer\n",
    "from sklearn.linear_model import LinearRegression"
   ]
  },
  {
   "cell_type": "code",
   "execution_count": 14,
   "metadata": {
    "tags": []
   },
   "outputs": [],
   "source": [
    "car_prices=pd.read_csv(\"../data/car_prices.csv\")\n",
    "\n",
    "features = (car_prices[['length', 'width', 'height', 'engine-size',  'stroke', 'compression-ratio', 'horsepower', 'price']]\n",
    "            .replace('?', '', regex=False)\n",
    "            .apply(pd.to_numeric, errors='coerce'))\n",
    "\n",
    "features_std = StandardScaler().fit_transform(features)\n",
    "features_imp = SimpleImputer(strategy='mean').fit_transform(features_std)\n",
    "\n",
    "X_train, X_test, y_train, y_test = train_test_split(features_imp[:,:-1],\n",
    "                                                    features_imp[:,-1],\n",
    "                                                    test_size=0.30, random_state=1)"
   ]
  },
  {
   "cell_type": "markdown",
   "metadata": {},
   "source": [
    "Train the model:"
   ]
  },
  {
   "cell_type": "code",
   "execution_count": 15,
   "metadata": {
    "collapsed": false,
    "jupyter": {
     "outputs_hidden": false
    }
   },
   "outputs": [
    {
     "data": {
      "text/plain": [
       "LinearRegression()"
      ]
     },
     "execution_count": 15,
     "metadata": {},
     "output_type": "execute_result"
    }
   ],
   "source": [
    "regr = LinearRegression()\n",
    "regr.fit(X_train, y_train)"
   ]
  },
  {
   "cell_type": "markdown",
   "metadata": {},
   "source": [
    "Let's see how good we did using the test group. The method ```score``` calculates the R² value."
   ]
  },
  {
   "cell_type": "code",
   "execution_count": 16,
   "metadata": {
    "collapsed": false,
    "jupyter": {
     "outputs_hidden": false
    }
   },
   "outputs": [
    {
     "data": {
      "text/plain": [
       "0.7811270144233217"
      ]
     },
     "execution_count": 16,
     "metadata": {},
     "output_type": "execute_result"
    }
   ],
   "source": [
    "regr.score(X_test, y_test)  # "
   ]
  },
  {
   "cell_type": "markdown",
   "metadata": {},
   "source": [
    "Let's visualize the predictions against the real values:"
   ]
  },
  {
   "cell_type": "code",
   "execution_count": 17,
   "metadata": {
    "collapsed": false,
    "jupyter": {
     "outputs_hidden": false
    }
   },
   "outputs": [],
   "source": [
    "predictions= regr.predict(X_test)"
   ]
  },
  {
   "cell_type": "code",
   "execution_count": 18,
   "metadata": {},
   "outputs": [],
   "source": [
    "# Scale back the data to the original representation using the values used in the transformation\n",
    "predictions_rev=predictions*7.94704014e+03+1.32056900e+04\n",
    "y_test_rev= y_test*7.94704014e+03+1.32056900e+04"
   ]
  },
  {
   "cell_type": "code",
   "execution_count": 19,
   "metadata": {
    "collapsed": false,
    "jupyter": {
     "outputs_hidden": false
    }
   },
   "outputs": [
    {
     "data": {
      "text/plain": [
       "[<matplotlib.lines.Line2D at 0x7fe051b21a30>]"
      ]
     },
     "execution_count": 19,
     "metadata": {},
     "output_type": "execute_result"
    },
    {
     "data": {
      "image/png": "[encoded data removed]",
      "text/plain": [
       "<Figure size 432x288 with 1 Axes>"
      ]
     },
     "metadata": {
      "needs_background": "light"
     },
     "output_type": "display_data"
    }
   ],
   "source": [
    "# VISUALISATION\n",
    "import seaborn as sns\n",
    "import matplotlib.pyplot as plt\n",
    "import pandas as pd\n",
    "%matplotlib inline\n",
    "\n",
    "plt.scatter(predictions_rev, y_test_rev)\n",
    "plt.xlabel('predictions')\n",
    "plt.ylabel('real values')\n",
    "plt.xlim([0,45000])\n",
    "plt.ylim([0,45000])\n",
    "plt.plot([0,45000],[0,45000])"
   ]
  },
  {
   "cell_type": "markdown",
   "metadata": {},
   "source": [
    "## Encoding categorical features\n",
    "\n",
    "Let's try to add three of the categorical features. Here we include the price so that we are able to exclude observations where 'price' is missing:"
   ]
  },
  {
   "cell_type": "code",
   "execution_count": 20,
   "metadata": {
    "collapsed": false,
    "jupyter": {
     "outputs_hidden": false
    }
   },
   "outputs": [],
   "source": [
    "cat_features=car_prices[['fuel-type', 'num-of-doors', 'body-style', 'price']]\n",
    "cat_features=cat_features.dropna(axis=0, subset=['price'])\n",
    "cat_features=cat_features.drop('price', axis=1)"
   ]
  },
  {
   "cell_type": "code",
   "execution_count": 21,
   "metadata": {
    "collapsed": false,
    "jupyter": {
     "outputs_hidden": false
    },
    "scrolled": true
   },
   "outputs": [
    {
     "data": {
      "text/html": [
       "<div>\n",
       "<style scoped>\n",
       "    .dataframe tbody tr th:only-of-type {\n",
       "        vertical-align: middle;\n",
       "    }\n",
       "\n",
       "    .dataframe tbody tr th {\n",
       "        vertical-align: top;\n",
       "    }\n",
       "\n",
       "    .dataframe thead th {\n",
       "        text-align: right;\n",
       "    }\n",
       "</style>\n",
       "<table border=\"1\" class=\"dataframe\">\n",
       "  <thead>\n",
       "    <tr style=\"text-align: right;\">\n",
       "      <th></th>\n",
       "      <th>fuel-type</th>\n",
       "      <th>num-of-doors</th>\n",
       "      <th>body-style</th>\n",
       "    </tr>\n",
       "  </thead>\n",
       "  <tbody>\n",
       "    <tr>\n",
       "      <th>0</th>\n",
       "      <td>gas</td>\n",
       "      <td>two</td>\n",
       "      <td>convertible</td>\n",
       "    </tr>\n",
       "    <tr>\n",
       "      <th>1</th>\n",
       "      <td>gas</td>\n",
       "      <td>two</td>\n",
       "      <td>convertible</td>\n",
       "    </tr>\n",
       "    <tr>\n",
       "      <th>2</th>\n",
       "      <td>gas</td>\n",
       "      <td>two</td>\n",
       "      <td>hatchback</td>\n",
       "    </tr>\n",
       "    <tr>\n",
       "      <th>3</th>\n",
       "      <td>gas</td>\n",
       "      <td>four</td>\n",
       "      <td>sedan</td>\n",
       "    </tr>\n",
       "    <tr>\n",
       "      <th>4</th>\n",
       "      <td>gas</td>\n",
       "      <td>four</td>\n",
       "      <td>sedan</td>\n",
       "    </tr>\n",
       "  </tbody>\n",
       "</table>\n",
       "</div>"
      ],
      "text/plain": [
       "  fuel-type num-of-doors   body-style\n",
       "0       gas          two  convertible\n",
       "1       gas          two  convertible\n",
       "2       gas          two    hatchback\n",
       "3       gas         four        sedan\n",
       "4       gas         four        sedan"
      ]
     },
     "execution_count": 21,
     "metadata": {},
     "output_type": "execute_result"
    }
   ],
   "source": [
    "cat_features.head()"
   ]
  },
  {
   "cell_type": "markdown",
   "metadata": {},
   "source": [
    "One simple way to represent categories is to attribute one number to each category. This can however introduce relations between categories that don't exist in reality. Imagine that we map the 'body-style' feature to integers with: 'convertible'=1, 'hatchback'=2 and 'sedan'=3. Now the 'sedan' is bigger than 'hatchback' that is in turn bigger than 'convertible'.\n",
    "\n",
    "One solution is \"One-hot-encoding\", which basically is creating new features that represent each category, having a one where that category exists and zero otherwise. There is a *scikit-learn* function to do it but *pandas* has a simpler method:"
   ]
  },
  {
   "cell_type": "code",
   "execution_count": 22,
   "metadata": {
    "collapsed": false,
    "jupyter": {
     "outputs_hidden": false
    }
   },
   "outputs": [
    {
     "data": {
      "text/html": [
       "<div>\n",
       "<style scoped>\n",
       "    .dataframe tbody tr th:only-of-type {\n",
       "        vertical-align: middle;\n",
       "    }\n",
       "\n",
       "    .dataframe tbody tr th {\n",
       "        vertical-align: top;\n",
       "    }\n",
       "\n",
       "    .dataframe thead th {\n",
       "        text-align: right;\n",
       "    }\n",
       "</style>\n",
       "<table border=\"1\" class=\"dataframe\">\n",
       "  <thead>\n",
       "    <tr style=\"text-align: right;\">\n",
       "      <th></th>\n",
       "      <th>fuel-type_diesel</th>\n",
       "      <th>fuel-type_gas</th>\n",
       "      <th>num-of-doors_?</th>\n",
       "      <th>num-of-doors_four</th>\n",
       "      <th>num-of-doors_two</th>\n",
       "      <th>body-style_convertible</th>\n",
       "      <th>body-style_hardtop</th>\n",
       "      <th>body-style_hatchback</th>\n",
       "      <th>body-style_sedan</th>\n",
       "      <th>body-style_wagon</th>\n",
       "    </tr>\n",
       "  </thead>\n",
       "  <tbody>\n",
       "    <tr>\n",
       "      <th>0</th>\n",
       "      <td>0</td>\n",
       "      <td>1</td>\n",
       "      <td>0</td>\n",
       "      <td>0</td>\n",
       "      <td>1</td>\n",
       "      <td>1</td>\n",
       "      <td>0</td>\n",
       "      <td>0</td>\n",
       "      <td>0</td>\n",
       "      <td>0</td>\n",
       "    </tr>\n",
       "    <tr>\n",
       "      <th>1</th>\n",
       "      <td>0</td>\n",
       "      <td>1</td>\n",
       "      <td>0</td>\n",
       "      <td>0</td>\n",
       "      <td>1</td>\n",
       "      <td>1</td>\n",
       "      <td>0</td>\n",
       "      <td>0</td>\n",
       "      <td>0</td>\n",
       "      <td>0</td>\n",
       "    </tr>\n",
       "    <tr>\n",
       "      <th>2</th>\n",
       "      <td>0</td>\n",
       "      <td>1</td>\n",
       "      <td>0</td>\n",
       "      <td>0</td>\n",
       "      <td>1</td>\n",
       "      <td>0</td>\n",
       "      <td>0</td>\n",
       "      <td>1</td>\n",
       "      <td>0</td>\n",
       "      <td>0</td>\n",
       "    </tr>\n",
       "    <tr>\n",
       "      <th>3</th>\n",
       "      <td>0</td>\n",
       "      <td>1</td>\n",
       "      <td>0</td>\n",
       "      <td>1</td>\n",
       "      <td>0</td>\n",
       "      <td>0</td>\n",
       "      <td>0</td>\n",
       "      <td>0</td>\n",
       "      <td>1</td>\n",
       "      <td>0</td>\n",
       "    </tr>\n",
       "    <tr>\n",
       "      <th>4</th>\n",
       "      <td>0</td>\n",
       "      <td>1</td>\n",
       "      <td>0</td>\n",
       "      <td>1</td>\n",
       "      <td>0</td>\n",
       "      <td>0</td>\n",
       "      <td>0</td>\n",
       "      <td>0</td>\n",
       "      <td>1</td>\n",
       "      <td>0</td>\n",
       "    </tr>\n",
       "  </tbody>\n",
       "</table>\n",
       "</div>"
      ],
      "text/plain": [
       "   fuel-type_diesel  fuel-type_gas  num-of-doors_?  num-of-doors_four  num-of-doors_two  body-style_convertible  body-style_hardtop  body-style_hatchback  body-style_sedan  body-style_wagon\n",
       "0                 0              1               0                  0                 1                       1                   0                     0                 0                 0\n",
       "1                 0              1               0                  0                 1                       1                   0                     0                 0                 0\n",
       "2                 0              1               0                  0                 1                       0                   0                     1                 0                 0\n",
       "3                 0              1               0                  1                 0                       0                   0                     0                 1                 0\n",
       "4                 0              1               0                  1                 0                       0                   0                     0                 1                 0"
      ]
     },
     "execution_count": 22,
     "metadata": {},
     "output_type": "execute_result"
    }
   ],
   "source": [
    "ohe_features=pd.get_dummies(cat_features)\n",
    "ohe_features.head(5)"
   ]
  },
  {
   "cell_type": "markdown",
   "metadata": {},
   "source": [
    "Let's append these features to the scaled Dataframe:"
   ]
  },
  {
   "cell_type": "code",
   "execution_count": 23,
   "metadata": {
    "collapsed": false,
    "jupyter": {
     "outputs_hidden": false
    }
   },
   "outputs": [
    {
     "name": "stdout",
     "output_type": "stream",
     "text": [
      "     length     width    height  engine-size    stroke  compression-ratio  horsepower     price\n",
      "0 -0.426521 -0.844782 -2.020417     0.074449 -1.821370          -0.288349    0.170228  0.036314\n",
      "1 -0.426521 -0.844782 -2.020417     0.074449 -1.821370          -0.288349    0.170228  0.415385\n",
      "2 -0.231513 -0.190566 -0.543527     0.604046  0.679195          -0.288349    1.255637  0.415385\n",
      "3  0.207256  0.136542  0.235942    -0.431076  0.457626          -0.035973   -0.056950  0.093711\n",
      "4  0.207256  0.230001  0.235942     0.218885  0.457626          -0.540725    0.271197  0.535224\n"
     ]
    }
   ],
   "source": [
    "features_df=pd.DataFrame(features_imp,\n",
    "                         columns=['length', 'width', 'height', 'engine-size', 'stroke', 'compression-ratio', 'horsepower', 'price'])\n",
    "print(features_df.head())\n",
    "\n",
    "ohe_features = ohe_features.reset_index()  # we need to reset the index\n",
    "features_all = pd.concat([features_df, ohe_features], axis=1)"
   ]
  },
  {
   "cell_type": "markdown",
   "metadata": {},
   "source": [
    "... and create a linear regression model again:"
   ]
  },
  {
   "cell_type": "code",
   "execution_count": 24,
   "metadata": {
    "tags": []
   },
   "outputs": [],
   "source": [
    "features_wo_target=features_all.drop('price', axis=1)\n",
    "X_train, X_test, y_train, y_test = train_test_split(features_wo_target, features_all['price'],\n",
    "    test_size=0.30, random_state=1)"
   ]
  },
  {
   "cell_type": "code",
   "execution_count": 25,
   "metadata": {
    "collapsed": false,
    "jupyter": {
     "outputs_hidden": false
    }
   },
   "outputs": [
    {
     "data": {
      "text/plain": [
       "LinearRegression()"
      ]
     },
     "execution_count": 25,
     "metadata": {},
     "output_type": "execute_result"
    }
   ],
   "source": [
    "regr=LinearRegression()\n",
    "\n",
    "regr.fit(X_train, y_train)"
   ]
  },
  {
   "cell_type": "code",
   "execution_count": 26,
   "metadata": {
    "collapsed": false,
    "jupyter": {
     "outputs_hidden": false
    }
   },
   "outputs": [
    {
     "data": {
      "text/plain": [
       "0.7870902255861031"
      ]
     },
     "execution_count": 26,
     "metadata": {},
     "output_type": "execute_result"
    }
   ],
   "source": [
    "regr.score(X_test, y_test) "
   ]
  },
  {
   "cell_type": "markdown",
   "metadata": {},
   "source": [
    "The inclusion of these three categorical features reduced the prediction error."
   ]
  }
 ],
 "metadata": {
  "colab": {
   "name": "lecture4_regression.ipynb",
   "provenance": []
  },
  "kernelspec": {
   "display_name": "Python 3",
   "language": "python",
   "name": "python3"
  },
  "language_info": {
   "codemirror_mode": {
    "name": "ipython",
    "version": 3
   },
   "file_extension": ".py",
   "mimetype": "text/x-python",
   "name": "python",
   "nbconvert_exporter": "python",
   "pygments_lexer": "ipython3",
   "version": "3.8.8"
  }
 },
 "nbformat": 4,
 "nbformat_minor": 4
}
