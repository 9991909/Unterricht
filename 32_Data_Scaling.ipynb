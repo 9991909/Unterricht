{
 "cells": [
  {
   "cell_type": "markdown",
   "metadata": {},
   "source": [
    "<div align=\"center\"> <h1>Data Standardization / Data Scaling</h1>\n",
    "    <h2><a href=\"...\">Richard Leibrandt</a></h2>\n",
    "</div>\n",
    "\n",
    "Standardization means removing the mean and scaling the features to unit variance. It is a common requirement and preprocessing for many machine learning algorithms."
   ]
  },
  {
   "cell_type": "code",
   "execution_count": 1,
   "metadata": {
    "colab": {
     "base_uri": "https://localhost:8080/"
    },
    "id": "d8rbc8mOm-b-",
    "outputId": "04327ffa-68c4-490f-f600-66e92f4f2084"
   },
   "outputs": [],
   "source": [
    "import pandas as pd\n",
    "import numpy as np\n",
    "\n",
    "car_prices = pd.read_csv(\"../data/car_prices.csv\")"
   ]
  },
  {
   "cell_type": "code",
   "execution_count": 2,
   "metadata": {
    "tags": []
   },
   "outputs": [],
   "source": [
    "from sklearn.preprocessing import StandardScaler\n",
    "\n",
    "features = (car_prices[['length', 'width', 'height', 'engine-size',  'stroke', 'compression-ratio', 'horsepower', 'price']]\n",
    "            .replace('?', '', regex=False)\n",
    "            .apply(pd.to_numeric, errors='coerce'))\n",
    "\n",
    "std_scaler = StandardScaler()\n",
    "features_std = std_scaler.fit_transform(features)"
   ]
  },
  {
   "cell_type": "code",
   "execution_count": 3,
   "metadata": {
    "collapsed": false,
    "jupyter": {
     "outputs_hidden": false
    },
    "scrolled": true
   },
   "outputs": [
    {
     "data": {
      "text/html": [
       "<div>\n",
       "<style scoped>\n",
       "    .dataframe tbody tr th:only-of-type {\n",
       "        vertical-align: middle;\n",
       "    }\n",
       "\n",
       "    .dataframe tbody tr th {\n",
       "        vertical-align: top;\n",
       "    }\n",
       "\n",
       "    .dataframe thead th {\n",
       "        text-align: right;\n",
       "    }\n",
       "</style>\n",
       "<table border=\"1\" class=\"dataframe\">\n",
       "  <thead>\n",
       "    <tr style=\"text-align: right;\">\n",
       "      <th></th>\n",
       "      <th>length</th>\n",
       "      <th>width</th>\n",
       "      <th>height</th>\n",
       "      <th>engine-size</th>\n",
       "      <th>stroke</th>\n",
       "      <th>compression-ratio</th>\n",
       "      <th>horsepower</th>\n",
       "      <th>price</th>\n",
       "    </tr>\n",
       "  </thead>\n",
       "  <tbody>\n",
       "    <tr>\n",
       "      <th>0</th>\n",
       "      <td>-0.426521</td>\n",
       "      <td>-0.844782</td>\n",
       "      <td>-2.020417</td>\n",
       "      <td>0.074449</td>\n",
       "      <td>-1.821370</td>\n",
       "      <td>-0.288349</td>\n",
       "      <td>0.170228</td>\n",
       "      <td>0.036314</td>\n",
       "    </tr>\n",
       "    <tr>\n",
       "      <th>1</th>\n",
       "      <td>-0.426521</td>\n",
       "      <td>-0.844782</td>\n",
       "      <td>-2.020417</td>\n",
       "      <td>0.074449</td>\n",
       "      <td>-1.821370</td>\n",
       "      <td>-0.288349</td>\n",
       "      <td>0.170228</td>\n",
       "      <td>0.415385</td>\n",
       "    </tr>\n",
       "    <tr>\n",
       "      <th>2</th>\n",
       "      <td>-0.231513</td>\n",
       "      <td>-0.190566</td>\n",
       "      <td>-0.543527</td>\n",
       "      <td>0.604046</td>\n",
       "      <td>0.679195</td>\n",
       "      <td>-0.288349</td>\n",
       "      <td>1.255637</td>\n",
       "      <td>0.415385</td>\n",
       "    </tr>\n",
       "    <tr>\n",
       "      <th>3</th>\n",
       "      <td>0.207256</td>\n",
       "      <td>0.136542</td>\n",
       "      <td>0.235942</td>\n",
       "      <td>-0.431076</td>\n",
       "      <td>0.457626</td>\n",
       "      <td>-0.035973</td>\n",
       "      <td>-0.056950</td>\n",
       "      <td>0.093711</td>\n",
       "    </tr>\n",
       "    <tr>\n",
       "      <th>4</th>\n",
       "      <td>0.207256</td>\n",
       "      <td>0.230001</td>\n",
       "      <td>0.235942</td>\n",
       "      <td>0.218885</td>\n",
       "      <td>0.457626</td>\n",
       "      <td>-0.540725</td>\n",
       "      <td>0.271197</td>\n",
       "      <td>0.535224</td>\n",
       "    </tr>\n",
       "  </tbody>\n",
       "</table>\n",
       "</div>"
      ],
      "text/plain": [
       "     length     width    height  engine-size    stroke  compression-ratio  \\\n",
       "0 -0.426521 -0.844782 -2.020417     0.074449 -1.821370          -0.288349   \n",
       "1 -0.426521 -0.844782 -2.020417     0.074449 -1.821370          -0.288349   \n",
       "2 -0.231513 -0.190566 -0.543527     0.604046  0.679195          -0.288349   \n",
       "3  0.207256  0.136542  0.235942    -0.431076  0.457626          -0.035973   \n",
       "4  0.207256  0.230001  0.235942     0.218885  0.457626          -0.540725   \n",
       "\n",
       "   horsepower     price  \n",
       "0    0.170228  0.036314  \n",
       "1    0.170228  0.415385  \n",
       "2    1.255637  0.415385  \n",
       "3   -0.056950  0.093711  \n",
       "4    0.271197  0.535224  "
      ]
     },
     "execution_count": 3,
     "metadata": {},
     "output_type": "execute_result"
    }
   ],
   "source": [
    "features_std = pd.DataFrame(features_std,\n",
    "                         columns=['length', 'width', 'height', 'engine-size', 'stroke', 'compression-ratio', 'horsepower', 'price'])\n",
    "features_std.head()"
   ]
  },
  {
   "cell_type": "markdown",
   "metadata": {},
   "source": [
    "Using the ```describe``` method we can verify that the mean and standard deviation values are very close to zero and one, respectively, while this is not the case otherwise:"
   ]
  },
  {
   "cell_type": "code",
   "execution_count": 4,
   "metadata": {
    "collapsed": false,
    "jupyter": {
     "outputs_hidden": false
    }
   },
   "outputs": [
    {
     "data": {
      "text/html": [
       "<div>\n",
       "<style scoped>\n",
       "    .dataframe tbody tr th:only-of-type {\n",
       "        vertical-align: middle;\n",
       "    }\n",
       "\n",
       "    .dataframe tbody tr th {\n",
       "        vertical-align: top;\n",
       "    }\n",
       "\n",
       "    .dataframe thead th {\n",
       "        text-align: right;\n",
       "    }\n",
       "</style>\n",
       "<table border=\"1\" class=\"dataframe\">\n",
       "  <thead>\n",
       "    <tr style=\"text-align: right;\">\n",
       "      <th></th>\n",
       "      <th>length</th>\n",
       "      <th>width</th>\n",
       "      <th>height</th>\n",
       "      <th>engine-size</th>\n",
       "      <th>stroke</th>\n",
       "      <th>compression-ratio</th>\n",
       "      <th>horsepower</th>\n",
       "      <th>price</th>\n",
       "    </tr>\n",
       "  </thead>\n",
       "  <tbody>\n",
       "    <tr>\n",
       "      <th>count</th>\n",
       "      <td>205.000000</td>\n",
       "      <td>205.000000</td>\n",
       "      <td>205.000000</td>\n",
       "      <td>205.000000</td>\n",
       "      <td>201.000000</td>\n",
       "      <td>205.000000</td>\n",
       "      <td>203.000000</td>\n",
       "      <td>201.000000</td>\n",
       "    </tr>\n",
       "    <tr>\n",
       "      <th>mean</th>\n",
       "      <td>174.049268</td>\n",
       "      <td>65.907805</td>\n",
       "      <td>53.724878</td>\n",
       "      <td>126.907317</td>\n",
       "      <td>3.255423</td>\n",
       "      <td>10.142537</td>\n",
       "      <td>104.256158</td>\n",
       "      <td>13207.129353</td>\n",
       "    </tr>\n",
       "    <tr>\n",
       "      <th>std</th>\n",
       "      <td>12.337289</td>\n",
       "      <td>2.145204</td>\n",
       "      <td>2.443522</td>\n",
       "      <td>41.642693</td>\n",
       "      <td>0.316717</td>\n",
       "      <td>3.972040</td>\n",
       "      <td>39.714369</td>\n",
       "      <td>7947.066342</td>\n",
       "    </tr>\n",
       "    <tr>\n",
       "      <th>min</th>\n",
       "      <td>141.100000</td>\n",
       "      <td>60.300000</td>\n",
       "      <td>47.800000</td>\n",
       "      <td>61.000000</td>\n",
       "      <td>2.070000</td>\n",
       "      <td>7.000000</td>\n",
       "      <td>48.000000</td>\n",
       "      <td>5118.000000</td>\n",
       "    </tr>\n",
       "    <tr>\n",
       "      <th>25%</th>\n",
       "      <td>166.300000</td>\n",
       "      <td>64.100000</td>\n",
       "      <td>52.000000</td>\n",
       "      <td>97.000000</td>\n",
       "      <td>3.110000</td>\n",
       "      <td>8.600000</td>\n",
       "      <td>70.000000</td>\n",
       "      <td>7775.000000</td>\n",
       "    </tr>\n",
       "    <tr>\n",
       "      <th>50%</th>\n",
       "      <td>173.200000</td>\n",
       "      <td>65.500000</td>\n",
       "      <td>54.100000</td>\n",
       "      <td>120.000000</td>\n",
       "      <td>3.290000</td>\n",
       "      <td>9.000000</td>\n",
       "      <td>95.000000</td>\n",
       "      <td>10295.000000</td>\n",
       "    </tr>\n",
       "    <tr>\n",
       "      <th>75%</th>\n",
       "      <td>183.100000</td>\n",
       "      <td>66.900000</td>\n",
       "      <td>55.500000</td>\n",
       "      <td>141.000000</td>\n",
       "      <td>3.410000</td>\n",
       "      <td>9.400000</td>\n",
       "      <td>116.000000</td>\n",
       "      <td>16500.000000</td>\n",
       "    </tr>\n",
       "    <tr>\n",
       "      <th>max</th>\n",
       "      <td>208.100000</td>\n",
       "      <td>72.300000</td>\n",
       "      <td>59.800000</td>\n",
       "      <td>326.000000</td>\n",
       "      <td>4.170000</td>\n",
       "      <td>23.000000</td>\n",
       "      <td>288.000000</td>\n",
       "      <td>45400.000000</td>\n",
       "    </tr>\n",
       "  </tbody>\n",
       "</table>\n",
       "</div>"
      ],
      "text/plain": [
       "           length       width      height  engine-size      stroke  \\\n",
       "count  205.000000  205.000000  205.000000   205.000000  201.000000   \n",
       "mean   174.049268   65.907805   53.724878   126.907317    3.255423   \n",
       "std     12.337289    2.145204    2.443522    41.642693    0.316717   \n",
       "min    141.100000   60.300000   47.800000    61.000000    2.070000   \n",
       "25%    166.300000   64.100000   52.000000    97.000000    3.110000   \n",
       "50%    173.200000   65.500000   54.100000   120.000000    3.290000   \n",
       "75%    183.100000   66.900000   55.500000   141.000000    3.410000   \n",
       "max    208.100000   72.300000   59.800000   326.000000    4.170000   \n",
       "\n",
       "       compression-ratio  horsepower         price  \n",
       "count         205.000000  203.000000    201.000000  \n",
       "mean           10.142537  104.256158  13207.129353  \n",
       "std             3.972040   39.714369   7947.066342  \n",
       "min             7.000000   48.000000   5118.000000  \n",
       "25%             8.600000   70.000000   7775.000000  \n",
       "50%             9.000000   95.000000  10295.000000  \n",
       "75%             9.400000  116.000000  16500.000000  \n",
       "max            23.000000  288.000000  45400.000000  "
      ]
     },
     "execution_count": 4,
     "metadata": {},
     "output_type": "execute_result"
    }
   ],
   "source": [
    "features.describe()"
   ]
  },
  {
   "cell_type": "code",
   "execution_count": 5,
   "metadata": {
    "collapsed": false,
    "jupyter": {
     "outputs_hidden": false
    }
   },
   "outputs": [
    {
     "data": {
      "text/html": [
       "<div>\n",
       "<style scoped>\n",
       "    .dataframe tbody tr th:only-of-type {\n",
       "        vertical-align: middle;\n",
       "    }\n",
       "\n",
       "    .dataframe tbody tr th {\n",
       "        vertical-align: top;\n",
       "    }\n",
       "\n",
       "    .dataframe thead th {\n",
       "        text-align: right;\n",
       "    }\n",
       "</style>\n",
       "<table border=\"1\" class=\"dataframe\">\n",
       "  <thead>\n",
       "    <tr style=\"text-align: right;\">\n",
       "      <th></th>\n",
       "      <th>length</th>\n",
       "      <th>width</th>\n",
       "      <th>height</th>\n",
       "      <th>engine-size</th>\n",
       "      <th>stroke</th>\n",
       "      <th>compression-ratio</th>\n",
       "      <th>horsepower</th>\n",
       "      <th>price</th>\n",
       "    </tr>\n",
       "  </thead>\n",
       "  <tbody>\n",
       "    <tr>\n",
       "      <th>count</th>\n",
       "      <td>2.050000e+02</td>\n",
       "      <td>2.050000e+02</td>\n",
       "      <td>2.050000e+02</td>\n",
       "      <td>2.050000e+02</td>\n",
       "      <td>2.010000e+02</td>\n",
       "      <td>2.050000e+02</td>\n",
       "      <td>2.030000e+02</td>\n",
       "      <td>2.010000e+02</td>\n",
       "    </tr>\n",
       "    <tr>\n",
       "      <th>mean</th>\n",
       "      <td>3.656696e-15</td>\n",
       "      <td>1.089643e-15</td>\n",
       "      <td>-5.372396e-16</td>\n",
       "      <td>3.466062e-17</td>\n",
       "      <td>9.721356e-16</td>\n",
       "      <td>-3.639365e-16</td>\n",
       "      <td>-1.159445e-16</td>\n",
       "      <td>-5.302558e-17</td>\n",
       "    </tr>\n",
       "    <tr>\n",
       "      <th>std</th>\n",
       "      <td>1.002448e+00</td>\n",
       "      <td>1.002448e+00</td>\n",
       "      <td>1.002448e+00</td>\n",
       "      <td>1.002448e+00</td>\n",
       "      <td>1.002497e+00</td>\n",
       "      <td>1.002448e+00</td>\n",
       "      <td>1.002472e+00</td>\n",
       "      <td>1.002497e+00</td>\n",
       "    </tr>\n",
       "    <tr>\n",
       "      <th>min</th>\n",
       "      <td>-2.677244e+00</td>\n",
       "      <td>-2.620512e+00</td>\n",
       "      <td>-2.430664e+00</td>\n",
       "      <td>-1.586561e+00</td>\n",
       "      <td>-3.752186e+00</td>\n",
       "      <td>-7.931011e-01</td>\n",
       "      <td>-1.420021e+00</td>\n",
       "      <td>-1.020418e+00</td>\n",
       "    </tr>\n",
       "    <tr>\n",
       "      <th>25%</th>\n",
       "      <td>-6.296552e-01</td>\n",
       "      <td>-8.447824e-01</td>\n",
       "      <td>-7.076263e-01</td>\n",
       "      <td>-7.199469e-01</td>\n",
       "      <td>-4.603030e-01</td>\n",
       "      <td>-3.892993e-01</td>\n",
       "      <td>-8.646957e-01</td>\n",
       "      <td>-6.852457e-01</td>\n",
       "    </tr>\n",
       "    <tr>\n",
       "      <th>50%</th>\n",
       "      <td>-6.900603e-02</td>\n",
       "      <td>-1.905661e-01</td>\n",
       "      <td>1.538927e-01</td>\n",
       "      <td>-1.662771e-01</td>\n",
       "      <td>1.094460e-01</td>\n",
       "      <td>-2.883489e-01</td>\n",
       "      <td>-2.336444e-01</td>\n",
       "      <td>-3.673558e-01</td>\n",
       "    </tr>\n",
       "    <tr>\n",
       "      <th>75%</th>\n",
       "      <td>7.354037e-01</td>\n",
       "      <td>4.636501e-01</td>\n",
       "      <td>7.282388e-01</td>\n",
       "      <td>3.392475e-01</td>\n",
       "      <td>4.892786e-01</td>\n",
       "      <td>-1.873985e-01</td>\n",
       "      <td>2.964387e-01</td>\n",
       "      <td>4.153851e-01</td>\n",
       "    </tr>\n",
       "    <tr>\n",
       "      <th>max</th>\n",
       "      <td>2.766741e+00</td>\n",
       "      <td>2.987056e+00</td>\n",
       "      <td>2.492302e+00</td>\n",
       "      <td>4.792679e+00</td>\n",
       "      <td>2.894885e+00</td>\n",
       "      <td>3.244916e+00</td>\n",
       "      <td>4.638072e+00</td>\n",
       "      <td>4.061027e+00</td>\n",
       "    </tr>\n",
       "  </tbody>\n",
       "</table>\n",
       "</div>"
      ],
      "text/plain": [
       "             length         width        height   engine-size        stroke  \\\n",
       "count  2.050000e+02  2.050000e+02  2.050000e+02  2.050000e+02  2.010000e+02   \n",
       "mean   3.656696e-15  1.089643e-15 -5.372396e-16  3.466062e-17  9.721356e-16   \n",
       "std    1.002448e+00  1.002448e+00  1.002448e+00  1.002448e+00  1.002497e+00   \n",
       "min   -2.677244e+00 -2.620512e+00 -2.430664e+00 -1.586561e+00 -3.752186e+00   \n",
       "25%   -6.296552e-01 -8.447824e-01 -7.076263e-01 -7.199469e-01 -4.603030e-01   \n",
       "50%   -6.900603e-02 -1.905661e-01  1.538927e-01 -1.662771e-01  1.094460e-01   \n",
       "75%    7.354037e-01  4.636501e-01  7.282388e-01  3.392475e-01  4.892786e-01   \n",
       "max    2.766741e+00  2.987056e+00  2.492302e+00  4.792679e+00  2.894885e+00   \n",
       "\n",
       "       compression-ratio    horsepower         price  \n",
       "count       2.050000e+02  2.030000e+02  2.010000e+02  \n",
       "mean       -3.639365e-16 -1.159445e-16 -5.302558e-17  \n",
       "std         1.002448e+00  1.002472e+00  1.002497e+00  \n",
       "min        -7.931011e-01 -1.420021e+00 -1.020418e+00  \n",
       "25%        -3.892993e-01 -8.646957e-01 -6.852457e-01  \n",
       "50%        -2.883489e-01 -2.336444e-01 -3.673558e-01  \n",
       "75%        -1.873985e-01  2.964387e-01  4.153851e-01  \n",
       "max         3.244916e+00  4.638072e+00  4.061027e+00  "
      ]
     },
     "execution_count": 5,
     "metadata": {},
     "output_type": "execute_result"
    }
   ],
   "source": [
    "features_std.describe()"
   ]
  },
  {
   "cell_type": "markdown",
   "metadata": {},
   "source": [
    "Let's take a look at the histogram of the data before transformation:"
   ]
  },
  {
   "cell_type": "code",
   "execution_count": 6,
   "metadata": {},
   "outputs": [
    {
     "data": {
      "image/png": "[encoded data removed]",
      "text/plain": [
       "<Figure size 864x432 with 8 Axes>"
      ]
     },
     "metadata": {
      "needs_background": "light"
     },
     "output_type": "display_data"
    }
   ],
   "source": [
    "# VISUALISATION\n",
    "import seaborn as sns\n",
    "import matplotlib.pyplot as plt\n",
    "import pandas as pd\n",
    "%matplotlib inline\n",
    "\n",
    "long_feat = pd.melt(features,\n",
    "                  value_vars=['length', 'width', 'height', 'engine-size', 'stroke', 'compression-ratio', 'horsepower', 'price'] )\n",
    "fg=sns.FacetGrid(long_feat, col=\"variable\", col_wrap=4, sharex=False)\n",
    "fg=fg.map(plt.hist, \"value\" )"
   ]
  },
  {
   "cell_type": "markdown",
   "metadata": {},
   "source": [
    "Let's take a look at the histogram of the transformed data:"
   ]
  },
  {
   "cell_type": "code",
   "execution_count": 7,
   "metadata": {
    "collapsed": false,
    "jupyter": {
     "outputs_hidden": false
    }
   },
   "outputs": [
    {
     "data": {
      "image/png": "[encoded data removed]",
      "text/plain": [
       "<Figure size 864x432 with 8 Axes>"
      ]
     },
     "metadata": {
      "needs_background": "light"
     },
     "output_type": "display_data"
    }
   ],
   "source": [
    "# VISUALISATION\n",
    "long_feat = pd.melt(features_std,\n",
    "                  value_vars=['length', 'width', 'height', 'engine-size', 'stroke', 'compression-ratio', 'horsepower', 'price'] )\n",
    "fg=sns.FacetGrid(long_feat, col=\"variable\", col_wrap=4, sharex=False)\n",
    "fg=fg.map(plt.hist, \"value\" )"
   ]
  },
  {
   "cell_type": "markdown",
   "metadata": {},
   "source": [
    "We can see the mean and scale used in the transformation:"
   ]
  },
  {
   "cell_type": "code",
   "execution_count": 8,
   "metadata": {
    "collapsed": false,
    "jupyter": {
     "outputs_hidden": false
    }
   },
   "outputs": [
    {
     "name": "stdout",
     "output_type": "stream",
     "text": [
      "[1.74049268e+02 6.59078049e+01 5.37248780e+01 1.26907317e+02\n",
      " 3.25542289e+00 1.01425366e+01 1.04256158e+02 1.32071294e+04]\n",
      "[1.23071608e+01 2.13996525e+00 2.43755487e+00 4.15410017e+01\n",
      " 3.15928617e-01 3.96234058e+00 3.96164294e+01 7.92727287e+03]\n"
     ]
    }
   ],
   "source": [
    "print(std_scaler.mean_)\n",
    "print(std_scaler.scale_)"
   ]
  }
 ],
 "metadata": {
  "kernelspec": {
   "display_name": "PyCharm (Warp-Clustering)",
   "language": "python",
   "name": "pycharm-b613d24b"
  },
  "language_info": {
   "codemirror_mode": {
    "name": "ipython",
    "version": 3
   },
   "file_extension": ".py",
   "mimetype": "text/x-python",
   "name": "python",
   "nbconvert_exporter": "python",
   "pygments_lexer": "ipython3",
   "version": "3.8.8"
  }
 },
 "nbformat": 4,
 "nbformat_minor": 4
}
