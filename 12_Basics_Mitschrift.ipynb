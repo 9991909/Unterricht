{
 "cells": [
  {
   "cell_type": "code",
   "execution_count": 1,
   "metadata": {
    "colab": {
     "base_uri": "https://localhost:8080/"
    },
    "id": "wxAZiiwuM_3N",
    "outputId": "9c81da56-e2f3-4979-9fb0-ddb90a2dcf3a"
   },
   "outputs": [
    {
     "data": {
      "text/plain": [
       "4"
      ]
     },
     "execution_count": 1,
     "metadata": {},
     "output_type": "execute_result"
    }
   ],
   "source": [
    "2+2"
   ]
  },
  {
   "cell_type": "code",
   "execution_count": 3,
   "metadata": {
    "colab": {
     "base_uri": "https://localhost:8080/"
    },
    "id": "kS1HBS1FNFBy",
    "outputId": "3cf4d82e-6461-4125-bfef-5083165a5d3b"
   },
   "outputs": [
    {
     "data": {
      "text/plain": [
       "124"
      ]
     },
     "execution_count": 3,
     "metadata": {},
     "output_type": "execute_result"
    }
   ],
   "source": [
    "34 + (45 * 2)"
   ]
  },
  {
   "cell_type": "code",
   "execution_count": 4,
   "metadata": {
    "colab": {
     "base_uri": "https://localhost:8080/"
    },
    "id": "G7NQxMVoNItV",
    "outputId": "f05dc226-3fd3-47ef-8019-e4fb4d8c79a6"
   },
   "outputs": [
    {
     "data": {
      "text/plain": [
       "158"
      ]
     },
     "execution_count": 4,
     "metadata": {},
     "output_type": "execute_result"
    }
   ],
   "source": [
    "(34 + 45) * 2"
   ]
  },
  {
   "cell_type": "code",
   "execution_count": 5,
   "metadata": {
    "colab": {
     "base_uri": "https://localhost:8080/"
    },
    "id": "DpPLFWgPNMbc",
    "outputId": "4d6f543e-6557-4bda-9b99-a3682ef94e5f"
   },
   "outputs": [
    {
     "data": {
      "text/plain": [
       "8.0"
      ]
     },
     "execution_count": 5,
     "metadata": {},
     "output_type": "execute_result"
    }
   ],
   "source": [
    "(40 - 4 * 2) / 4"
   ]
  },
  {
   "cell_type": "code",
   "execution_count": 35,
   "metadata": {
    "colab": {
     "base_uri": "https://localhost:8080/"
    },
    "id": "rNAExx0ENQek",
    "outputId": "1584d6a6-78b7-44f4-8fb2-7a7816e9d8ca"
   },
   "outputs": [
    {
     "data": {
      "text/plain": [
       "2.5"
      ]
     },
     "execution_count": 35,
     "metadata": {},
     "output_type": "execute_result"
    }
   ],
   "source": [
    "5 / 2"
   ]
  },
  {
   "cell_type": "code",
   "execution_count": 7,
   "metadata": {
    "colab": {
     "base_uri": "https://localhost:8080/"
    },
    "id": "uk4UygOeNUIt",
    "outputId": "01393709-f5fd-4926-c149-bd09bf097998"
   },
   "outputs": [
    {
     "data": {
      "text/plain": [
       "2.5"
      ]
     },
     "execution_count": 7,
     "metadata": {},
     "output_type": "execute_result"
    }
   ],
   "source": [
    "5 / 2."
   ]
  },
  {
   "cell_type": "code",
   "execution_count": 8,
   "metadata": {
    "colab": {
     "base_uri": "https://localhost:8080/"
    },
    "id": "PGoGiCwGNXjU",
    "outputId": "b2f6bcba-7d5c-4ae7-b329-a682c27a74b0"
   },
   "outputs": [
    {
     "data": {
      "text/plain": [
       "2"
      ]
     },
     "execution_count": 8,
     "metadata": {},
     "output_type": "execute_result"
    }
   ],
   "source": [
    "14 % 3 # Modulus operator, it returns the remainder of the integer division"
   ]
  },
  {
   "cell_type": "code",
   "execution_count": 9,
   "metadata": {
    "colab": {
     "base_uri": "https://localhost:8080/"
    },
    "id": "LP3illJmNbIJ",
    "outputId": "27338604-b81b-4bed-ed0f-d7f454d05cb9"
   },
   "outputs": [
    {
     "data": {
      "text/plain": [
       "16"
      ]
     },
     "execution_count": 9,
     "metadata": {},
     "output_type": "execute_result"
    }
   ],
   "source": [
    "4 ** 2"
   ]
  },
  {
   "cell_type": "code",
   "execution_count": 11,
   "metadata": {
    "colab": {
     "base_uri": "https://localhost:8080/"
    },
    "id": "oeRsiajJNfCA",
    "outputId": "0ecfcd08-25bf-49b0-a56e-de9bfc69c4f5"
   },
   "outputs": [
    {
     "name": "stdout",
     "output_type": "stream",
     "text": [
      "<class 'int'>\n",
      "<class 'float'>\n"
     ]
    }
   ],
   "source": [
    "x = 100000\n",
    "print( type(x) )\n",
    "print( type(3.) )"
   ]
  },
  {
   "cell_type": "code",
   "execution_count": 13,
   "metadata": {
    "colab": {
     "base_uri": "https://localhost:8080/"
    },
    "id": "42Uwd4s4N0Hy",
    "outputId": "96a23d76-7514-4d48-ce13-765ab68d8bb5"
   },
   "outputs": [
    {
     "name": "stdout",
     "output_type": "stream",
     "text": [
      "Python is 'literally' awesome. Isn't it?\n",
      "Python is \"literally\" awesome. Isn't it?\n"
     ]
    }
   ],
   "source": [
    "a = \"Python is 'literally' awesome. Isn\\'t it?\"\n",
    "b = 'Python is \"literally\" awesome. Isn\\'t it?'\n",
    "print(a)\n",
    "print(b)"
   ]
  },
  {
   "cell_type": "code",
   "execution_count": 21,
   "metadata": {
    "colab": {
     "base_uri": "https://localhost:8080/"
    },
    "id": "O_0lxK_wN7ze",
    "outputId": "5bcf3fa0-b984-4bca-b2ee-50dfe2d784ac"
   },
   "outputs": [
    {
     "name": "stdout",
     "output_type": "stream",
     "text": [
      "Hello World\n",
      "Hello WorldHello WorldHello World\n"
     ]
    }
   ],
   "source": [
    "a = 'Hello '\n",
    "b = 'World'\n",
    "c = a + b\n",
    "print(c)\n",
    "print( (a+b) * 3)"
   ]
  },
  {
   "cell_type": "code",
   "execution_count": 32,
   "metadata": {
    "colab": {
     "base_uri": "https://localhost:8080/"
    },
    "id": "oF-p2Nl9OaD1",
    "outputId": "99082978-ba74-4295-e8e1-5e906ce04525"
   },
   "outputs": [
    {
     "name": "stdout",
     "output_type": "stream",
     "text": [
      "H\n",
      "ell\n",
      "d\n",
      "lo World\n",
      " World\n",
      "HloW\n",
      "dlroW olleH\n"
     ]
    }
   ],
   "source": [
    "print(c[0])\n",
    "print(c[1:4])\n",
    "print(c[-1])\n",
    "print(c[3:])\n",
    "print(c[-6:])  # if the first or last index is omitted, it defaults to zero\n",
    "print(c[:8:2]) # a third index defines the step. Here, in every two letters one is selected\n",
    "print(c[::-1]) # all charaters in reverse order"
   ]
  },
  {
   "cell_type": "code",
   "execution_count": 33,
   "metadata": {
    "colab": {
     "base_uri": "https://localhost:8080/"
    },
    "id": "xcE7G1JrOaLa",
    "outputId": "5aec5726-7a5f-40df-dc31-9647a5567440"
   },
   "outputs": [
    {
     "name": "stdout",
     "output_type": "stream",
     "text": [
      "hello ' \n",
      "hello \"' \n"
     ]
    }
   ],
   "source": [
    "x = \"hello ' \"\n",
    "print(x)\n",
    "x = 'hello \\\"\\' '\n",
    "print(x)"
   ]
  },
  {
   "cell_type": "code",
   "execution_count": 34,
   "metadata": {
    "colab": {
     "base_uri": "https://localhost:8080/"
    },
    "id": "uMTuiO_DR7Tg",
    "outputId": "3ae95f2d-721d-4114-bec3-ea40b2bbb911"
   },
   "outputs": [
    {
     "name": "stdout",
     "output_type": "stream",
     "text": [
      "the value of pi is 3.14\n",
      "the value of pi is 3.140000\n"
     ]
    }
   ],
   "source": [
    "pi = 3.14\n",
    "print(\"the value of pi is {}\".format(pi))\n",
    "print(\"the value of pi is %f\" % pi)"
   ]
  },
  {
   "cell_type": "markdown",
   "metadata": {
    "id": "GSYld6KiSVyI"
   },
   "source": [
    "## Compound data types"
   ]
  },
  {
   "cell_type": "markdown",
   "metadata": {
    "id": "E0unFLQhSYWi"
   },
   "source": [
    "### Lists"
   ]
  },
  {
   "cell_type": "code",
   "execution_count": 59,
   "metadata": {
    "colab": {
     "base_uri": "https://localhost:8080/"
    },
    "id": "IVMwiX2OSXK2",
    "outputId": "5d0e31cf-2647-4573-9a80-7571e483302a"
   },
   "outputs": [
    {
     "name": "stdout",
     "output_type": "stream",
     "text": [
      "[1, 2, 3, 5, 7, 11, 'string', 6.7]\n",
      "<class 'float'>\n"
     ]
    }
   ],
   "source": [
    "example_list = [1, 2, 3, 5, 7, 11, \"string\", 6.7]\n",
    "print(example_list)\n",
    "print(type(example_list[-1]))"
   ]
  },
  {
   "cell_type": "code",
   "execution_count": 45,
   "metadata": {
    "colab": {
     "base_uri": "https://localhost:8080/"
    },
    "id": "-bHLimX4TX5t",
    "outputId": "eed1bf88-5dcc-4704-ed73-e90d69523d7b"
   },
   "outputs": [
    {
     "name": "stdout",
     "output_type": "stream",
     "text": [
      "[3, 5, 7, 11]\n",
      "11\n",
      "string\n"
     ]
    }
   ],
   "source": [
    "print(example_list[2:6])\n",
    "print(example_list[5])\n",
    "print(example_list[6])"
   ]
  },
  {
   "cell_type": "code",
   "execution_count": 60,
   "metadata": {
    "colab": {
     "base_uri": "https://localhost:8080/"
    },
    "id": "OY-Ve_lvTkBl",
    "outputId": "bd196857-556e-4227-e8f9-9e388dddf0f7"
   },
   "outputs": [
    {
     "name": "stdout",
     "output_type": "stream",
     "text": [
      "[1, 2, 3, 5, 7, 11, 'string', 6.7, 'another', 'list']\n",
      "[1, 2, 3, 5, 7, 11, 'string', 6.7, 1, 2, 3, 5, 7, 11, 'string', 6.7]\n"
     ]
    }
   ],
   "source": [
    "new_list = example_list + [\"another\", \"list\"]\n",
    "print(new_list)\n",
    "print(example_list * 2)"
   ]
  },
  {
   "cell_type": "code",
   "execution_count": 61,
   "metadata": {
    "colab": {
     "base_uri": "https://localhost:8080/"
    },
    "id": "Ph7O6-iiTxpH",
    "outputId": "226cac66-3138-4088-e89d-b3d3568ae66e"
   },
   "outputs": [
    {
     "name": "stdout",
     "output_type": "stream",
     "text": [
      "['new element', 2, 3, 5, 7, 11, 'string', 6.7]\n"
     ]
    }
   ],
   "source": [
    "example_list[0] = \"new element\"\n",
    "print(example_list)  # mutable"
   ]
  },
  {
   "cell_type": "code",
   "execution_count": 62,
   "metadata": {
    "colab": {
     "base_uri": "https://localhost:8080/"
    },
    "id": "M6o1-rrPUGH-",
    "outputId": "4bfaa0a7-571c-4bfe-e3de-9f9ddef70935"
   },
   "outputs": [
    {
     "name": "stdout",
     "output_type": "stream",
     "text": [
      "['new element', 2, 3, 234, 456, 6.7]\n"
     ]
    }
   ],
   "source": [
    "example_list[3:7] = [234, 456]\n",
    "print(example_list)"
   ]
  },
  {
   "cell_type": "code",
   "execution_count": 63,
   "metadata": {
    "colab": {
     "base_uri": "https://localhost:8080/"
    },
    "id": "5WagA2RBUa_F",
    "outputId": "d5666d5d-a5ed-4349-fed9-c01a62c55bf9"
   },
   "outputs": [
    {
     "name": "stdout",
     "output_type": "stream",
     "text": [
      "['new element', 2, 3, 234, 456, 6.7, 'last element']\n"
     ]
    }
   ],
   "source": [
    "example_list.append(\"last element\")\n",
    "print(example_list)"
   ]
  },
  {
   "cell_type": "code",
   "execution_count": 64,
   "metadata": {
    "colab": {
     "base_uri": "https://localhost:8080/"
    },
    "id": "4hFQcZ8YUhke",
    "outputId": "113a13f3-def9-4cb0-a988-b236f59f12fb"
   },
   "outputs": [
    {
     "name": "stdout",
     "output_type": "stream",
     "text": [
      "7\n",
      "['new element', 2, 3, 234, 456, 6.7, 'last element']\n"
     ]
    }
   ],
   "source": [
    "print(len(example_list))        # length of the list\n",
    "print(example_list)"
   ]
  },
  {
   "cell_type": "code",
   "execution_count": 65,
   "metadata": {
    "colab": {
     "base_uri": "https://localhost:8080/"
    },
    "id": "ms2szDl9UoVV",
    "outputId": "c7674a42-ed7d-42fa-9af8-94d439653818"
   },
   "outputs": [
    {
     "name": "stdout",
     "output_type": "stream",
     "text": [
      "7\n",
      "['new element', 2, 3, 234, 456, 6.7, 'last element']\n",
      "234\n",
      "['new element', 2, 3, 456, 6.7, 'last element']\n"
     ]
    }
   ],
   "source": [
    "print(len(example_list))        # length of the list\n",
    "print(example_list)\n",
    "print(example_list.pop(3))      # returns element with index 3 and removes it\n",
    "print(example_list)"
   ]
  },
  {
   "cell_type": "code",
   "execution_count": 68,
   "metadata": {
    "colab": {
     "base_uri": "https://localhost:8080/"
    },
    "id": "0gCfqoTfU8a0",
    "outputId": "fb3507b3-a8ca-4dc4-dd31-c659482631f2"
   },
   "outputs": [
    {
     "name": "stdout",
     "output_type": "stream",
     "text": [
      "0\n"
     ]
    }
   ],
   "source": [
    "example_list.append('new element')\n",
    "print(example_list.index('new element'))  # returns index of element"
   ]
  },
  {
   "cell_type": "code",
   "execution_count": 70,
   "metadata": {
    "colab": {
     "base_uri": "https://localhost:8080/"
    },
    "id": "K9rmkzFzVdCa",
    "outputId": "d1e974c3-7a64-42a7-faa4-88db518501ff"
   },
   "outputs": [
    {
     "name": "stdout",
     "output_type": "stream",
     "text": [
      "range(0, 10)\n",
      "range(2, 20, 4)\n"
     ]
    }
   ],
   "source": [
    "print(range(10))\n",
    "print(range(2, 20, 4))"
   ]
  },
  {
   "cell_type": "code",
   "execution_count": 72,
   "metadata": {
    "colab": {
     "base_uri": "https://localhost:8080/"
    },
    "id": "ItFAONsGVkE7",
    "outputId": "773541f4-a72f-4765-dfa0-f61faa644587"
   },
   "outputs": [
    {
     "name": "stdout",
     "output_type": "stream",
     "text": [
      "[0, 1, 2, 3, 4, 5, 6, 7, 8, 9]\n",
      "[4, 5, 6, 7, 8, 9]\n",
      "[2, 6, 10, 14, 18]\n"
     ]
    }
   ],
   "source": [
    "print(list(range(10)))\n",
    "print(list(range(4, 10)))\n",
    "print(list(range(2, 20, 4)))"
   ]
  },
  {
   "cell_type": "code",
   "execution_count": 73,
   "metadata": {
    "colab": {
     "base_uri": "https://localhost:8080/"
    },
    "id": "ouE7np-uVwxt",
    "outputId": "8596131e-269c-445d-acb4-fac371017dbc"
   },
   "outputs": [
    {
     "name": "stdout",
     "output_type": "stream",
     "text": [
      "1\n",
      "[7, 2, 8]\n",
      "2\n"
     ]
    }
   ],
   "source": [
    "a=[1, 2, [7,2,8]]\n",
    "print(a[0])\n",
    "print(a[2])\n",
    "print(a[2][1])"
   ]
  },
  {
   "cell_type": "markdown",
   "metadata": {
    "id": "NAQ7KMHpYLKK"
   },
   "source": [
    "## Tuples"
   ]
  },
  {
   "cell_type": "code",
   "execution_count": 74,
   "metadata": {
    "colab": {
     "base_uri": "https://localhost:8080/"
    },
    "id": "cB3GtEGDYNhP",
    "outputId": "792e60a1-ea2d-4588-8f6a-3bf3aa80988e"
   },
   "outputs": [
    {
     "name": "stdout",
     "output_type": "stream",
     "text": [
      "(23, 45, 45, 'last')\n",
      "45\n"
     ]
    }
   ],
   "source": [
    "my_tuple = 23, 45, 45, \"last\"\n",
    "my_tuple = (23, 45, 45, \"last\")\n",
    "print(my_tuple)\n",
    "print(my_tuple[1])"
   ]
  },
  {
   "cell_type": "code",
   "execution_count": 76,
   "metadata": {
    "colab": {
     "base_uri": "https://localhost:8080/",
     "height": 166
    },
    "id": "0rtZm9WjYkHc",
    "outputId": "5ddc1fe4-49b4-4b74-ac41-9231d7f3feb8"
   },
   "outputs": [
    {
     "ename": "AttributeError",
     "evalue": "ignored",
     "output_type": "error",
     "traceback": [
      "\u001b[0;31m---------------------------------------------------------------------------\u001b[0m",
      "\u001b[0;31mAttributeError\u001b[0m                            Traceback (most recent call last)",
      "\u001b[0;32m<ipython-input-76-390934c83b91>\u001b[0m in \u001b[0;36m<module>\u001b[0;34m()\u001b[0m\n\u001b[0;32m----> 1\u001b[0;31m \u001b[0mmy_tuple\u001b[0m\u001b[0;34m.\u001b[0m\u001b[0mappend\u001b[0m\u001b[0;34m(\u001b[0m\u001b[0;36m3\u001b[0m\u001b[0;34m)\u001b[0m\u001b[0;34m\u001b[0m\u001b[0;34m\u001b[0m\u001b[0m\n\u001b[0m",
      "\u001b[0;31mAttributeError\u001b[0m: 'tuple' object has no attribute 'append'"
     ]
    }
   ],
   "source": [
    "my_tuple[0] = 3\n",
    "my_tuple.append(3)  # immutable"
   ]
  },
  {
   "cell_type": "code",
   "execution_count": 77,
   "metadata": {
    "colab": {
     "base_uri": "https://localhost:8080/"
    },
    "id": "TYuJ0Y_baGSS",
    "outputId": "a5ab9a91-3843-490f-e164-1af4857ca6a8"
   },
   "outputs": [
    {
     "name": "stdout",
     "output_type": "stream",
     "text": [
      "23\n",
      "45\n",
      "45\n",
      "last\n"
     ]
    }
   ],
   "source": [
    "a, b, c, d = my_tuple\n",
    "print(a)\n",
    "print(b)\n",
    "print(c)\n",
    "print(d)"
   ]
  },
  {
   "cell_type": "markdown",
   "metadata": {
    "id": "c3ajmXAEazOd"
   },
   "source": [
    "## Dictionaries"
   ]
  },
  {
   "cell_type": "code",
   "execution_count": 78,
   "metadata": {
    "colab": {
     "base_uri": "https://localhost:8080/"
    },
    "id": "9ll2C_vDa2nE",
    "outputId": "a8178012-1b41-4de9-cf7e-bcf63bff5d87"
   },
   "outputs": [
    {
     "name": "stdout",
     "output_type": "stream",
     "text": [
      "{'abraham': 11, 'josef': 22, 'carla': 33}\n",
      "11\n",
      "33\n"
     ]
    }
   ],
   "source": [
    "my_dict = {'abraham': 11, 'josef': 22, 'carla': 33}\n",
    "print(my_dict)\n",
    "print(my_dict['abraham'])\n",
    "print(my_dict['carla'])"
   ]
  },
  {
   "cell_type": "code",
   "execution_count": 80,
   "metadata": {
    "colab": {
     "base_uri": "https://localhost:8080/"
    },
    "id": "46YPbcyIb2h0",
    "outputId": "42a3b6d5-238c-458d-a1b6-3b03dfb3dad3"
   },
   "outputs": [
    {
     "name": "stdout",
     "output_type": "stream",
     "text": [
      "{'abraham': 11, 'josef': 22, 'carla': 33, 'franz': 99}\n",
      "dict_keys(['abraham', 'josef', 'carla', 'franz'])\n",
      "dict_values([11, 22, 33, 99])\n"
     ]
    }
   ],
   "source": [
    "my_dict['franz'] = 99\n",
    "print(my_dict)\n",
    "print(my_dict.keys())\n",
    "print(my_dict.values())"
   ]
  },
  {
   "cell_type": "markdown",
   "metadata": {
    "id": "6v9B11j8cU8F"
   },
   "source": [
    "### Membership operators"
   ]
  },
  {
   "cell_type": "code",
   "execution_count": 81,
   "metadata": {
    "colab": {
     "base_uri": "https://localhost:8080/"
    },
    "id": "c8VL-8GZcS4X",
    "outputId": "2484f8eb-0980-4891-8e97-2235b3a07f29"
   },
   "outputs": [
    {
     "name": "stdout",
     "output_type": "stream",
     "text": [
      "True\n",
      "False\n",
      "True\n",
      "True\n"
     ]
    }
   ],
   "source": [
    "print('franz' in my_dict)\n",
    "print('anne' in my_dict)\n",
    "print('last' in my_tuple)\n",
    "print(2 in [1,2,3])"
   ]
  },
  {
   "cell_type": "markdown",
   "metadata": {
    "id": "G_jYr5TLcsGD"
   },
   "source": [
    "# Basic programming - control flow\n",
    "\n",
    "## The ```if``` statement"
   ]
  },
  {
   "cell_type": "code",
   "execution_count": 86,
   "metadata": {
    "colab": {
     "base_uri": "https://localhost:8080/"
    },
    "id": "Y3QX6jqDcn4R",
    "outputId": "8e124e72-b4bc-4c5a-fcdb-83ebae745cf2"
   },
   "outputs": [
    {
     "name": "stdout",
     "output_type": "stream",
     "text": [
      "x equals to 1\n"
     ]
    }
   ],
   "source": [
    "x = 1\n",
    "\n",
    "if(x == 1):\n",
    "     print('x equals to 1')"
   ]
  },
  {
   "cell_type": "code",
   "execution_count": 87,
   "metadata": {
    "colab": {
     "base_uri": "https://localhost:8080/"
    },
    "id": "WnLT7NfJdH8s",
    "outputId": "7a3663b8-e4ad-4bae-e720-fbeb16bb69ab"
   },
   "outputs": [
    {
     "name": "stdout",
     "output_type": "stream",
     "text": [
      "a is equal to 1\n",
      "b is equal to 2\n"
     ]
    }
   ],
   "source": [
    "a = 1\n",
    "b = 2\n",
    "if (a == 1):\n",
    "    print(\"a is equal to 1\")\n",
    "    if b == 2:\n",
    "        print('b is equal to 2')"
   ]
  },
  {
   "cell_type": "code",
   "execution_count": 102,
   "metadata": {
    "colab": {
     "base_uri": "https://localhost:8080/"
    },
    "id": "cq_cPed9dNZa",
    "outputId": "08543fa6-4b60-48e4-b648-a0dcd9d0891e"
   },
   "outputs": [
    {
     "name": "stdout",
     "output_type": "stream",
     "text": [
      "nice!\n"
     ]
    }
   ],
   "source": [
    "t = 10\n",
    "\n",
    "if (t >= 20) and t < 30:\n",
    "    print(\"nice!\")\n",
    "elif t>=30:\n",
    "    print(\"It's too hot!\")\n",
    "else:\n",
    "    print(\"It's cold!\")"
   ]
  },
  {
   "cell_type": "markdown",
   "metadata": {
    "id": "ZHmbu_HTdwaG"
   },
   "source": [
    "## The ```for``` statement"
   ]
  },
  {
   "cell_type": "code",
   "execution_count": 90,
   "metadata": {
    "colab": {
     "base_uri": "https://localhost:8080/"
    },
    "id": "OO9u-NBXdy60",
    "outputId": "bacd50a2-50c0-4c6a-f7cb-0967db4f00e6"
   },
   "outputs": [
    {
     "name": "stdout",
     "output_type": "stream",
     "text": [
      "new element <class 'str'>\n",
      "2 <class 'int'>\n",
      "3 <class 'int'>\n",
      "456 <class 'int'>\n",
      "6.7 <class 'float'>\n",
      "last element <class 'str'>\n",
      "new element <class 'str'>\n"
     ]
    }
   ],
   "source": [
    "for elem in example_list:\n",
    "    print(elem, type(elem))"
   ]
  },
  {
   "cell_type": "code",
   "execution_count": 91,
   "metadata": {
    "colab": {
     "base_uri": "https://localhost:8080/"
    },
    "id": "tFlpBBmgeB72",
    "outputId": "58a6996d-f0c6-41b0-a5cd-bc4e74c2dc4f"
   },
   "outputs": [
    {
     "data": {
      "text/plain": [
       "['new element', 2, 3, 456, 6.7, 'last element', 'new element']"
      ]
     },
     "execution_count": 91,
     "metadata": {},
     "output_type": "execute_result"
    }
   ],
   "source": [
    "example_list"
   ]
  },
  {
   "cell_type": "code",
   "execution_count": 92,
   "metadata": {
    "colab": {
     "base_uri": "https://localhost:8080/"
    },
    "id": "liGWpuTleOlz",
    "outputId": "c795b968-4a39-467a-85cc-29343f8a16c1"
   },
   "outputs": [
    {
     "name": "stdout",
     "output_type": "stream",
     "text": [
      "0\n",
      "1\n",
      "4\n",
      "9\n",
      "16\n"
     ]
    }
   ],
   "source": [
    "for r in range(5):\n",
    "    print(r ** 2)"
   ]
  },
  {
   "cell_type": "code",
   "execution_count": 93,
   "metadata": {
    "colab": {
     "base_uri": "https://localhost:8080/"
    },
    "id": "P0dxwDswesZZ",
    "outputId": "abaa90e4-dc2c-4b29-b064-d705675ed2f1"
   },
   "outputs": [
    {
     "name": "stdout",
     "output_type": "stream",
     "text": [
      "0\n",
      "2\n",
      "4\n",
      "6\n",
      "8\n"
     ]
    }
   ],
   "source": [
    "for r in range(5):\n",
    "    x=r*2\n",
    "    print(x)"
   ]
  },
  {
   "cell_type": "code",
   "execution_count": 94,
   "metadata": {
    "colab": {
     "base_uri": "https://localhost:8080/"
    },
    "id": "cdfeAHIaexZu",
    "outputId": "7ff2b828-4944-4eeb-fb20-78b1697d63c2"
   },
   "outputs": [
    {
     "name": "stdout",
     "output_type": "stream",
     "text": [
      "8\n"
     ]
    }
   ],
   "source": [
    "for r in range(5):\n",
    "    x=r*2\n",
    "\n",
    "print(x)"
   ]
  },
  {
   "cell_type": "markdown",
   "metadata": {
    "id": "kl8IaAZ7hxfh"
   },
   "source": [
    "## while loop"
   ]
  },
  {
   "cell_type": "code",
   "execution_count": 104,
   "metadata": {
    "colab": {
     "base_uri": "https://localhost:8080/"
    },
    "id": "TwYz1wwvh0Gv",
    "outputId": "6fd6c048-e746-4d26-a1d3-9d05caaf7d8d"
   },
   "outputs": [
    {
     "name": "stdout",
     "output_type": "stream",
     "text": [
      "0\n",
      "1\n",
      "2\n",
      "3\n",
      "4\n"
     ]
    }
   ],
   "source": [
    "x = 0\n",
    "\n",
    "while x < 5:\n",
    "    print(x)\n",
    "    x = x + 1"
   ]
  },
  {
   "cell_type": "code",
   "execution_count": 106,
   "metadata": {
    "colab": {
     "base_uri": "https://localhost:8080/"
    },
    "id": "a-yUlrBkh-ka",
    "outputId": "098429ec-21b1-4813-ca37-be49aada9c47"
   },
   "outputs": [
    {
     "name": "stdout",
     "output_type": "stream",
     "text": [
      "0\n",
      "1\n",
      "2\n",
      "3\n",
      "4\n",
      "5\n"
     ]
    }
   ],
   "source": [
    "x = 0\n",
    "\n",
    "while True:\n",
    "    print(x)\n",
    "    x = x + 1\n",
    "    if x > 5:\n",
    "      break"
   ]
  },
  {
   "cell_type": "code",
   "execution_count": null,
   "metadata": {
    "id": "csg74WDzifOB"
   },
   "outputs": [],
   "source": [
    "asdf\n",
    "asdf\n",
    "asdf # Kommentar\n",
    "\n",
    "if True:\n",
    "  asdf\n",
    "  asdf\n",
    "  asdf\n",
    "  asdf\n",
    "\n",
    "asdf\n",
    "asdf\n",
    "asdf\n",
    "asdf"
   ]
  },
  {
   "cell_type": "markdown",
   "metadata": {
    "id": "hPB_HreQi5Tr"
   },
   "source": [
    "# Logical Operators"
   ]
  },
  {
   "cell_type": "code",
   "execution_count": 95,
   "metadata": {
    "colab": {
     "base_uri": "https://localhost:8080/"
    },
    "id": "ahk5efldfFoI",
    "outputId": "2cdc6ce5-d1e0-4732-e44a-a9a0be9cd857"
   },
   "outputs": [
    {
     "name": "stdout",
     "output_type": "stream",
     "text": [
      "False\n",
      "True\n",
      "False\n",
      "True\n",
      "False\n"
     ]
    }
   ],
   "source": [
    "a=1\n",
    "b=2\n",
    "print(a == b)   # is a equal to b?\n",
    "print(a < b)   # is a smaller than b?\n",
    "print(a > b)   # is a bigger than b?\n",
    "print(a != b)   # is a not equal to b?\n",
    "print(a >= b)   # is a bigger than or equal to b?"
   ]
  },
  {
   "cell_type": "code",
   "execution_count": 107,
   "metadata": {
    "colab": {
     "base_uri": "https://localhost:8080/"
    },
    "id": "gf5DDn3afRU4",
    "outputId": "6b1f9b3e-1120-41e6-c206-49303d430374"
   },
   "outputs": [
    {
     "name": "stdout",
     "output_type": "stream",
     "text": [
      "False\n"
     ]
    }
   ],
   "source": [
    "my_boolean = (a >= b)\n",
    "print(my_boolean)"
   ]
  },
  {
   "cell_type": "code",
   "execution_count": 108,
   "metadata": {
    "colab": {
     "base_uri": "https://localhost:8080/"
    },
    "id": "UI8uhmm6i-PW",
    "outputId": "3a8a9d97-51c1-43d4-d50c-f17b519f0b3d"
   },
   "outputs": [
    {
     "name": "stdout",
     "output_type": "stream",
     "text": [
      "True\n",
      "False\n",
      "True\n",
      "False\n"
     ]
    }
   ],
   "source": [
    "a=1\n",
    "b=2\n",
    "\n",
    "print(a != b and b==2*a)\n",
    "print(a!=b and b==3*a)\n",
    "print(a==b or b==2*a)\n",
    "print(not(a!=b))"
   ]
  },
  {
   "cell_type": "code",
   "execution_count": 109,
   "metadata": {
    "colab": {
     "base_uri": "https://localhost:8080/"
    },
    "id": "2SNUVnlCjEGD",
    "outputId": "3ccc45e4-b90c-4dca-e81e-a4f7f25d7cd2"
   },
   "outputs": [
    {
     "name": "stdout",
     "output_type": "stream",
     "text": [
      "True\n",
      "False\n",
      "False\n",
      "False\n"
     ]
    }
   ],
   "source": [
    "print(True and True)\n",
    "print(True and False)\n",
    "print(False and True)\n",
    "print(False and False)"
   ]
  },
  {
   "cell_type": "code",
   "execution_count": 110,
   "metadata": {
    "colab": {
     "base_uri": "https://localhost:8080/"
    },
    "id": "TCPjFK8IjWAi",
    "outputId": "12f76aca-c166-49a2-b5ad-0cc1548b54de"
   },
   "outputs": [
    {
     "name": "stdout",
     "output_type": "stream",
     "text": [
      "True\n",
      "True\n",
      "True\n",
      "False\n"
     ]
    }
   ],
   "source": [
    "print(True or True)   # True\n",
    "print(True or False)  # True\n",
    "print(False or True)  # True\n",
    "print(False or False) # False"
   ]
  },
  {
   "cell_type": "code",
   "execution_count": null,
   "metadata": {
    "id": "ASgHkfhlkH6g"
   },
   "outputs": [],
   "source": [
    "#   x ^ 2 = 4   =>    x=2  oder  x=-2"
   ]
  }
 ],
 "metadata": {
  "colab": {
   "name": "Untitled8.ipynb",
   "provenance": []
  },
  "kernelspec": {
   "display_name": "Python 3 (ipykernel)",
   "language": "python",
   "name": "python3"
  },
  "language_info": {
   "codemirror_mode": {
    "name": "ipython",
    "version": 3
   },
   "file_extension": ".py",
   "mimetype": "text/x-python",
   "name": "python",
   "nbconvert_exporter": "python",
   "pygments_lexer": "ipython3",
   "version": "3.8.5"
  }
 },
 "nbformat": 4,
 "nbformat_minor": 4
}
