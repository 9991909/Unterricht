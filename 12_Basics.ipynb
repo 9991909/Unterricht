{
 "cells": [
  {
   "cell_type": "markdown",
   "metadata": {},
   "source": [
    "<div align=\"center\"> <h1>Basics of Python</h1>\n",
    "    <h2><a href=\"...\">Richard Leibrandt</a></h2>\n",
    "</div>"
   ]
  },
  {
   "cell_type": "markdown",
   "metadata": {},
   "source": [
    "# Symbols\n",
    "\n",
    "Python uses symbols to references things. Let's play with that."
   ]
  },
  {
   "cell_type": "code",
   "execution_count": 1,
   "metadata": {},
   "outputs": [
    {
     "data": {
      "text/plain": [
       "1"
      ]
     },
     "execution_count": 1,
     "metadata": {},
     "output_type": "execute_result"
    }
   ],
   "source": [
    "a = 1\n",
    "a"
   ]
  },
  {
   "cell_type": "code",
   "execution_count": 2,
   "metadata": {},
   "outputs": [
    {
     "data": {
      "text/plain": [
       "1.234"
      ]
     },
     "execution_count": 2,
     "metadata": {},
     "output_type": "execute_result"
    }
   ],
   "source": [
    "b = 1.234\n",
    "b"
   ]
  },
  {
   "cell_type": "code",
   "execution_count": 3,
   "metadata": {},
   "outputs": [
    {
     "data": {
      "text/plain": [
       "1"
      ]
     },
     "execution_count": 3,
     "metadata": {},
     "output_type": "execute_result"
    }
   ],
   "source": [
    "c = a\n",
    "c"
   ]
  },
  {
   "cell_type": "code",
   "execution_count": 4,
   "metadata": {},
   "outputs": [
    {
     "name": "stdout",
     "output_type": "stream",
     "text": [
      "2\n",
      "1\n"
     ]
    }
   ],
   "source": [
    "a = 2\n",
    "print(a)\n",
    "print(c)"
   ]
  },
  {
   "cell_type": "markdown",
   "metadata": {},
   "source": [
    "# Basic operations and data types"
   ]
  },
  {
   "cell_type": "markdown",
   "metadata": {},
   "source": [
    "## Calculating"
   ]
  },
  {
   "cell_type": "code",
   "execution_count": 5,
   "metadata": {
    "collapsed": false,
    "jupyter": {
     "outputs_hidden": false
    }
   },
   "outputs": [
    {
     "data": {
      "text/plain": [
       "4"
      ]
     },
     "execution_count": 5,
     "metadata": {},
     "output_type": "execute_result"
    }
   ],
   "source": [
    "2 + 2"
   ]
  },
  {
   "cell_type": "code",
   "execution_count": 6,
   "metadata": {
    "collapsed": false,
    "jupyter": {
     "outputs_hidden": false
    }
   },
   "outputs": [
    {
     "data": {
      "text/plain": [
       "124"
      ]
     },
     "execution_count": 6,
     "metadata": {},
     "output_type": "execute_result"
    }
   ],
   "source": [
    "34 + 45 * 2"
   ]
  },
  {
   "cell_type": "code",
   "execution_count": 7,
   "metadata": {
    "collapsed": false,
    "jupyter": {
     "outputs_hidden": false
    }
   },
   "outputs": [
    {
     "data": {
      "text/plain": [
       "8.0"
      ]
     },
     "execution_count": 7,
     "metadata": {},
     "output_type": "execute_result"
    }
   ],
   "source": [
    "(40 - 4 * 2) / 4"
   ]
  },
  {
   "cell_type": "markdown",
   "metadata": {},
   "source": [
    "The integer numbers (e.g. 2, 4, 20) have type `int`, the ones with a fractional part (e.g. 5.0, 1.6) have type `float`. If both operands are `int` the result will also be `int`. To have a `float` type result we have to make one of the operands a `float` (in this case adding a dot)."
   ]
  },
  {
   "cell_type": "code",
   "execution_count": 8,
   "metadata": {
    "collapsed": false,
    "jupyter": {
     "outputs_hidden": false
    }
   },
   "outputs": [
    {
     "data": {
      "text/plain": [
       "2.5"
      ]
     },
     "execution_count": 8,
     "metadata": {},
     "output_type": "execute_result"
    }
   ],
   "source": [
    "5 / 2"
   ]
  },
  {
   "cell_type": "code",
   "execution_count": 9,
   "metadata": {
    "collapsed": false,
    "jupyter": {
     "outputs_hidden": false
    }
   },
   "outputs": [
    {
     "data": {
      "text/plain": [
       "2.5"
      ]
     },
     "execution_count": 9,
     "metadata": {},
     "output_type": "execute_result"
    }
   ],
   "source": [
    "5 / 2."
   ]
  },
  {
   "cell_type": "code",
   "execution_count": 10,
   "metadata": {
    "collapsed": false,
    "jupyter": {
     "outputs_hidden": false
    }
   },
   "outputs": [
    {
     "data": {
      "text/plain": [
       "2"
      ]
     },
     "execution_count": 10,
     "metadata": {},
     "output_type": "execute_result"
    }
   ],
   "source": [
    "14 % 3 # Modulus operator, it returns the remainder of the integer division"
   ]
  },
  {
   "cell_type": "code",
   "execution_count": 11,
   "metadata": {
    "collapsed": false,
    "jupyter": {
     "outputs_hidden": false
    }
   },
   "outputs": [
    {
     "data": {
      "text/plain": [
       "16"
      ]
     },
     "execution_count": 11,
     "metadata": {},
     "output_type": "execute_result"
    }
   ],
   "source": [
    "4 ** 2"
   ]
  },
  {
   "cell_type": "markdown",
   "metadata": {},
   "source": [
    "## Numbers\n",
    "\n",
    "Python supports three numerical types:\n",
    "\n",
    "* int - plain integers\n",
    "* float - floating point decimal numbers (just add a dot or use the constructor float(): e.g. 3. or float(3))\n",
    "* complex - complex numbers (numbers of the form a+bj)\n",
    "\n",
    "In general you don't need to worry about numerical types. Below you can see that Python automatically adjusts the numerical type according to the number:"
   ]
  },
  {
   "cell_type": "code",
   "execution_count": 12,
   "metadata": {
    "collapsed": false,
    "jupyter": {
     "outputs_hidden": false
    }
   },
   "outputs": [
    {
     "name": "stdout",
     "output_type": "stream",
     "text": [
      "<class 'int'>\n",
      "<class 'float'>\n",
      "<class 'complex'>\n"
     ]
    }
   ],
   "source": [
    "x = 100000\n",
    "print(type(x))\n",
    "print(type(3.))\n",
    "print(type(3+4j))"
   ]
  },
  {
   "cell_type": "markdown",
   "metadata": {},
   "source": [
    "## Strings\n",
    "\n",
    "Strings can be expressed with double quotes or single quotes. Quotes can be included in the string if enclosed by a different type of quote. Special characters are escaped with a backslash:"
   ]
  },
  {
   "cell_type": "code",
   "execution_count": 13,
   "metadata": {
    "collapsed": false,
    "jupyter": {
     "outputs_hidden": false
    },
    "lines_to_next_cell": 2
   },
   "outputs": [
    {
     "name": "stdout",
     "output_type": "stream",
     "text": [
      "Python is 'literally' awesome. Isn't it?\n",
      "Python is \"literally\" awesome. Isn't it?\n"
     ]
    }
   ],
   "source": [
    "a = \"Python is 'literally' awesome. Isn\\'t it?\"\n",
    "b = 'Python is \"literally\" awesome. Isn\\'t it?'\n",
    "print(a)\n",
    "print(b)"
   ]
  },
  {
   "cell_type": "markdown",
   "metadata": {},
   "source": [
    "Strings can be concatenated with a + and repeated with a *:"
   ]
  },
  {
   "cell_type": "code",
   "execution_count": 14,
   "metadata": {
    "collapsed": false,
    "jupyter": {
     "outputs_hidden": false
    }
   },
   "outputs": [
    {
     "name": "stdout",
     "output_type": "stream",
     "text": [
      "Hello World\n",
      "Hello WorldHello WorldHello World\n"
     ]
    }
   ],
   "source": [
    "a = 'Hello '\n",
    "b = 'World'\n",
    "c = a+b\n",
    "print(c)\n",
    "print((a+b)*3)"
   ]
  },
  {
   "cell_type": "markdown",
   "metadata": {},
   "source": [
    "Strings can be indexed (starting in zero) and slicing is supported.\n",
    "\n",
    "Here are some examples of slicing. Slicing is very important also for lists and arrays. Feel free to play with it! See what happen when you use an index that is too large."
   ]
  },
  {
   "cell_type": "code",
   "execution_count": 15,
   "metadata": {
    "collapsed": false,
    "jupyter": {
     "outputs_hidden": false
    }
   },
   "outputs": [
    {
     "name": "stdout",
     "output_type": "stream",
     "text": [
      "H\n",
      "ell\n",
      " World\n",
      "Hel\n",
      "HloW\n",
      "dlroW olleH\n"
     ]
    }
   ],
   "source": [
    "print(c[0])\n",
    "print(c[1:4])\n",
    "print(c[-6:])  # if the first or last index is omitted, it defaults to zero\n",
    "print(c[:3])\n",
    "print(c[:8:2]) # a third index defines the step. Here, in every two letters one is selected\n",
    "print(c[::-1]) # all charaters in reverse order"
   ]
  },
  {
   "cell_type": "markdown",
   "metadata": {},
   "source": [
    "We can include quotation symbols into strings:"
   ]
  },
  {
   "cell_type": "code",
   "execution_count": 16,
   "metadata": {},
   "outputs": [
    {
     "name": "stdout",
     "output_type": "stream",
     "text": [
      "hello ' \n",
      "hello \"' \n"
     ]
    }
   ],
   "source": [
    "x = \"hello ' \"\n",
    "print(x)\n",
    "x = 'hello \\\"\\' '\n",
    "print(x)"
   ]
  },
  {
   "cell_type": "markdown",
   "metadata": {},
   "source": [
    "### Including variables in strings\n",
    "\n",
    "Variables can be included on a string. There is more than one way to do this: using the [```format()```](https://docs.python.org/2/library/string.html#format-examples) string method and using the [```%```](https://docs.python.org/2/library/stdtypes.html#string-formatting-operations) operator."
   ]
  },
  {
   "cell_type": "code",
   "execution_count": 17,
   "metadata": {
    "collapsed": false,
    "jupyter": {
     "outputs_hidden": false
    }
   },
   "outputs": [
    {
     "name": "stdout",
     "output_type": "stream",
     "text": [
      "the value of pi is 3.14\n",
      "the value of pi is 3.140000\n"
     ]
    }
   ],
   "source": [
    "pi = 3.14\n",
    "print(\"the value of pi is {}\".format(pi))\n",
    "print(\"the value of pi is %f\" %pi)"
   ]
  },
  {
   "cell_type": "markdown",
   "metadata": {},
   "source": [
    "## Compound data types\n",
    "\n",
    "Compound data types are used to group together other values. Compound data types are: lists, tuples, sets and dictionaries.\n",
    "\n",
    "### Lists\n",
    "\n",
    "Perhaps the most versatile compound data type is the list , written as a list of values separated by a comma, between square brackets."
   ]
  },
  {
   "cell_type": "code",
   "execution_count": 18,
   "metadata": {
    "collapsed": false,
    "jupyter": {
     "outputs_hidden": false
    }
   },
   "outputs": [],
   "source": [
    "example_list = [1, 2, 3, 5, 7, 11, \"string\", 6.7]"
   ]
  },
  {
   "cell_type": "markdown",
   "metadata": {},
   "source": [
    "Lists can be sliced and indexed. Slicing returns a new list and indexing returns a value."
   ]
  },
  {
   "cell_type": "code",
   "execution_count": 19,
   "metadata": {
    "collapsed": false,
    "jupyter": {
     "outputs_hidden": false
    }
   },
   "outputs": [
    {
     "name": "stdout",
     "output_type": "stream",
     "text": [
      "[3, 5, 7, 11]\n",
      "11\n",
      "string\n"
     ]
    }
   ],
   "source": [
    "print(example_list[2:6])\n",
    "print(example_list[5])\n",
    "print(example_list[6])"
   ]
  },
  {
   "cell_type": "markdown",
   "metadata": {},
   "source": [
    "Like strings, lists can be concatenated and repeated using the + and * operators:"
   ]
  },
  {
   "cell_type": "code",
   "execution_count": 20,
   "metadata": {
    "collapsed": false,
    "jupyter": {
     "outputs_hidden": false
    }
   },
   "outputs": [
    {
     "name": "stdout",
     "output_type": "stream",
     "text": [
      "[1, 2, 3, 5, 7, 11, 'string', 6.7, 'another', 'list']\n",
      "[1, 2, 3, 5, 7, 11, 'string', 6.7, 1, 2, 3, 5, 7, 11, 'string', 6.7]\n"
     ]
    }
   ],
   "source": [
    "new_list = example_list + [\"another\", \"list\"]\n",
    "print(new_list)\n",
    "print(example_list*2)"
   ]
  },
  {
   "cell_type": "markdown",
   "metadata": {},
   "source": [
    "It's possible to assign values to list elements and to slices (as opposed to strings). "
   ]
  },
  {
   "cell_type": "code",
   "execution_count": 21,
   "metadata": {
    "collapsed": false,
    "jupyter": {
     "outputs_hidden": false
    }
   },
   "outputs": [
    {
     "name": "stdout",
     "output_type": "stream",
     "text": [
      "['new element', 2, 3, 5, 7, 11, 'string', 6.7]\n"
     ]
    }
   ],
   "source": [
    "example_list[0] = \"new element\"\n",
    "print(example_list)"
   ]
  },
  {
   "cell_type": "code",
   "execution_count": 22,
   "metadata": {
    "collapsed": false,
    "jupyter": {
     "outputs_hidden": false
    }
   },
   "outputs": [
    {
     "name": "stdout",
     "output_type": "stream",
     "text": [
      "['new element', 2, 3, 234, 456, 6.7]\n"
     ]
    }
   ],
   "source": [
    "example_list[3:7] = [234,456]\n",
    "print(example_list)"
   ]
  },
  {
   "cell_type": "markdown",
   "metadata": {},
   "source": [
    "One can append values to the end of the list using the ```append()``` method:"
   ]
  },
  {
   "cell_type": "code",
   "execution_count": 23,
   "metadata": {
    "collapsed": false,
    "jupyter": {
     "outputs_hidden": false
    }
   },
   "outputs": [
    {
     "name": "stdout",
     "output_type": "stream",
     "text": [
      "['new element', 2, 3, 234, 456, 6.7, 'last element']\n"
     ]
    }
   ],
   "source": [
    "example_list.append(\"last element\")\n",
    "print(example_list)"
   ]
  },
  {
   "cell_type": "markdown",
   "metadata": {},
   "source": [
    "Other useful methods are:"
   ]
  },
  {
   "cell_type": "code",
   "execution_count": 24,
   "metadata": {
    "collapsed": false,
    "jupyter": {
     "outputs_hidden": false
    },
    "lines_to_next_cell": 2
   },
   "outputs": [
    {
     "name": "stdout",
     "output_type": "stream",
     "text": [
      "7\n",
      "['new element', 2, 3, 234, 456, 6.7, 'last element']\n",
      "234\n",
      "['new element', 2, 3, 456, 6.7, 'last element']\n",
      "3\n"
     ]
    }
   ],
   "source": [
    "print(len(example_list))        # length of the list\n",
    "print(example_list)\n",
    "print(example_list.pop(3))      # returns element with index 3 and removes it\n",
    "print(example_list)\n",
    "print(example_list.index(456))  # returns index of element"
   ]
  },
  {
   "cell_type": "markdown",
   "metadata": {},
   "source": [
    "A list with a sequence of values can be created with ```range()```:"
   ]
  },
  {
   "cell_type": "code",
   "execution_count": 25,
   "metadata": {
    "collapsed": false,
    "jupyter": {
     "outputs_hidden": false
    }
   },
   "outputs": [
    {
     "name": "stdout",
     "output_type": "stream",
     "text": [
      "range(0, 10)\n",
      "range(2, 20, 4)\n"
     ]
    }
   ],
   "source": [
    "print(range(10))\n",
    "print(range(2, 20, 4))"
   ]
  },
  {
   "cell_type": "markdown",
   "metadata": {},
   "source": [
    "Lists can be nested:"
   ]
  },
  {
   "cell_type": "code",
   "execution_count": 26,
   "metadata": {
    "collapsed": false,
    "jupyter": {
     "outputs_hidden": false
    }
   },
   "outputs": [
    {
     "name": "stdout",
     "output_type": "stream",
     "text": [
      "1\n",
      "[7, 2, 8]\n",
      "2\n"
     ]
    }
   ],
   "source": [
    "a = [1,2,[7,2,8]]\n",
    "print(a[0])\n",
    "print(a[2])\n",
    "print(a[2][1])"
   ]
  },
  {
   "cell_type": "markdown",
   "metadata": {},
   "source": [
    "### Tuples\n",
    "\n",
    "A tuple consists of a number of values separated by commas. Usually these values are enclosed in parentheses, but this is not necessary."
   ]
  },
  {
   "cell_type": "code",
   "execution_count": 27,
   "metadata": {
    "collapsed": false,
    "jupyter": {
     "outputs_hidden": false
    }
   },
   "outputs": [
    {
     "name": "stdout",
     "output_type": "stream",
     "text": [
      "(23, 45, 45, 'last')\n",
      "45\n"
     ]
    }
   ],
   "source": [
    "my_tuple = 23, 45, 45, \"last\"\n",
    "print(my_tuple)\n",
    "print(my_tuple[1])"
   ]
  },
  {
   "cell_type": "markdown",
   "metadata": {},
   "source": [
    "Contrary to lists, tuples are imutable, i.e., once set, its values can't be changed:"
   ]
  },
  {
   "cell_type": "code",
   "execution_count": 28,
   "metadata": {
    "collapsed": false,
    "jupyter": {
     "outputs_hidden": false
    }
   },
   "outputs": [],
   "source": [
    "%%script false --no-raise-error\n",
    "\n",
    "my_tuple[0]=3"
   ]
  },
  {
   "cell_type": "markdown",
   "metadata": {},
   "source": [
    "Tuples can be \"unpacked\" like this:"
   ]
  },
  {
   "cell_type": "code",
   "execution_count": 29,
   "metadata": {
    "collapsed": false,
    "jupyter": {
     "outputs_hidden": false
    }
   },
   "outputs": [
    {
     "name": "stdout",
     "output_type": "stream",
     "text": [
      "23\n",
      "45\n",
      "45\n",
      "last\n"
     ]
    }
   ],
   "source": [
    "a, b, c, d = my_tuple\n",
    "print(a)\n",
    "print(b)\n",
    "print(c)\n",
    "print(d)"
   ]
  },
  {
   "cell_type": "markdown",
   "metadata": {},
   "source": [
    "### Sets"
   ]
  },
  {
   "cell_type": "markdown",
   "metadata": {},
   "source": [
    "Sets are unordered collections with no duplicated elements:"
   ]
  },
  {
   "cell_type": "code",
   "execution_count": 30,
   "metadata": {
    "collapsed": false,
    "jupyter": {
     "outputs_hidden": false
    }
   },
   "outputs": [
    {
     "name": "stdout",
     "output_type": "stream",
     "text": [
      "{1, 2, 3, 4, 5, 6}\n"
     ]
    }
   ],
   "source": [
    "my_list = [1,2,3,3,2,4,5,6,6,6,4]\n",
    "my_set = set(my_list)   # a_set=\n",
    "print(my_set)"
   ]
  },
  {
   "cell_type": "markdown",
   "metadata": {},
   "source": [
    "Sets also support mathematical operations like union, intersection, difference, and symmetric difference."
   ]
  },
  {
   "cell_type": "code",
   "execution_count": 31,
   "metadata": {
    "collapsed": false,
    "jupyter": {
     "outputs_hidden": false
    }
   },
   "outputs": [
    {
     "name": "stdout",
     "output_type": "stream",
     "text": [
      "{1, 2, 3}\n",
      "{1, 2, 3, 4, 5, 6, 7, 8, 9, 10}\n",
      "{4, 5, 6}\n",
      "{1, 2, 3, 7, 8, 9, 10}\n"
     ]
    }
   ],
   "source": [
    "other_set = {4,5,6,7,8,9,10}\n",
    "print(my_set - other_set) # elements in my_set but not in other_set\n",
    "print(my_set | other_set) # union\n",
    "print(my_set & other_set) # intersection\n",
    "print(my_set ^ other_set) # elements that are exactly in one set"
   ]
  },
  {
   "cell_type": "markdown",
   "metadata": {},
   "source": [
    "### Dictionaries"
   ]
  },
  {
   "cell_type": "markdown",
   "metadata": {},
   "source": [
    "A dictionary can be thought as a set of ```key:value``` pairs (having the keys unique values). A dictionary allows one to store a value with a key and to retrieve it using the same key."
   ]
  },
  {
   "cell_type": "code",
   "execution_count": 32,
   "metadata": {
    "collapsed": false,
    "jupyter": {
     "outputs_hidden": false
    }
   },
   "outputs": [
    {
     "name": "stdout",
     "output_type": "stream",
     "text": [
      "{'abraham': 11, 'josef': 22, 'carla': 33}\n",
      "11\n",
      "33\n"
     ]
    }
   ],
   "source": [
    "my_dict = {'abraham': 11, 'josef': 22, 'carla': 33}\n",
    "print(my_dict)\n",
    "print(my_dict['abraham'])\n",
    "print(my_dict['carla'])"
   ]
  },
  {
   "cell_type": "markdown",
   "metadata": {},
   "source": [
    "New ```key:value``` pairs can be added and the key method returns a list of keys in the dictionary."
   ]
  },
  {
   "cell_type": "code",
   "execution_count": 33,
   "metadata": {
    "collapsed": false,
    "jupyter": {
     "outputs_hidden": false
    },
    "lines_to_next_cell": 2
   },
   "outputs": [
    {
     "name": "stdout",
     "output_type": "stream",
     "text": [
      "{'abraham': 11, 'josef': 22, 'carla': 33, 'franz': 99}\n",
      "dict_keys(['abraham', 'josef', 'carla', 'franz'])\n"
     ]
    }
   ],
   "source": [
    "my_dict['franz'] = 99\n",
    "print(my_dict)\n",
    "print(my_dict.keys())"
   ]
  },
  {
   "cell_type": "markdown",
   "metadata": {},
   "source": [
    "### Membership operators\n",
    "\n",
    "Membership operators test if a value is included on a list, tuple, set or dictionary:"
   ]
  },
  {
   "cell_type": "code",
   "execution_count": 34,
   "metadata": {
    "collapsed": false,
    "jupyter": {
     "outputs_hidden": false
    }
   },
   "outputs": [
    {
     "name": "stdout",
     "output_type": "stream",
     "text": [
      "True\n",
      "False\n",
      "True\n",
      "True\n",
      "True\n"
     ]
    }
   ],
   "source": [
    "print('franz' in my_dict)\n",
    "print('anne' in my_dict)\n",
    "print(1 in my_set)\n",
    "print('last' in my_tuple)\n",
    "print(2 in [1,2,3])"
   ]
  },
  {
   "cell_type": "markdown",
   "metadata": {},
   "source": [
    "# Basic programming - control flow\n",
    "\n",
    "## The ```if``` statement\n",
    "\n",
    "The ```if``` statement is used to conditionally execute code. For example, in the code below, the ```print``` statement is executed only if the condition (```x == 1```) is true:"
   ]
  },
  {
   "cell_type": "code",
   "execution_count": 35,
   "metadata": {
    "collapsed": false,
    "jupyter": {
     "outputs_hidden": false
    }
   },
   "outputs": [
    {
     "name": "stdout",
     "output_type": "stream",
     "text": [
      "x equals to 1\n"
     ]
    }
   ],
   "source": [
    "x = 1\n",
    "\n",
    "if x == 1:\n",
    "    print('x equals to 1')"
   ]
  },
  {
   "cell_type": "code",
   "execution_count": 36,
   "metadata": {},
   "outputs": [
    {
     "name": "stdout",
     "output_type": "stream",
     "text": [
      "a is equal to 1\n",
      "b is equal to 2\n"
     ]
    }
   ],
   "source": [
    "a = 1\n",
    "b = 2\n",
    "if (a == 1):\n",
    "    print(\"a is equal to 1\")\n",
    "    if b == 2:\n",
    "        print('b is equal to 2')"
   ]
  },
  {
   "cell_type": "markdown",
   "metadata": {},
   "source": [
    "You can also include ```else``` and ```elif``` statements. Try changing the value of ```t``` in the next cell"
   ]
  },
  {
   "cell_type": "code",
   "execution_count": 37,
   "metadata": {
    "collapsed": false,
    "jupyter": {
     "outputs_hidden": false
    }
   },
   "outputs": [
    {
     "name": "stdout",
     "output_type": "stream",
     "text": [
      "nice!\n"
     ]
    }
   ],
   "source": [
    "t = 24\n",
    "\n",
    "if t >= 20 and t < 30:\n",
    "    print(\"nice!\")\n",
    "elif t >= 30:\n",
    "    print(\"It's too hot!\")\n",
    "else:\n",
    "    print(\"It's cold!\")"
   ]
  },
  {
   "cell_type": "markdown",
   "metadata": {},
   "source": [
    "## The ```for``` statement\n",
    "\n",
    "The ```for``` statement is used to loop over a list."
   ]
  },
  {
   "cell_type": "code",
   "execution_count": 38,
   "metadata": {
    "collapsed": false,
    "jupyter": {
     "outputs_hidden": false
    }
   },
   "outputs": [
    {
     "name": "stdout",
     "output_type": "stream",
     "text": [
      "new element <class 'str'>\n",
      "2 <class 'int'>\n",
      "3 <class 'int'>\n",
      "456 <class 'int'>\n",
      "6.7 <class 'float'>\n",
      "last element <class 'str'>\n"
     ]
    }
   ],
   "source": [
    "for elem in example_list:\n",
    "    print(elem, type(elem))"
   ]
  },
  {
   "cell_type": "markdown",
   "metadata": {},
   "source": [
    "If you need to loop over a sequence of numbers use ```range()```:"
   ]
  },
  {
   "cell_type": "code",
   "execution_count": 39,
   "metadata": {
    "collapsed": false,
    "jupyter": {
     "outputs_hidden": false
    }
   },
   "outputs": [
    {
     "name": "stdout",
     "output_type": "stream",
     "text": [
      "0\n",
      "1\n",
      "4\n",
      "9\n",
      "16\n"
     ]
    }
   ],
   "source": [
    "for r in range(5):\n",
    "    print(r**2)"
   ]
  },
  {
   "cell_type": "markdown",
   "metadata": {},
   "source": [
    "## The ```while``` statement\n",
    "\n",
    "The ```while``` statement executes code while a condition is satisfied."
   ]
  },
  {
   "cell_type": "code",
   "execution_count": 40,
   "metadata": {
    "collapsed": false,
    "jupyter": {
     "outputs_hidden": false
    }
   },
   "outputs": [
    {
     "name": "stdout",
     "output_type": "stream",
     "text": [
      "0\n",
      "1\n",
      "2\n",
      "3\n",
      "4\n"
     ]
    }
   ],
   "source": [
    "x = 0\n",
    "\n",
    "while x<5:\n",
    "    print(x)\n",
    "    x = x+1"
   ]
  },
  {
   "cell_type": "markdown",
   "metadata": {},
   "source": [
    "## The ```break``` and ```continue``` statements\n",
    "\n",
    " \n",
    "\n",
    "The ```break``` statement breaks out of its smallest enclosing loop.\n",
    "\n",
    "The code below produces a list with nested lists with all numbers up a certain number."
   ]
  },
  {
   "cell_type": "code",
   "execution_count": 41,
   "metadata": {
    "collapsed": false,
    "jupyter": {
     "outputs_hidden": false
    },
    "lines_to_next_cell": 2
   },
   "outputs": [
    {
     "name": "stdout",
     "output_type": "stream",
     "text": [
      "[[0], [0, 1], [0, 1, 2], [0, 1, 2, 3], [0, 1, 2, 3, 4], [0, 1, 2, 3, 4, 5]]\n"
     ]
    }
   ],
   "source": [
    "l = []   # creates empty list\n",
    "for num in range(1,7):\n",
    "    al = []  # creates another empty list\n",
    "    for x in range(num):\n",
    "        al.append(x)  \n",
    "    l.append(al)\n",
    "        \n",
    "print(l        )"
   ]
  },
  {
   "cell_type": "markdown",
   "metadata": {},
   "source": [
    "If we insert a ```break``` statement in the inner loop:"
   ]
  },
  {
   "cell_type": "code",
   "execution_count": 42,
   "metadata": {
    "collapsed": false,
    "jupyter": {
     "outputs_hidden": false
    },
    "lines_to_next_cell": 2
   },
   "outputs": [
    {
     "name": "stdout",
     "output_type": "stream",
     "text": [
      "[[0], [0, 1], [0, 1, 2], [0, 1, 2], [0, 1, 2], [0, 1, 2]]\n"
     ]
    }
   ],
   "source": [
    "l = []   # creates empty list\n",
    "for num in range(1,7):\n",
    "    al = []  # creates another empty list\n",
    "    for x in range(num):\n",
    "        if x == 3:\n",
    "            break  # when x == 3 the program exits the loop in x\n",
    "                   #  (the lists never grow bigger than 3 elements)\n",
    "        al.append(x)  \n",
    "    l.append(al)\n",
    "        \n",
    "print(l        )"
   ]
  },
  {
   "cell_type": "markdown",
   "metadata": {},
   "source": [
    "If we insert a ```continue``` statement in the inner loop:"
   ]
  },
  {
   "cell_type": "code",
   "execution_count": 43,
   "metadata": {
    "collapsed": false,
    "jupyter": {
     "outputs_hidden": false
    }
   },
   "outputs": [
    {
     "name": "stdout",
     "output_type": "stream",
     "text": [
      "[[0], [0, 1], [0, 1, 2], [0, 1, 2], [0, 1, 2, 4], [0, 1, 2, 4, 5]]\n"
     ]
    }
   ],
   "source": [
    "l = []   # creates empty list\n",
    "for num in range(1,7):\n",
    "    al = []  # creates another empty list\n",
    "    for x in range(num):\n",
    "        if x == 3:\n",
    "            continue  # when x == 3 the program skips to the next step \n",
    "            # in the loop in x (the lists never include the value 3)\n",
    "        al.append(x)\n",
    "    l.append(al)\n",
    "        \n",
    "print(l   )"
   ]
  },
  {
   "cell_type": "markdown",
   "metadata": {},
   "source": [
    "## Indentation\n",
    "\n",
    "In the previous examples, you can see how we can define what's inside each loop:  through *indentation*.\n",
    "\n",
    "Let's try something:"
   ]
  },
  {
   "cell_type": "code",
   "execution_count": 44,
   "metadata": {
    "collapsed": false,
    "jupyter": {
     "outputs_hidden": false
    }
   },
   "outputs": [
    {
     "name": "stdout",
     "output_type": "stream",
     "text": [
      "0\n",
      "2\n",
      "4\n",
      "6\n",
      "8\n"
     ]
    }
   ],
   "source": [
    "for r in range(5):\n",
    "    x = r*2\n",
    "    print(x)"
   ]
  },
  {
   "cell_type": "markdown",
   "metadata": {},
   "source": [
    "Now let's unindent the ```print``` statement:"
   ]
  },
  {
   "cell_type": "code",
   "execution_count": 45,
   "metadata": {
    "collapsed": false,
    "jupyter": {
     "outputs_hidden": false
    }
   },
   "outputs": [
    {
     "name": "stdout",
     "output_type": "stream",
     "text": [
      "8\n"
     ]
    }
   ],
   "source": [
    "for r in range(5):\n",
    "    x = r*2\n",
    "print(x)"
   ]
  },
  {
   "cell_type": "markdown",
   "metadata": {},
   "source": [
    "The ```print``` is only executed after the ```for``` loop is finished.\n",
    "\n",
    "An error occurs when the code has an unexpected indentation."
   ]
  },
  {
   "cell_type": "markdown",
   "metadata": {},
   "source": [
    "## Comparison operators\n",
    "\n",
    "For the ```if``` statement we used the \"equal to\" comparison operator to evaluate if x was equal to 1.\n",
    "\n",
    "There are more comparison operators:"
   ]
  },
  {
   "cell_type": "code",
   "execution_count": 46,
   "metadata": {
    "collapsed": false,
    "jupyter": {
     "outputs_hidden": false
    }
   },
   "outputs": [
    {
     "name": "stdout",
     "output_type": "stream",
     "text": [
      "False\n",
      "True\n",
      "False\n",
      "True\n",
      "False\n"
     ]
    }
   ],
   "source": [
    "a = 1\n",
    "b = 2\n",
    "print(a == b)   # is a equal to b?\n",
    "print(a < b)    # is a smaller than b?\n",
    "print(a > b)    # is a bigger than b?\n",
    "print(a != b)   # is a not equal to b?\n",
    "print(a >= b)   # is a bigger than or equal to b?"
   ]
  },
  {
   "cell_type": "markdown",
   "metadata": {},
   "source": [
    "## Logical operators\n",
    "\n",
    "More than one comparison operator can be used to form a condition using the logical operators:\n"
   ]
  },
  {
   "cell_type": "code",
   "execution_count": 47,
   "metadata": {
    "collapsed": false,
    "jupyter": {
     "outputs_hidden": false
    }
   },
   "outputs": [
    {
     "name": "stdout",
     "output_type": "stream",
     "text": [
      "True\n",
      "False\n",
      "True\n",
      "False\n"
     ]
    }
   ],
   "source": [
    "a = 1\n",
    "b = 2\n",
    "\n",
    "print(a != b and b == 2*a)\n",
    "print(a != b and b == 3*a)\n",
    "print(a == b or b == 2*a)\n",
    "print(not(a != b))"
   ]
  },
  {
   "cell_type": "markdown",
   "metadata": {},
   "source": [
    "# Functions\n",
    "\n",
    "A function is a reusable block of code used to perform an action. Functions are used to avoid writing the same piece of code many times. A function is defined by:\n",
    "\n",
    "```\n",
    "def function_name(argument1, argument2,...):\n",
    "    statements\n",
    "    return object\n",
    "```    \n",
    "The returned object can be anything. It's also possible that a function doesn't have a return statement. In that case it returns ```None```.\n",
    "\n",
    "\n",
    "An example of a simple function is given below:"
   ]
  },
  {
   "cell_type": "code",
   "execution_count": 48,
   "metadata": {},
   "outputs": [],
   "source": [
    "def myfunc(a,b):\n",
    "    print(\"the arguments of the function are %d and %d\"%(a,b))\n",
    "    c= a+2*b\n",
    "    return c"
   ]
  },
  {
   "cell_type": "markdown",
   "metadata": {},
   "source": [
    "The function can now be called like this"
   ]
  },
  {
   "cell_type": "code",
   "execution_count": 49,
   "metadata": {
    "collapsed": false,
    "jupyter": {
     "outputs_hidden": false
    }
   },
   "outputs": [
    {
     "name": "stdout",
     "output_type": "stream",
     "text": [
      "the arguments of the function are 3 and 6\n",
      "15\n"
     ]
    }
   ],
   "source": [
    "result = myfunc(3,6)\n",
    "print(result)"
   ]
  },
  {
   "cell_type": "markdown",
   "metadata": {},
   "source": [
    "In this case, the function's arguments need to be given in the right order.\n",
    "\n",
    "Another example of a function that returns a tuple is given below. "
   ]
  },
  {
   "cell_type": "code",
   "execution_count": 50,
   "metadata": {},
   "outputs": [],
   "source": [
    "def intdivision(dividend,divisor):\n",
    "    intval = dividend/divisor\n",
    "    remainder = dividend%divisor\n",
    "    return intval, remainder"
   ]
  },
  {
   "cell_type": "code",
   "execution_count": 51,
   "metadata": {
    "collapsed": false,
    "jupyter": {
     "outputs_hidden": false
    }
   },
   "outputs": [
    {
     "name": "stdout",
     "output_type": "stream",
     "text": [
      "(3.6666666666666665, 2)\n",
      "(3.6666666666666665, 2)\n"
     ]
    }
   ],
   "source": [
    "print(intdivision(11,3))\n",
    "print(intdivision(divisor = 3, dividend = 11)) # same thing using keyword arguments (the order is not important))"
   ]
  },
  {
   "cell_type": "markdown",
   "metadata": {},
   "source": [
    "Arguments can have a default value. Arguments with a default value can be omitted in the function call: "
   ]
  },
  {
   "cell_type": "code",
   "execution_count": 52,
   "metadata": {},
   "outputs": [],
   "source": [
    "def fav_color(x = 'blue'):\n",
    "    print(\"my favorite color is %s\" %x)\n",
    "    \n"
   ]
  },
  {
   "cell_type": "code",
   "execution_count": 53,
   "metadata": {
    "collapsed": false,
    "jupyter": {
     "outputs_hidden": false
    }
   },
   "outputs": [
    {
     "name": "stdout",
     "output_type": "stream",
     "text": [
      "my favorite color is red\n",
      "my favorite color is blue\n"
     ]
    }
   ],
   "source": [
    "fav_color('red')\n",
    "fav_color()   # will fall back to the default value 'blue'"
   ]
  },
  {
   "cell_type": "markdown",
   "metadata": {},
   "source": [
    "## Lambda functions\n",
    "\n",
    "Lambda functions are anonymous functions than can be used whenever a function object is required. They are useful when one needs a simple function (e.g. a one liner that is only used one time).\n",
    "\n",
    "The lambda function has the form:  \n",
    "> ```  lambda argument(s): returned expression``` \n",
    "\n",
    "It is very usefull, for example, when one needs to apply a function to all the elements on a list using the ```map()``` function:"
   ]
  },
  {
   "cell_type": "code",
   "execution_count": 54,
   "metadata": {},
   "outputs": [
    {
     "data": {
      "text/plain": [
       "\u001b[0;31mInit signature:\u001b[0m \u001b[0mmap\u001b[0m\u001b[0;34m(\u001b[0m\u001b[0mself\u001b[0m\u001b[0;34m,\u001b[0m \u001b[0;34m/\u001b[0m\u001b[0;34m,\u001b[0m \u001b[0;34m*\u001b[0m\u001b[0margs\u001b[0m\u001b[0;34m,\u001b[0m \u001b[0;34m**\u001b[0m\u001b[0mkwargs\u001b[0m\u001b[0;34m)\u001b[0m\u001b[0;34m\u001b[0m\u001b[0;34m\u001b[0m\u001b[0m\n",
       "\u001b[0;31mDocstring:\u001b[0m     \n",
       "map(func, *iterables) --> map object\n",
       "\n",
       "Make an iterator that computes the function using arguments from\n",
       "each of the iterables.  Stops when the shortest iterable is exhausted.\n",
       "\u001b[0;31mType:\u001b[0m           type\n",
       "\u001b[0;31mSubclasses:\u001b[0m     \n"
      ]
     },
     "metadata": {},
     "output_type": "display_data"
    }
   ],
   "source": [
    "map?"
   ]
  },
  {
   "cell_type": "code",
   "execution_count": 55,
   "metadata": {
    "collapsed": false,
    "jupyter": {
     "outputs_hidden": false
    }
   },
   "outputs": [
    {
     "name": "stdout",
     "output_type": "stream",
     "text": [
      "range(0, 5)\n"
     ]
    }
   ],
   "source": [
    "mylist = range(5)\n",
    "print(mylist)"
   ]
  },
  {
   "cell_type": "code",
   "execution_count": 56,
   "metadata": {
    "collapsed": false,
    "jupyter": {
     "outputs_hidden": false
    }
   },
   "outputs": [
    {
     "data": {
      "text/plain": [
       "<map at 0x7ff8f8604fd0>"
      ]
     },
     "execution_count": 56,
     "metadata": {},
     "output_type": "execute_result"
    }
   ],
   "source": [
    "map(lambda x: x**2, mylist)"
   ]
  },
  {
   "cell_type": "markdown",
   "metadata": {},
   "source": [
    "# Useful techniques\n",
    "\n",
    "## List comprehensions\n",
    "\n",
    "List comprehensions provide a way to create lists in a single line of code, without having to use a loop.\n",
    "\n",
    "Picking up the example for the Lambda function, an alternative way to produce the same result would be:"
   ]
  },
  {
   "cell_type": "code",
   "execution_count": 57,
   "metadata": {
    "collapsed": false,
    "jupyter": {
     "outputs_hidden": false
    }
   },
   "outputs": [
    {
     "name": "stdout",
     "output_type": "stream",
     "text": [
      "[0, 1, 4, 9, 16]\n"
     ]
    }
   ],
   "source": [
    "squares = []\n",
    "\n",
    "for r in range(5):\n",
    "    squares.append(r**2)\n",
    "    \n",
    "print(squares)"
   ]
  },
  {
   "cell_type": "markdown",
   "metadata": {},
   "source": [
    "We can do the same using a list comprehension:"
   ]
  },
  {
   "cell_type": "code",
   "execution_count": 58,
   "metadata": {
    "collapsed": false,
    "jupyter": {
     "outputs_hidden": false
    }
   },
   "outputs": [
    {
     "name": "stdout",
     "output_type": "stream",
     "text": [
      "[0, 1, 4, 9, 16]\n"
     ]
    }
   ],
   "source": [
    "squares2 = [x**2 for x in range(5)]\n",
    "print(squares2)"
   ]
  },
  {
   "cell_type": "markdown",
   "metadata": {},
   "source": [
    "List comprehensions can have also conditional statements:"
   ]
  },
  {
   "cell_type": "code",
   "execution_count": 59,
   "metadata": {
    "collapsed": false,
    "jupyter": {
     "outputs_hidden": false
    }
   },
   "outputs": [
    {
     "name": "stdout",
     "output_type": "stream",
     "text": [
      "[39, 52, 67, 84]\n"
     ]
    }
   ],
   "source": [
    "mylist = [x**2+3 for x in range(10) if x>5]\n",
    "print(mylist)"
   ]
  },
  {
   "cell_type": "markdown",
   "metadata": {},
   "source": [
    "## Looping techniques\n",
    "\n",
    "When we need to loop over a list and at the same time get the index of each element, the ```enumerate()``` function can be used"
   ]
  },
  {
   "cell_type": "code",
   "execution_count": 60,
   "metadata": {
    "collapsed": false,
    "jupyter": {
     "outputs_hidden": false
    }
   },
   "outputs": [
    {
     "name": "stdout",
     "output_type": "stream",
     "text": [
      "0 Mario\n",
      "1 Pedro\n",
      "2 Jean\n"
     ]
    }
   ],
   "source": [
    "mylist = ['Mario', 'Pedro', 'Jean']\n",
    "\n",
    "for i,x in enumerate(mylist):\n",
    "    print(i, x)"
   ]
  },
  {
   "cell_type": "markdown",
   "metadata": {},
   "source": [
    "Two lists can be paired on a loop using the function ```zip()``` :"
   ]
  },
  {
   "cell_type": "code",
   "execution_count": 61,
   "metadata": {
    "collapsed": false,
    "jupyter": {
     "outputs_hidden": false
    }
   },
   "outputs": [
    {
     "name": "stdout",
     "output_type": "stream",
     "text": [
      "Mario's favorite hobby is spear fishing\n",
      "Pedro's favorite hobby is surfing\n",
      "Jean's favorite hobby is tennis\n"
     ]
    }
   ],
   "source": [
    "mylist = ['Mario', 'Pedro', 'Jean']\n",
    "hobbies = ['spear fishing', 'surfing', 'tennis']\n",
    "\n",
    "for y,x in zip(mylist, hobbies):\n",
    "    print(\"%s's favorite hobby is %s\" % (y,x))"
   ]
  },
  {
   "cell_type": "markdown",
   "metadata": {},
   "source": [
    "# Modules and Packages\n",
    "\n",
    "Like functions, modules help us to organize our code better.\n",
    "\n",
    "Modules are files that contain Python code which can be imported to your program. This code can define functions, classes and variables.\n",
    "\n",
    "Let's see an example. Using the text editor of your choice, paste the following code into an empty text file and rename it as \"mymodule.py\". This file must be in the same directory as the notebook.\n",
    "\n",
    "```\n",
    "def myfunction(a: str, b: str) -> str:\n",
    "    return \"{} and {} are the two arguments of this function\".format(a,b)\n",
    "```\n",
    "Now let's import the module."
   ]
  },
  {
   "cell_type": "code",
   "execution_count": 62,
   "metadata": {},
   "outputs": [],
   "source": [
    "import my_module"
   ]
  },
  {
   "cell_type": "markdown",
   "metadata": {},
   "source": [
    "Now the function ```myfunction(a,b)``` defined in the module is available."
   ]
  },
  {
   "cell_type": "code",
   "execution_count": 63,
   "metadata": {
    "collapsed": false,
    "jupyter": {
     "outputs_hidden": false
    }
   },
   "outputs": [
    {
     "ename": "AttributeError",
     "evalue": "module 'my_module' has no attribute 'myfunction'",
     "output_type": "error",
     "traceback": [
      "\u001b[0;31m---------------------------------------------------------------------------\u001b[0m",
      "\u001b[0;31mAttributeError\u001b[0m                            Traceback (most recent call last)",
      "\u001b[0;32m<ipython-input-63-ebb0549fcfd4>\u001b[0m in \u001b[0;36m<module>\u001b[0;34m\u001b[0m\n\u001b[0;32m----> 1\u001b[0;31m \u001b[0mmy_module\u001b[0m\u001b[0;34m.\u001b[0m\u001b[0mmyfunction\u001b[0m\u001b[0;34m(\u001b[0m\u001b[0;34m\"cactus\"\u001b[0m\u001b[0;34m,\u001b[0m \u001b[0;34m\"tree\"\u001b[0m\u001b[0;34m)\u001b[0m\u001b[0;34m\u001b[0m\u001b[0;34m\u001b[0m\u001b[0m\n\u001b[0m",
      "\u001b[0;31mAttributeError\u001b[0m: module 'my_module' has no attribute 'myfunction'"
     ]
    }
   ],
   "source": [
    "my_module.myfunction(\"cactus\", \"tree\")"
   ]
  },
  {
   "cell_type": "markdown",
   "metadata": {},
   "source": [
    "This is a very simplistic example. Modules can be collected into huge packages like NumPy or Scipy that extend the out-of-the-box capabilities of Python."
   ]
  },
  {
   "cell_type": "markdown",
   "metadata": {},
   "source": [
    "## The ```import``` statement\n",
    "\n",
    "As in the example above, the ```import``` statement  is used to import the module. A slightly different alternative is available:"
   ]
  },
  {
   "cell_type": "code",
   "execution_count": null,
   "metadata": {
    "collapsed": false,
    "jupyter": {
     "outputs_hidden": false
    }
   },
   "outputs": [],
   "source": [
    "from my_module import my_function\n",
    "\n",
    "my_function(\"hello\", \"goodbye\")"
   ]
  },
  {
   "cell_type": "markdown",
   "metadata": {},
   "source": [
    "Now the function is available without the module prefix..\n",
    "\n",
    "Sometimes it is handy to give a shorter alias to the module name. For example:"
   ]
  },
  {
   "cell_type": "code",
   "execution_count": null,
   "metadata": {
    "collapsed": false,
    "jupyter": {
     "outputs_hidden": false
    }
   },
   "outputs": [],
   "source": [
    "import my_module as mym\n",
    "\n",
    "mym.my_function(\"Ok\", \"KO\")"
   ]
  },
  {
   "cell_type": "markdown",
   "metadata": {},
   "source": [
    "It's also possible to make all functions available without the prefix. However, this option is considered bad practise and should be used with care."
   ]
  },
  {
   "cell_type": "code",
   "execution_count": null,
   "metadata": {
    "collapsed": false,
    "jupyter": {
     "outputs_hidden": false
    }
   },
   "outputs": [],
   "source": [
    "from my_module import *\n",
    "\n",
    "my_function(\"cat\", \"dog\")"
   ]
  },
  {
   "cell_type": "markdown",
   "metadata": {},
   "source": [
    "We can import classes via modules or directly:"
   ]
  },
  {
   "cell_type": "code",
   "execution_count": null,
   "metadata": {},
   "outputs": [],
   "source": [
    "import pandas as pd\n",
    "\n",
    "pd.DataFrame()\n",
    "\n",
    "from pandas import DataFrame\n",
    "\n",
    "DataFrame()"
   ]
  },
  {
   "cell_type": "markdown",
   "metadata": {},
   "source": [
    "## Packages\n",
    "\n",
    "* Packages can also be imported like modules\n",
    "* instead of being one single file, packages are composed by a collection of modules\n",
    "* these modules are organized in a directory that must have a file named ```__init__.py``` at its root."
   ]
  },
  {
   "cell_type": "markdown",
   "metadata": {},
   "source": [
    "## Important packages\n",
    "\n",
    "There are many packages ready for you to use: in the [PyPi repository](https://pypi.python.org/pypi) there are, at the time this was writen, 342.798 packages available.\n",
    "\n",
    "Some of the most important packages for data science are:\n",
    "\n",
    "* NumPy - scientific computing with multidimensional arrays and lots of math tools - https://numpy.org\n",
    "* Scipy - scientific tools like optimization and signal processing - https://scipy.org\n",
    "* Pandas - data structures and analysis tools (bringing the data frame to Python) - https://pandas.pydata.org\n",
    "* Scikit-learn - complete set of tools for data mining and machine learning - https://scikit-learn.org\n",
    "* matplotlib - plotting library - https://matplotlib.org"
   ]
  },
  {
   "cell_type": "markdown",
   "metadata": {},
   "source": [
    "## Package installation\n",
    "\n",
    "Perhaps the simplest way to get up and running is to use a Python bundle that includes already many scientific packages like Anaconda.\n",
    "Later you can add more packages.\n",
    "If you already have Python on your computer you can install packages with [```pip```](https://pypi.python.org/pypi)."
   ]
  },
  {
   "cell_type": "markdown",
   "metadata": {},
   "source": [
    "# Objects and Classes\n",
    "\n",
    "In Python basically everything is an object. The standard way of designing own objects is by creating a class (here `Car`) and then initialing it. Then we can use the methods defined on the object. A method is something like a function, but it belongs to the object/class. It's first argument is always a \"self\"."
   ]
  },
  {
   "cell_type": "code",
   "execution_count": null,
   "metadata": {},
   "outputs": [],
   "source": [
    "class Car:\n",
    "    a = 1\n",
    "    b = 2\n",
    "    def drive(self):  # a method\n",
    "        self.has_started = True\n",
    "    def set_number_of_wheels(self, x):  # a method\n",
    "        self.d = x\n",
    "\n",
    "a = Car()  # initialise\n",
    "b = Car()  # initialise\n",
    "\n",
    "b.set_number_of_wheels(5)  # call a method\n",
    "\n",
    "print(b.d)"
   ]
  }
 ],
 "metadata": {
  "jupytext": {
   "encoding": "# -*- coding: utf-8 -*-",
   "formats": "ipynb,py:percent"
  },
  "kernelspec": {
   "display_name": "PyCharm (Warp-Clustering)",
   "language": "python",
   "name": "pycharm-b613d24b"
  },
  "language_info": {
   "codemirror_mode": {
    "name": "ipython",
    "version": 3
   },
   "file_extension": ".py",
   "mimetype": "text/x-python",
   "name": "python",
   "nbconvert_exporter": "python",
   "pygments_lexer": "ipython3",
   "version": "3.8.8"
  }
 },
 "nbformat": 4,
 "nbformat_minor": 4
}
