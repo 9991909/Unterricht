{
 "cells": [
  {
   "cell_type": "markdown",
   "metadata": {},
   "source": [
    "<div align=\"center\"> <h1>Classification</h1>\n",
    "    <h2><a href=\"...\">Richard Leibrandt</a></h2>\n",
    "</div>"
   ]
  },
  {
   "cell_type": "code",
   "execution_count": 1,
   "metadata": {},
   "outputs": [],
   "source": [
    "import numpy as np\n",
    "import pandas as pd\n",
    "from sklearn.model_selection import train_test_split\n",
    "from sklearn.datasets import make_moons\n",
    "from sklearn.svm import SVC\n",
    "from sklearn.metrics import f1_score, r2_score\n",
    "import plotnine as pn"
   ]
  },
  {
   "cell_type": "code",
   "execution_count": 2,
   "metadata": {},
   "outputs": [
    {
     "data": {
      "text/plain": [
       "RendererRegistry.enable('mimetype')"
      ]
     },
     "execution_count": 2,
     "metadata": {},
     "output_type": "execute_result"
    }
   ],
   "source": [
    "import altair as alt\n",
    "\n",
    "alt.data_transformers.disable_max_rows()\n",
    "alt.renderers.enable('altair_viewer')\n",
    "alt.renderers.enable('mimetype')"
   ]
  },
  {
   "cell_type": "code",
   "execution_count": 3,
   "metadata": {},
   "outputs": [],
   "source": [
    "# We generate \"moons\" data\n",
    "data, label = make_moons(n_samples=(100, 100), noise=0.3, random_state=0)"
   ]
  },
  {
   "cell_type": "code",
   "execution_count": 4,
   "metadata": {},
   "outputs": [],
   "source": [
    "# We make a train-test-split:\n",
    "X_train, X_test, y_train, y_test = train_test_split(data, label, test_size=0.3, random_state=42)"
   ]
  },
  {
   "cell_type": "code",
   "execution_count": 5,
   "metadata": {},
   "outputs": [
    {
     "data": {
      "text/plain": [
       "SVC(C=1, gamma=2)"
      ]
     },
     "execution_count": 5,
     "metadata": {},
     "output_type": "execute_result"
    }
   ],
   "source": [
    "# We configure and fit the model:\n",
    "classifier = SVC(gamma=2, C=1)\n",
    "classifier.fit(X_train, y_train)"
   ]
  },
  {
   "cell_type": "code",
   "execution_count": 6,
   "metadata": {},
   "outputs": [
    {
     "name": "stdout",
     "output_type": "stream",
     "text": [
      "Accuracy: 0.8833333333333333\n",
      "Accuracy: 0.8833333333333333\n",
      "F1-Score: 0.8571428571428572\n"
     ]
    }
   ],
   "source": [
    "# We evaluate the model:\n",
    "y_test_pred = classifier.predict(X_test)\n",
    "accuracy = classifier.score(X_test, y_test)\n",
    "print('Accuracy: {}'.format(accuracy))\n",
    "accuracy = np.mean(y_test_pred == y_test)\n",
    "print('Accuracy: {}'.format(accuracy))\n",
    "my_f1_score = f1_score(y_test, y_test_pred)\n",
    "print('F1-Score: {}'.format(my_f1_score))"
   ]
  },
  {
   "cell_type": "code",
   "execution_count": 7,
   "metadata": {},
   "outputs": [],
   "source": [
    "# We build a DataFrame\n",
    "data_df = pd.DataFrame(np.append(X_train, X_test, axis=0), columns=['x1', 'x2'])\n",
    "data_df['train_or_test'] = ['train'] * X_train.shape[0] + ['test'] * X_test.shape[0]\n",
    "data_df['prediction'] = classifier.predict(np.append(X_train, X_test, axis=0))"
   ]
  },
  {
   "cell_type": "code",
   "execution_count": 8,
   "metadata": {},
   "outputs": [
    {
     "data": {
      "application/vnd.vegalite.v4+json": {
       "$schema": "https://vega.github.io/schema/vega-lite/v4.8.1.json",
       "config": {
        "view": {
         "continuousHeight": 300,
         "continuousWidth": 400
        }
       },
       "data": {
        "name": "data-de267df77c57ccb633962d8f7ff8c3ce"
       },
       "datasets": {
        "data-de267df77c57ccb633962d8f7ff8c3ce": [
         {
          "prediction": 1,
          "train_or_test": "train",
          "x1": 1.037021021663412,
          "x2": -0.9662587412249324
         },
         {
          "prediction": 1,
          "train_or_test": "train",
          "x1": 0.8313199925022555,
          "x2": -0.3524157032463381
         },
         {
          "prediction": 0,
          "train_or_test": "train",
          "x1": -0.5001543251065876,
          "x2": 0.12147413308107391
         },
         {
          "prediction": 1,
          "train_or_test": "train",
          "x1": 1.7811365778990051,
          "x2": -0.4500039278106524
         },
         {
          "prediction": 1,
          "train_or_test": "train",
          "x1": 1.7161806752949007,
          "x2": 0.33086756142439855
         },
         {
          "prediction": 1,
          "train_or_test": "train",
          "x1": 0.4326998417896259,
          "x2": 0.09535933634544602
         },
         {
          "prediction": 0,
          "train_or_test": "train",
          "x1": 0.527040549067395,
          "x2": 0.6011643678739567
         },
         {
          "prediction": 0,
          "train_or_test": "train",
          "x1": -0.7451410715896856,
          "x2": 0.7664234682667596
         },
         {
          "prediction": 0,
          "train_or_test": "train",
          "x1": 0.9635103884470445,
          "x2": 0.7254569655600859
         },
         {
          "prediction": 1,
          "train_or_test": "train",
          "x1": 0.9266187663620983,
          "x2": -0.030503211041157552
         },
         {
          "prediction": 1,
          "train_or_test": "train",
          "x1": 0.586140665578436,
          "x2": -0.22674609933813988
         },
         {
          "prediction": 1,
          "train_or_test": "train",
          "x1": 0.43690949806518425,
          "x2": 0.20319724412875526
         },
         {
          "prediction": 0,
          "train_or_test": "train",
          "x1": 0.8526538714996555,
          "x2": 0.862745429834723
         },
         {
          "prediction": 0,
          "train_or_test": "train",
          "x1": -0.13297162596170703,
          "x2": 0.8262962950621842
         },
         {
          "prediction": 1,
          "train_or_test": "train",
          "x1": 0.6993979092144301,
          "x2": -0.4121655261970976
         },
         {
          "prediction": 0,
          "train_or_test": "train",
          "x1": -0.6047873565179034,
          "x2": 0.2448416545779568
         },
         {
          "prediction": 1,
          "train_or_test": "train",
          "x1": 2.07297480737391,
          "x2": -0.121880767287073
         },
         {
          "prediction": 0,
          "train_or_test": "train",
          "x1": 0.6319288727334584,
          "x2": 0.6309248783553395
         },
         {
          "prediction": 1,
          "train_or_test": "train",
          "x1": 1.4731596196691745,
          "x2": -1.1661746554536063
         },
         {
          "prediction": 0,
          "train_or_test": "train",
          "x1": 0.14559696666522462,
          "x2": 1.1399560341707495
         },
         {
          "prediction": 1,
          "train_or_test": "train",
          "x1": -0.2504682284545698,
          "x2": 0.24392223709775462
         },
         {
          "prediction": 0,
          "train_or_test": "train",
          "x1": 1.044285340463109,
          "x2": 0.3103639240290267
         },
         {
          "prediction": 1,
          "train_or_test": "train",
          "x1": 1.2626751702964085,
          "x2": -0.10313727644882814
         },
         {
          "prediction": 1,
          "train_or_test": "train",
          "x1": 1.1084414866652146,
          "x2": -0.8305090544248965
         },
         {
          "prediction": 0,
          "train_or_test": "train",
          "x1": 0.46979639132415857,
          "x2": 1.0479664554586265
         },
         {
          "prediction": 0,
          "train_or_test": "train",
          "x1": -0.22130697681056155,
          "x2": 1.551238521670913
         },
         {
          "prediction": 1,
          "train_or_test": "train",
          "x1": 1.432822197904115,
          "x2": -0.5448300905143431
         },
         {
          "prediction": 1,
          "train_or_test": "train",
          "x1": 0.6445543473899304,
          "x2": 0.09837596681081823
         },
         {
          "prediction": 0,
          "train_or_test": "train",
          "x1": -0.9385673088481149,
          "x2": 0.4669808127345213
         },
         {
          "prediction": 0,
          "train_or_test": "train",
          "x1": -1.1203655669325894,
          "x2": 0.502134421599183
         },
         {
          "prediction": 0,
          "train_or_test": "train",
          "x1": 0.48786748294677423,
          "x2": 1.0312343062369984
         },
         {
          "prediction": 0,
          "train_or_test": "train",
          "x1": -0.08458456799527392,
          "x2": 0.6410138727165291
         },
         {
          "prediction": 1,
          "train_or_test": "train",
          "x1": 2.0057907886685347,
          "x2": 0.6091337410474001
         },
         {
          "prediction": 1,
          "train_or_test": "train",
          "x1": -0.04727197338151562,
          "x2": 0.37757459296837476
         },
         {
          "prediction": 1,
          "train_or_test": "train",
          "x1": -0.010480537619027674,
          "x2": -0.3679297307648803
         },
         {
          "prediction": 1,
          "train_or_test": "train",
          "x1": -0.11919124489734141,
          "x2": 0.217456940165477
         },
         {
          "prediction": 0,
          "train_or_test": "train",
          "x1": 0.7016672613504483,
          "x2": 0.7822940034300112
         },
         {
          "prediction": 0,
          "train_or_test": "train",
          "x1": 0.9116986096150076,
          "x2": 0.46995543220376385
         },
         {
          "prediction": 1,
          "train_or_test": "train",
          "x1": 1.7897794329696357,
          "x2": -0.08138423449580345
         },
         {
          "prediction": 0,
          "train_or_test": "train",
          "x1": 0.7828239423375624,
          "x2": 0.9551788320008902
         },
         {
          "prediction": 1,
          "train_or_test": "train",
          "x1": 1.7690557732580534,
          "x2": -0.310254385747909
         },
         {
          "prediction": 1,
          "train_or_test": "train",
          "x1": 0.817422656432472,
          "x2": -0.28809561097343395
         },
         {
          "prediction": 0,
          "train_or_test": "train",
          "x1": 0.45365719223590817,
          "x2": 1.195791033354389
         },
         {
          "prediction": 0,
          "train_or_test": "train",
          "x1": 1.0945679834164854,
          "x2": 0.2426084716244484
         },
         {
          "prediction": 1,
          "train_or_test": "train",
          "x1": 0.0675780912413679,
          "x2": 0.5597282721654455
         },
         {
          "prediction": 0,
          "train_or_test": "train",
          "x1": -0.2693468318865835,
          "x2": 0.8951832304074658
         },
         {
          "prediction": 0,
          "train_or_test": "train",
          "x1": -0.3983710360335444,
          "x2": 0.29667177953026613
         },
         {
          "prediction": 1,
          "train_or_test": "train",
          "x1": 1.4819557015354867,
          "x2": -0.5437545131444383
         },
         {
          "prediction": 0,
          "train_or_test": "train",
          "x1": -0.3545025044050145,
          "x2": 1.425725236122979
         },
         {
          "prediction": 0,
          "train_or_test": "train",
          "x1": 0.4127154578860428,
          "x2": 0.5337493402667001
         },
         {
          "prediction": 0,
          "train_or_test": "train",
          "x1": 0.2169503594987668,
          "x2": 0.884208121556989
         },
         {
          "prediction": 0,
          "train_or_test": "train",
          "x1": 0.6945649978777184,
          "x2": 0.4266640838380702
         },
         {
          "prediction": 0,
          "train_or_test": "train",
          "x1": 0.34916646254053435,
          "x2": 1.0631358005326133
         },
         {
          "prediction": 0,
          "train_or_test": "train",
          "x1": 0.26869432464058085,
          "x2": 0.7660975557457808
         },
         {
          "prediction": 1,
          "train_or_test": "train",
          "x1": 0.5976382469860464,
          "x2": -0.5695692439990583
         },
         {
          "prediction": 0,
          "train_or_test": "train",
          "x1": 0.21714677221548995,
          "x2": 0.9889129610890365
         },
         {
          "prediction": 1,
          "train_or_test": "train",
          "x1": 1.0456676298116627,
          "x2": -0.33483343749430405
         },
         {
          "prediction": 1,
          "train_or_test": "train",
          "x1": 1.5224941101874996,
          "x2": -0.37788245902070894
         },
         {
          "prediction": 1,
          "train_or_test": "train",
          "x1": 1.3948270507954632,
          "x2": -0.13319063305632023
         },
         {
          "prediction": 1,
          "train_or_test": "train",
          "x1": -0.17484578102010018,
          "x2": 0.1971504990951612
         },
         {
          "prediction": 1,
          "train_or_test": "train",
          "x1": 0.6918145320341909,
          "x2": -0.6423310653429485
         },
         {
          "prediction": 1,
          "train_or_test": "train",
          "x1": 1.642988607620771,
          "x2": -0.35188265290686255
         },
         {
          "prediction": 0,
          "train_or_test": "train",
          "x1": -0.5149065433294558,
          "x2": 0.8293001137708347
         },
         {
          "prediction": 1,
          "train_or_test": "train",
          "x1": 1.373137017729287,
          "x2": -0.4849475415288223
         },
         {
          "prediction": 1,
          "train_or_test": "train",
          "x1": 0.1775972289115445,
          "x2": 0.37617630592213336
         },
         {
          "prediction": 1,
          "train_or_test": "train",
          "x1": 1.252578715905178,
          "x2": 0.050245994841179864
         },
         {
          "prediction": 1,
          "train_or_test": "train",
          "x1": 1.9103487960799346,
          "x2": 0.503135721420308
         },
         {
          "prediction": 1,
          "train_or_test": "train",
          "x1": 1.17420071799391,
          "x2": -0.5594589458342415
         },
         {
          "prediction": 0,
          "train_or_test": "train",
          "x1": -0.6774251160822067,
          "x2": 0.8869011397270226
         },
         {
          "prediction": 0,
          "train_or_test": "train",
          "x1": -0.33770445196386456,
          "x2": 0.58956858557755
         },
         {
          "prediction": 1,
          "train_or_test": "train",
          "x1": 1.4848520355394978,
          "x2": -0.5187578156325547
         },
         {
          "prediction": 0,
          "train_or_test": "train",
          "x1": -0.6967508988799258,
          "x2": 0.4782055325453266
         },
         {
          "prediction": 1,
          "train_or_test": "train",
          "x1": 2.0677067914326086,
          "x2": 0.16597981191485867
         },
         {
          "prediction": 1,
          "train_or_test": "train",
          "x1": 1.0244820549472935,
          "x2": -0.27459747240647403
         },
         {
          "prediction": 1,
          "train_or_test": "train",
          "x1": 0.19703240132841443,
          "x2": -0.09206248536963521
         },
         {
          "prediction": 1,
          "train_or_test": "train",
          "x1": 2.111957390843308,
          "x2": 0.5188055742106222
         },
         {
          "prediction": 0,
          "train_or_test": "train",
          "x1": -1.133379726383668,
          "x2": -0.6112786976714605
         },
         {
          "prediction": 0,
          "train_or_test": "train",
          "x1": 0.2344692487552041,
          "x2": 0.8080496055734775
         },
         {
          "prediction": 0,
          "train_or_test": "train",
          "x1": -0.4388536563830575,
          "x2": 0.026316676836069204
         },
         {
          "prediction": 1,
          "train_or_test": "train",
          "x1": 0.3347761070859547,
          "x2": -0.3321045769913427
         },
         {
          "prediction": 1,
          "train_or_test": "train",
          "x1": 1.4849068039993865,
          "x2": -0.34519451213606117
         },
         {
          "prediction": 0,
          "train_or_test": "train",
          "x1": -0.5872285756404965,
          "x2": 0.38317498014824847
         },
         {
          "prediction": 0,
          "train_or_test": "train",
          "x1": 0.3729601534270596,
          "x2": 1.158421247226343
         },
         {
          "prediction": 1,
          "train_or_test": "train",
          "x1": 1.210076032273006,
          "x2": -0.3627285947120825
         },
         {
          "prediction": 1,
          "train_or_test": "train",
          "x1": 2.2357759223782208,
          "x2": 0.10383731497772186
         },
         {
          "prediction": 0,
          "train_or_test": "train",
          "x1": 0.7551344832733721,
          "x2": 0.8194618752762468
         },
         {
          "prediction": 1,
          "train_or_test": "train",
          "x1": 0.882117942378621,
          "x2": -0.46701177755849765
         },
         {
          "prediction": 0,
          "train_or_test": "train",
          "x1": -0.6086166945702116,
          "x2": 0.7462576152537609
         },
         {
          "prediction": 0,
          "train_or_test": "train",
          "x1": 1.217269733531843,
          "x2": 0.5436345735051309
         },
         {
          "prediction": 1,
          "train_or_test": "train",
          "x1": 2.0785766970075477,
          "x2": 0.8088208122427064
         },
         {
          "prediction": 0,
          "train_or_test": "train",
          "x1": 1.159746281397282,
          "x2": 0.8823716898157786
         },
         {
          "prediction": 0,
          "train_or_test": "train",
          "x1": -1.119332650030404,
          "x2": 0.3486669433450421
         },
         {
          "prediction": 1,
          "train_or_test": "train",
          "x1": 1.9512452329265848,
          "x2": 0.17872251008788576
         },
         {
          "prediction": 0,
          "train_or_test": "train",
          "x1": 0.7500697217903243,
          "x2": 0.33995341752277736
         },
         {
          "prediction": 1,
          "train_or_test": "train",
          "x1": 1.5867688208876307,
          "x2": 0.007961550322939825
         },
         {
          "prediction": 0,
          "train_or_test": "train",
          "x1": -0.22133294220186536,
          "x2": 1.0634234124150976
         },
         {
          "prediction": 0,
          "train_or_test": "train",
          "x1": -1.42838544271404,
          "x2": 0.16015893253344685
         },
         {
          "prediction": 0,
          "train_or_test": "train",
          "x1": -0.4856540528091372,
          "x2": 0.41260747600599457
         },
         {
          "prediction": 1,
          "train_or_test": "train",
          "x1": -0.011529474291418207,
          "x2": -0.23320130172671033
         },
         {
          "prediction": 1,
          "train_or_test": "train",
          "x1": -0.2878835742378575,
          "x2": -0.6845534637597719
         },
         {
          "prediction": 1,
          "train_or_test": "train",
          "x1": 0.8996304392020401,
          "x2": -0.19542882222623825
         },
         {
          "prediction": 1,
          "train_or_test": "train",
          "x1": 1.4179802261144736,
          "x2": -0.0276825397388481
         },
         {
          "prediction": 1,
          "train_or_test": "train",
          "x1": 0.41510166735847587,
          "x2": -0.17545537625512958
         },
         {
          "prediction": 1,
          "train_or_test": "train",
          "x1": 2.2130309036055245,
          "x2": -0.5847718110415041
         },
         {
          "prediction": 0,
          "train_or_test": "train",
          "x1": 1.1270465794570663,
          "x2": 0.3486214677114573
         },
         {
          "prediction": 1,
          "train_or_test": "train",
          "x1": 1.3502536401017813,
          "x2": -0.501850327771289
         },
         {
          "prediction": 0,
          "train_or_test": "train",
          "x1": -0.6233330667680717,
          "x2": 1.2886238735384128
         },
         {
          "prediction": 0,
          "train_or_test": "train",
          "x1": -1.030288620930115,
          "x2": 0.9272917096145863
         },
         {
          "prediction": 1,
          "train_or_test": "train",
          "x1": 1.4197560037659085,
          "x2": 0.06768800525099847
         },
         {
          "prediction": 0,
          "train_or_test": "train",
          "x1": 0.010530212450255871,
          "x2": 0.8802607582836837
         },
         {
          "prediction": 1,
          "train_or_test": "train",
          "x1": 0.17441396853394356,
          "x2": -0.4431145636402173
         },
         {
          "prediction": 1,
          "train_or_test": "train",
          "x1": 0.6741046115579704,
          "x2": -0.3383311222191763
         },
         {
          "prediction": 1,
          "train_or_test": "train",
          "x1": 0.8773775460272571,
          "x2": -0.41008572519860415
         },
         {
          "prediction": 1,
          "train_or_test": "train",
          "x1": 0.8069453726942785,
          "x2": -0.6296701015395274
         },
         {
          "prediction": 1,
          "train_or_test": "train",
          "x1": 0.4608502133773094,
          "x2": -0.06846039598676032
         },
         {
          "prediction": 0,
          "train_or_test": "train",
          "x1": 0.9214180666243866,
          "x2": 0.12520049199869
         },
         {
          "prediction": 1,
          "train_or_test": "train",
          "x1": 1.9057458840919017,
          "x2": 0.7125463783541255
         },
         {
          "prediction": 1,
          "train_or_test": "train",
          "x1": 0.8114422333635755,
          "x2": -0.037556686553993135
         },
         {
          "prediction": 1,
          "train_or_test": "train",
          "x1": 0.16533218349276801,
          "x2": 0.2993317518644173
         },
         {
          "prediction": 0,
          "train_or_test": "train",
          "x1": 0.8425907888281892,
          "x2": 0.21802307298877457
         },
         {
          "prediction": 1,
          "train_or_test": "train",
          "x1": 1.6835300831104205,
          "x2": -0.8001664333814182
         },
         {
          "prediction": 1,
          "train_or_test": "train",
          "x1": 2.4386268058650242,
          "x2": 0.022053534073889096
         },
         {
          "prediction": 1,
          "train_or_test": "train",
          "x1": -0.09799294199684547,
          "x2": -0.2148153812593332
         },
         {
          "prediction": 0,
          "train_or_test": "train",
          "x1": 1.096650005095234,
          "x2": 0.683251016401714
         },
         {
          "prediction": 1,
          "train_or_test": "train",
          "x1": 1.6917590347781377,
          "x2": -0.9135591942938439
         },
         {
          "prediction": 1,
          "train_or_test": "train",
          "x1": 1.1851693690127416,
          "x2": -0.1433449091282197
         },
         {
          "prediction": 1,
          "train_or_test": "train",
          "x1": 0.026697401850456312,
          "x2": -0.1761001592935979
         },
         {
          "prediction": 0,
          "train_or_test": "train",
          "x1": -0.08895686221418897,
          "x2": 0.6399268593296665
         },
         {
          "prediction": 0,
          "train_or_test": "train",
          "x1": -0.5506900392467114,
          "x2": 1.0040220632220307
         },
         {
          "prediction": 1,
          "train_or_test": "train",
          "x1": 0.7622607201656514,
          "x2": -0.14525828321732798
         },
         {
          "prediction": 0,
          "train_or_test": "train",
          "x1": -0.3324792457888712,
          "x2": 0.34611769836007544
         },
         {
          "prediction": 1,
          "train_or_test": "train",
          "x1": 1.4548503827311337,
          "x2": -0.06096365631224179
         },
         {
          "prediction": 1,
          "train_or_test": "train",
          "x1": 2.186201882234628,
          "x2": 0.003832455439704799
         },
         {
          "prediction": 0,
          "train_or_test": "train",
          "x1": -0.6235671038306916,
          "x2": 0.4916812194118143
         },
         {
          "prediction": 0,
          "train_or_test": "train",
          "x1": -1.1512188182881355,
          "x2": 1.0310628351624551
         },
         {
          "prediction": 0,
          "train_or_test": "train",
          "x1": -0.9686918441928606,
          "x2": -0.009103270366088795
         },
         {
          "prediction": 0,
          "train_or_test": "train",
          "x1": -0.8236346978411908,
          "x2": 1.0188113726983654
         },
         {
          "prediction": 1,
          "train_or_test": "train",
          "x1": 1.993532981920863,
          "x2": -0.1329764374828315
         },
         {
          "prediction": 0,
          "train_or_test": "train",
          "x1": 0.10141446435235657,
          "x2": 0.7896314966028466
         },
         {
          "prediction": 0,
          "train_or_test": "train",
          "x1": 0.27303310957331034,
          "x2": 1.4768940328316686
         },
         {
          "prediction": 1,
          "train_or_test": "test",
          "x1": 1.767634410202508,
          "x2": -0.09862911064123914
         },
         {
          "prediction": 0,
          "train_or_test": "test",
          "x1": 1.0067860638884172,
          "x2": 0.14949758761320697
         },
         {
          "prediction": 0,
          "train_or_test": "test",
          "x1": 0.9759745618126869,
          "x2": 0.7049692433235083
         },
         {
          "prediction": 0,
          "train_or_test": "test",
          "x1": 0.7964910578345754,
          "x2": 1.2852972756823988
         },
         {
          "prediction": 1,
          "train_or_test": "test",
          "x1": 0.8757565993672418,
          "x2": -0.38502235093489595
         },
         {
          "prediction": 1,
          "train_or_test": "test",
          "x1": 1.8106020832663434,
          "x2": -0.8381995811554273
         },
         {
          "prediction": 0,
          "train_or_test": "test",
          "x1": -1.0390235326357085,
          "x2": 0.7358428972775155
         },
         {
          "prediction": 0,
          "train_or_test": "test",
          "x1": 0.6559696356180692,
          "x2": 1.0512201666414547
         },
         {
          "prediction": 1,
          "train_or_test": "test",
          "x1": 0.3254717068384927,
          "x2": -0.03054676424421822
         },
         {
          "prediction": 0,
          "train_or_test": "test",
          "x1": -0.16202720394093456,
          "x2": 1.1822247125779717
         },
         {
          "prediction": 0,
          "train_or_test": "test",
          "x1": -0.24061730881703342,
          "x2": 1.1407417009732626
         },
         {
          "prediction": 1,
          "train_or_test": "test",
          "x1": 1.8750667543139141,
          "x2": 0.30220819962101186
         },
         {
          "prediction": 0,
          "train_or_test": "test",
          "x1": 1.3081337888212985,
          "x2": 0.27416243519978123
         },
         {
          "prediction": 0,
          "train_or_test": "test",
          "x1": 0.3670961764205377,
          "x2": 0.9180114884531111
         },
         {
          "prediction": 0,
          "train_or_test": "test",
          "x1": 0.31928415521874415,
          "x2": 0.5331738499652745
         },
         {
          "prediction": 0,
          "train_or_test": "test",
          "x1": -0.7353371579417578,
          "x2": 0.36639303819278235
         },
         {
          "prediction": 1,
          "train_or_test": "test",
          "x1": 0.39783008388956365,
          "x2": 0.34526487579565446
         },
         {
          "prediction": 0,
          "train_or_test": "test",
          "x1": 0.783939881637992,
          "x2": 0.1693918903974178
         },
         {
          "prediction": 1,
          "train_or_test": "test",
          "x1": 0.6135329180145832,
          "x2": -0.8242664811980491
         },
         {
          "prediction": 0,
          "train_or_test": "test",
          "x1": 0.41942209656722523,
          "x2": 0.8731918354499086
         },
         {
          "prediction": 0,
          "train_or_test": "test",
          "x1": -0.37880080486390416,
          "x2": 0.03165045652143322
         },
         {
          "prediction": 0,
          "train_or_test": "test",
          "x1": 0.7458305101608438,
          "x2": 0.9868823353921964
         },
         {
          "prediction": 0,
          "train_or_test": "test",
          "x1": 0.3466105706191154,
          "x2": 1.26425717546153
         },
         {
          "prediction": 0,
          "train_or_test": "test",
          "x1": -0.6558760157690224,
          "x2": 0.9122257599461912
         },
         {
          "prediction": 0,
          "train_or_test": "test",
          "x1": -1.5442157242137995,
          "x2": 0.31771615637823497
         },
         {
          "prediction": 1,
          "train_or_test": "test",
          "x1": -0.12221548368499147,
          "x2": -0.08107661954583745
         },
         {
          "prediction": 1,
          "train_or_test": "test",
          "x1": -0.02132415551600462,
          "x2": 0.19787995839684372
         },
         {
          "prediction": 1,
          "train_or_test": "test",
          "x1": 1.7170797757033078,
          "x2": -0.2372262480400407
         },
         {
          "prediction": 0,
          "train_or_test": "test",
          "x1": -1.0270706054587606,
          "x2": 0.7674048779927434
         },
         {
          "prediction": 0,
          "train_or_test": "test",
          "x1": -1.5372293444036897,
          "x2": 0.5424515918257828
         },
         {
          "prediction": 1,
          "train_or_test": "test",
          "x1": 1.3020886707230577,
          "x2": -0.7233492339309262
         },
         {
          "prediction": 0,
          "train_or_test": "test",
          "x1": 0.1791641884226691,
          "x2": 0.7178944012278066
         },
         {
          "prediction": 0,
          "train_or_test": "test",
          "x1": 0.9018575806703075,
          "x2": 0.4908852130595489
         },
         {
          "prediction": 0,
          "train_or_test": "test",
          "x1": -0.9389012045751733,
          "x2": 0.7028585455304925
         },
         {
          "prediction": 1,
          "train_or_test": "test",
          "x1": 0.48783854334288645,
          "x2": -0.47307877614403393
         },
         {
          "prediction": 0,
          "train_or_test": "test",
          "x1": -0.46655507078230896,
          "x2": 1.0492113539606986
         },
         {
          "prediction": 1,
          "train_or_test": "test",
          "x1": 1.453341341866456,
          "x2": 0.3042931964396619
         },
         {
          "prediction": 0,
          "train_or_test": "test",
          "x1": -1.2156078949081741,
          "x2": 0.04107543593005694
         },
         {
          "prediction": 1,
          "train_or_test": "test",
          "x1": 0.6619089168694166,
          "x2": -0.9338474334464959
         },
         {
          "prediction": 1,
          "train_or_test": "test",
          "x1": 0.1154771614735697,
          "x2": 0.02450713103115426
         },
         {
          "prediction": 1,
          "train_or_test": "test",
          "x1": 0.7100525469904329,
          "x2": 0.08629566488278384
         },
         {
          "prediction": 1,
          "train_or_test": "test",
          "x1": 0.3444267257909783,
          "x2": 0.025000929336442747
         },
         {
          "prediction": 0,
          "train_or_test": "test",
          "x1": -0.6909541392083399,
          "x2": 0.7138763826640393
         },
         {
          "prediction": 0,
          "train_or_test": "test",
          "x1": -0.035518325634482484,
          "x2": 1.4273030212586648
         },
         {
          "prediction": 1,
          "train_or_test": "test",
          "x1": -0.22512001303149348,
          "x2": 0.15163911957228918
         },
         {
          "prediction": 0,
          "train_or_test": "test",
          "x1": -0.5818757511784166,
          "x2": 0.9129830868661531
         },
         {
          "prediction": 1,
          "train_or_test": "test",
          "x1": -0.036558749619488656,
          "x2": 0.45430338277622473
         },
         {
          "prediction": 0,
          "train_or_test": "test",
          "x1": -1.1551440816121463,
          "x2": 1.371761479162914
         },
         {
          "prediction": 0,
          "train_or_test": "test",
          "x1": -0.9628117334649793,
          "x2": 1.04009452462222
         },
         {
          "prediction": 1,
          "train_or_test": "test",
          "x1": 0.7349458039868342,
          "x2": -0.06647363286809298
         },
         {
          "prediction": 0,
          "train_or_test": "test",
          "x1": 0.9775897855222004,
          "x2": 0.25706687792454286
         },
         {
          "prediction": 0,
          "train_or_test": "test",
          "x1": -0.4631168360156332,
          "x2": 0.14488489108650648
         },
         {
          "prediction": 1,
          "train_or_test": "test",
          "x1": 2.0022551086220974,
          "x2": -0.18591999503090018
         },
         {
          "prediction": 1,
          "train_or_test": "test",
          "x1": 0.5485464387342486,
          "x2": -0.22501718114322067
         },
         {
          "prediction": 1,
          "train_or_test": "test",
          "x1": 2.08355092559482,
          "x2": 0.32578703111958596
         },
         {
          "prediction": 0,
          "train_or_test": "test",
          "x1": -0.7945533154350455,
          "x2": 0.8054737024282528
         },
         {
          "prediction": 1,
          "train_or_test": "test",
          "x1": -0.2713633439989032,
          "x2": 0.26291048088925234
         },
         {
          "prediction": 0,
          "train_or_test": "test",
          "x1": -1.2406772552862382,
          "x2": 0.5139880285391629
         },
         {
          "prediction": 0,
          "train_or_test": "test",
          "x1": -1.1886226794370207,
          "x2": 0.5891991508264814
         },
         {
          "prediction": 1,
          "train_or_test": "test",
          "x1": 1.7983289785412686,
          "x2": -0.41649818333040645
         }
        ]
       },
       "encoding": {
        "color": {
         "field": "prediction",
         "type": "nominal"
        },
        "shape": {
         "field": "train_or_test",
         "type": "nominal"
        },
        "x": {
         "field": "x1",
         "type": "quantitative"
        },
        "y": {
         "field": "x2",
         "type": "quantitative"
        }
       },
       "height": 500,
       "mark": "point",
       "width": 500
      },
      "image/png": "[encoded data removed]",
      "text/plain": [
       "<VegaLite 4 object>\n",
       "\n",
       "If you see this message, it means the renderer has not been properly enabled\n",
       "for the frontend that you are using. For more information, see\n",
       "https://altair-viz.github.io/user_guide/troubleshooting.html\n"
      ]
     },
     "execution_count": 8,
     "metadata": {},
     "output_type": "execute_result"
    }
   ],
   "source": [
    "# ... and plot:\n",
    "(alt.Chart(data_df).\n",
    " properties(height=500, width=500).\n",
    " mark_point().\n",
    " encode(x='x1',\n",
    "        y='x2',\n",
    "        color='prediction:N',\n",
    "        shape='train_or_test:N')\n",
    " ) #.show()"
   ]
  },
  {
   "cell_type": "code",
   "execution_count": 9,
   "metadata": {},
   "outputs": [],
   "source": [
    "# np.concatenate([data, label.ndmin(1, -1)], axis=1)\n",
    "# np.concatenate([data, label.reshape(110, 1)], axis=1)\n",
    "# np.concatenate([data, label.reshape(label.shape[0], 1)], axis=1)"
   ]
  },
  {
   "cell_type": "code",
   "execution_count": 10,
   "metadata": {},
   "outputs": [],
   "source": [
    "# We build a DataFrame\n",
    "data_train_np = np.concatenate([data, label.reshape(-1, 1)], axis=1)\n",
    "data_train_df = pd.DataFrame(data_train_np, columns=['x', 'y', 'label'])"
   ]
  },
  {
   "cell_type": "code",
   "execution_count": 11,
   "metadata": {},
   "outputs": [
    {
     "data": {
      "image/png": "[encoded data removed]",
      "text/plain": [
       "<Figure size 640x480 with 1 Axes>"
      ]
     },
     "metadata": {},
     "output_type": "display_data"
    },
    {
     "name": "stdout",
     "output_type": "stream",
     "text": [
      "<ggplot: (8756380373640)>\n"
     ]
    }
   ],
   "source": [
    "# ... and plot:\n",
    "gg1 = pn.ggplot(data=data_train_df, mapping=pn.aes(x='x', y='y', color='factor(label)')) + \\\n",
    "    pn.geom_point()\n",
    "print(gg1)"
   ]
  },
  {
   "cell_type": "code",
   "execution_count": 12,
   "metadata": {},
   "outputs": [],
   "source": [
    "# We predict new labels and build a DataFrame\n",
    "y_pred = classifier.predict(data)\n",
    "col = np.array([(j if i else -1) for i, j in zip(list(y_pred == label), list(label))])\n",
    "data_train_np = np.concatenate([data, col.reshape(-1, 1)], axis=1)\n",
    "data_train_df = pd.DataFrame(data_train_np, columns=['x', 'y', 'col'])"
   ]
  },
  {
   "cell_type": "code",
   "execution_count": 13,
   "metadata": {},
   "outputs": [
    {
     "data": {
      "image/png": "[encoded data removed]",
      "text/plain": [
       "<Figure size 640x480 with 1 Axes>"
      ]
     },
     "metadata": {},
     "output_type": "display_data"
    },
    {
     "name": "stdout",
     "output_type": "stream",
     "text": [
      "<ggplot: (8756379780813)>\n"
     ]
    }
   ],
   "source": [
    "# ... and plot:\n",
    "gg2 = pn.ggplot(data=data_train_df, mapping=pn.aes(x='x', y='y', color='factor(col)')) + \\\n",
    "     pn.geom_point()\n",
    "print(gg2)"
   ]
  },
  {
   "cell_type": "markdown",
   "metadata": {},
   "source": [
    "More information: https://scikit-learn.org/stable/auto_examples/classification/plot_classifier_comparison.html"
   ]
  }
 ],
 "metadata": {
  "jupytext": {
   "cell_metadata_filter": "-all",
   "formats": "ipynb,auto:percent",
   "main_language": "python",
   "notebook_metadata_filter": "-all"
  },
  "kernelspec": {
   "display_name": "PyCharm (Warp-Clustering)",
   "language": "python",
   "name": "pycharm-b613d24b"
  },
  "language_info": {
   "codemirror_mode": {
    "name": "ipython",
    "version": 3
   },
   "file_extension": ".py",
   "mimetype": "text/x-python",
   "name": "python",
   "nbconvert_exporter": "python",
   "pygments_lexer": "ipython3",
   "version": "3.8.8"
  }
 },
 "nbformat": 4,
 "nbformat_minor": 4
}
