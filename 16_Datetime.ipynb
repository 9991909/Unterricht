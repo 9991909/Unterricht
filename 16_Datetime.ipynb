{
 "cells": [
  {
   "cell_type": "markdown",
   "metadata": {},
   "source": [
    "<div align=\"center\"> <h1>Dates and times in Python and Pandas</h1>\n",
    "    <h2><a href=\"...\">Richard Leibrandt</a></h2>\n",
    "</div>"
   ]
  },
  {
   "cell_type": "markdown",
   "metadata": {},
   "source": [
    "The packages 'datetime' and 'time' allow us to deal with dates and times in Python. The Pandas package also has some methods and classes dedicated to dates and time. "
   ]
  },
  {
   "cell_type": "code",
   "execution_count": 1,
   "metadata": {},
   "outputs": [],
   "source": [
    "import datetime as dt\n",
    "import time as tm\n",
    "import pandas as pd\n",
    "import numpy as np\n",
    "\n",
    "now = dt.datetime.now()  # actual date and time"
   ]
  },
  {
   "cell_type": "code",
   "execution_count": 2,
   "metadata": {},
   "outputs": [
    {
     "name": "stdout",
     "output_type": "stream",
     "text": [
      "2021-12-02 21:01:17.294541\n",
      "2021\n"
     ]
    }
   ],
   "source": [
    "print(now)\n",
    "print(now.year)"
   ]
  },
  {
   "cell_type": "markdown",
   "metadata": {},
   "source": [
    "```Timedelta``` objects facilitate adding and subtracting dates."
   ]
  },
  {
   "cell_type": "code",
   "execution_count": 3,
   "metadata": {
    "collapsed": false,
    "jupyter": {
     "outputs_hidden": false
    }
   },
   "outputs": [],
   "source": [
    "fivedays = dt.timedelta(days=5)"
   ]
  },
  {
   "cell_type": "code",
   "execution_count": 4,
   "metadata": {
    "collapsed": false,
    "jupyter": {
     "outputs_hidden": false
    }
   },
   "outputs": [
    {
     "data": {
      "text/plain": [
       "datetime.datetime(2021, 11, 27, 21, 1, 17, 294541)"
      ]
     },
     "execution_count": 4,
     "metadata": {},
     "output_type": "execute_result"
    }
   ],
   "source": [
    "now-fivedays"
   ]
  },
  {
   "cell_type": "markdown",
   "metadata": {},
   "source": [
    "Dates are easily converted to strings and strings with dates are easily parsed.\n",
    "\n",
    "The following symbols are used in formatting dates and times:\n",
    "\n",
    "- Year: `%Y` (4 digits). `%y` (2 digits); 00-69 -> 2000-2069, 70-99 -> 1970-1999.\n",
    "- Month: `%m` (2 digits), `%b` (abbreviated name in current locale), `%B` (full name in current locale).\n",
    "- Day: `%d` (2 digits), `%e` (optional leading space)\n",
    "- Hour: `%H`\n",
    "- Minutes: `%M`\n",
    "- Seconds: `%S` (integer seconds), `%OS` (partial seconds)\n",
    "- Time zone: `%Z` (as name, e.g. America/Chicago), `%z` (as offset from UTC, e.g. +0800)\n",
    "- Non-digits: `%. skips one non-digit character, `%*` skips any number of non-digit characters.\n",
    "- Shortcuts:\n",
    "       - `%D` = `%m%d%y`\n",
    "       - `%F` = `%Y-%m-%d`\n",
    "       - `%R` = `%H:%M`\n",
    "       - `%T` = `%H:%M:%S`\n",
    "       - `%x` = `%y%m%d`\n"
   ]
  },
  {
   "cell_type": "code",
   "execution_count": 5,
   "metadata": {
    "collapsed": false,
    "jupyter": {
     "outputs_hidden": false
    }
   },
   "outputs": [
    {
     "data": {
      "text/plain": [
       "'2021-12-02 21:01:17'"
      ]
     },
     "execution_count": 5,
     "metadata": {},
     "output_type": "execute_result"
    }
   ],
   "source": [
    "dt.datetime.strftime(now, '%F %T')"
   ]
  },
  {
   "cell_type": "code",
   "execution_count": 6,
   "metadata": {
    "collapsed": false,
    "jupyter": {
     "outputs_hidden": false
    }
   },
   "outputs": [
    {
     "data": {
      "text/plain": [
       "'Dec, 02. 2021'"
      ]
     },
     "execution_count": 6,
     "metadata": {},
     "output_type": "execute_result"
    }
   ],
   "source": [
    "now.strftime('%b, %d. %Y')"
   ]
  },
  {
   "cell_type": "markdown",
   "metadata": {},
   "source": [
    "The inverse operation (the shortcuts do not work with ```strptime```):"
   ]
  },
  {
   "cell_type": "code",
   "execution_count": 7,
   "metadata": {
    "collapsed": false,
    "jupyter": {
     "outputs_hidden": false
    }
   },
   "outputs": [
    {
     "data": {
      "text/plain": [
       "datetime.datetime(2016, 7, 4, 14, 45, 31)"
      ]
     },
     "execution_count": 7,
     "metadata": {},
     "output_type": "execute_result"
    }
   ],
   "source": [
    "onedate = dt.datetime.strptime('2016-07-04 14:45:31', '%Y-%m-%d %H:%M:%S' )\n",
    "onedate"
   ]
  },
  {
   "cell_type": "code",
   "execution_count": 8,
   "metadata": {},
   "outputs": [
    {
     "data": {
      "text/plain": [
       "datetime.datetime"
      ]
     },
     "execution_count": 8,
     "metadata": {},
     "output_type": "execute_result"
    }
   ],
   "source": [
    "type(onedate)"
   ]
  },
  {
   "cell_type": "markdown",
   "metadata": {},
   "source": [
    "In Pandas, it's also easy to parse dates into datetime objects."
   ]
  },
  {
   "cell_type": "code",
   "execution_count": 9,
   "metadata": {
    "collapsed": false,
    "jupyter": {
     "outputs_hidden": false
    },
    "scrolled": true
   },
   "outputs": [
    {
     "data": {
      "text/html": [
       "<div>\n",
       "<style scoped>\n",
       "    .dataframe tbody tr th:only-of-type {\n",
       "        vertical-align: middle;\n",
       "    }\n",
       "\n",
       "    .dataframe tbody tr th {\n",
       "        vertical-align: top;\n",
       "    }\n",
       "\n",
       "    .dataframe thead th {\n",
       "        text-align: right;\n",
       "    }\n",
       "</style>\n",
       "<table border=\"1\" class=\"dataframe\">\n",
       "  <thead>\n",
       "    <tr style=\"text-align: right;\">\n",
       "      <th></th>\n",
       "      <th>Unnamed: 0</th>\n",
       "      <th>date</th>\n",
       "      <th>day</th>\n",
       "      <th>dm</th>\n",
       "      <th>ddm</th>\n",
       "      <th>bp</th>\n",
       "      <th>cd</th>\n",
       "      <th>dy</th>\n",
       "      <th>sf</th>\n",
       "    </tr>\n",
       "  </thead>\n",
       "  <tbody>\n",
       "    <tr>\n",
       "      <th>0</th>\n",
       "      <td>1</td>\n",
       "      <td>800102</td>\n",
       "      <td>wednesday</td>\n",
       "      <td>0.5861</td>\n",
       "      <td>NaN</td>\n",
       "      <td>2.2490</td>\n",
       "      <td>0.8547</td>\n",
       "      <td>0.004206</td>\n",
       "      <td>0.6365</td>\n",
       "    </tr>\n",
       "    <tr>\n",
       "      <th>1</th>\n",
       "      <td>2</td>\n",
       "      <td>800103</td>\n",
       "      <td>thursday</td>\n",
       "      <td>0.5837</td>\n",
       "      <td>-0.004103</td>\n",
       "      <td>2.2365</td>\n",
       "      <td>0.8552</td>\n",
       "      <td>0.004187</td>\n",
       "      <td>0.6357</td>\n",
       "    </tr>\n",
       "    <tr>\n",
       "      <th>2</th>\n",
       "      <td>3</td>\n",
       "      <td>800104</td>\n",
       "      <td>friday</td>\n",
       "      <td>0.5842</td>\n",
       "      <td>0.000856</td>\n",
       "      <td>2.2410</td>\n",
       "      <td>0.8566</td>\n",
       "      <td>0.004269</td>\n",
       "      <td>0.6355</td>\n",
       "    </tr>\n",
       "    <tr>\n",
       "      <th>3</th>\n",
       "      <td>4</td>\n",
       "      <td>800107</td>\n",
       "      <td>monday</td>\n",
       "      <td>0.5853</td>\n",
       "      <td>0.001881</td>\n",
       "      <td>2.2645</td>\n",
       "      <td>0.8538</td>\n",
       "      <td>0.004315</td>\n",
       "      <td>0.6373</td>\n",
       "    </tr>\n",
       "    <tr>\n",
       "      <th>4</th>\n",
       "      <td>5</td>\n",
       "      <td>800108</td>\n",
       "      <td>tuesday</td>\n",
       "      <td>0.5824</td>\n",
       "      <td>-0.004967</td>\n",
       "      <td>2.2560</td>\n",
       "      <td>0.8553</td>\n",
       "      <td>0.004257</td>\n",
       "      <td>0.6329</td>\n",
       "    </tr>\n",
       "  </tbody>\n",
       "</table>\n",
       "</div>"
      ],
      "text/plain": [
       "   Unnamed: 0    date        day      dm       ddm      bp      cd        dy  \\\n",
       "0           1  800102  wednesday  0.5861       NaN  2.2490  0.8547  0.004206   \n",
       "1           2  800103   thursday  0.5837 -0.004103  2.2365  0.8552  0.004187   \n",
       "2           3  800104     friday  0.5842  0.000856  2.2410  0.8566  0.004269   \n",
       "3           4  800107     monday  0.5853  0.001881  2.2645  0.8538  0.004315   \n",
       "4           5  800108    tuesday  0.5824 -0.004967  2.2560  0.8553  0.004257   \n",
       "\n",
       "       sf  \n",
       "0  0.6365  \n",
       "1  0.6357  \n",
       "2  0.6355  \n",
       "3  0.6373  \n",
       "4  0.6329  "
      ]
     },
     "execution_count": 9,
     "metadata": {},
     "output_type": "execute_result"
    }
   ],
   "source": [
    "import urllib.request\n",
    "urllib.request.urlretrieve(\"https://vincentarelbundock.github.io/Rdatasets/csv/Ecdat/Garch.csv\", \"Exchange_rates.csv\")\n",
    "rates=pd.read_csv(\"Exchange_rates.csv\")\n",
    "rates.head()"
   ]
  },
  {
   "cell_type": "code",
   "execution_count": 10,
   "metadata": {
    "collapsed": false,
    "jupyter": {
     "outputs_hidden": false
    }
   },
   "outputs": [
    {
     "data": {
      "text/html": [
       "<div>\n",
       "<style scoped>\n",
       "    .dataframe tbody tr th:only-of-type {\n",
       "        vertical-align: middle;\n",
       "    }\n",
       "\n",
       "    .dataframe tbody tr th {\n",
       "        vertical-align: top;\n",
       "    }\n",
       "\n",
       "    .dataframe thead th {\n",
       "        text-align: right;\n",
       "    }\n",
       "</style>\n",
       "<table border=\"1\" class=\"dataframe\">\n",
       "  <thead>\n",
       "    <tr style=\"text-align: right;\">\n",
       "      <th></th>\n",
       "      <th>date</th>\n",
       "      <th>dm</th>\n",
       "      <th>bp</th>\n",
       "    </tr>\n",
       "  </thead>\n",
       "  <tbody>\n",
       "    <tr>\n",
       "      <th>0</th>\n",
       "      <td>1980-01-02</td>\n",
       "      <td>0.5861</td>\n",
       "      <td>2.2490</td>\n",
       "    </tr>\n",
       "    <tr>\n",
       "      <th>1</th>\n",
       "      <td>1980-01-03</td>\n",
       "      <td>0.5837</td>\n",
       "      <td>2.2365</td>\n",
       "    </tr>\n",
       "    <tr>\n",
       "      <th>2</th>\n",
       "      <td>1980-01-04</td>\n",
       "      <td>0.5842</td>\n",
       "      <td>2.2410</td>\n",
       "    </tr>\n",
       "    <tr>\n",
       "      <th>3</th>\n",
       "      <td>1980-01-07</td>\n",
       "      <td>0.5853</td>\n",
       "      <td>2.2645</td>\n",
       "    </tr>\n",
       "    <tr>\n",
       "      <th>4</th>\n",
       "      <td>1980-01-08</td>\n",
       "      <td>0.5824</td>\n",
       "      <td>2.2560</td>\n",
       "    </tr>\n",
       "  </tbody>\n",
       "</table>\n",
       "</div>"
      ],
      "text/plain": [
       "        date      dm      bp\n",
       "0 1980-01-02  0.5861  2.2490\n",
       "1 1980-01-03  0.5837  2.2365\n",
       "2 1980-01-04  0.5842  2.2410\n",
       "3 1980-01-07  0.5853  2.2645\n",
       "4 1980-01-08  0.5824  2.2560"
      ]
     },
     "execution_count": 10,
     "metadata": {},
     "output_type": "execute_result"
    }
   ],
   "source": [
    "rates=rates[[\"date\",\"dm\",\"bp\"]] # keep only these three columns\n",
    "rates.date=pd.to_datetime(rates.date, format=\"%y%m%d\")\n",
    "rates.head()"
   ]
  },
  {
   "cell_type": "markdown",
   "metadata": {},
   "source": [
    "The 'date' column has now a ```datetime64``` format."
   ]
  },
  {
   "cell_type": "code",
   "execution_count": 11,
   "metadata": {
    "collapsed": false,
    "jupyter": {
     "outputs_hidden": false
    }
   },
   "outputs": [
    {
     "data": {
      "text/plain": [
       "date    datetime64[ns]\n",
       "dm             float64\n",
       "bp             float64\n",
       "dtype: object"
      ]
     },
     "execution_count": 11,
     "metadata": {},
     "output_type": "execute_result"
    }
   ],
   "source": [
    "rates.dtypes"
   ]
  },
  {
   "cell_type": "markdown",
   "metadata": {},
   "source": [
    "To take advantage of some Pandas possibilities we need to set the 'date' column as index."
   ]
  },
  {
   "cell_type": "code",
   "execution_count": 12,
   "metadata": {
    "collapsed": false,
    "jupyter": {
     "outputs_hidden": false
    }
   },
   "outputs": [],
   "source": [
    "rates=rates.set_index(\"date\")"
   ]
  },
  {
   "cell_type": "code",
   "execution_count": 13,
   "metadata": {
    "collapsed": false,
    "jupyter": {
     "outputs_hidden": false
    }
   },
   "outputs": [
    {
     "data": {
      "text/plain": [
       "DatetimeIndex(['1980-01-02', '1980-01-03', '1980-01-04', '1980-01-07',\n",
       "               '1980-01-08', '1980-01-09', '1980-01-10', '1980-01-11',\n",
       "               '1980-01-14', '1980-01-15',\n",
       "               ...\n",
       "               '1987-05-08', '1987-05-11', '1987-05-12', '1987-05-13',\n",
       "               '1987-05-14', '1987-05-15', '1987-05-18', '1987-05-19',\n",
       "               '1987-05-20', '1987-05-21'],\n",
       "              dtype='datetime64[ns]', name='date', length=1867, freq=None)"
      ]
     },
     "execution_count": 13,
     "metadata": {},
     "output_type": "execute_result"
    }
   ],
   "source": [
    "rates.index"
   ]
  },
  {
   "cell_type": "markdown",
   "metadata": {},
   "source": [
    "### Time slicing and subsetting\n",
    "\n",
    "Once we have a Dataframe with a 'DatetimeIndex', we can easily select periods of time. Slicing works also with datetime objects.\n",
    "\n",
    "We can select one year:"
   ]
  },
  {
   "cell_type": "code",
   "execution_count": 14,
   "metadata": {
    "collapsed": false,
    "jupyter": {
     "outputs_hidden": false
    }
   },
   "outputs": [
    {
     "data": {
      "text/html": [
       "<div>\n",
       "<style scoped>\n",
       "    .dataframe tbody tr th:only-of-type {\n",
       "        vertical-align: middle;\n",
       "    }\n",
       "\n",
       "    .dataframe tbody tr th {\n",
       "        vertical-align: top;\n",
       "    }\n",
       "\n",
       "    .dataframe thead th {\n",
       "        text-align: right;\n",
       "    }\n",
       "</style>\n",
       "<table border=\"1\" class=\"dataframe\">\n",
       "  <thead>\n",
       "    <tr style=\"text-align: right;\">\n",
       "      <th></th>\n",
       "      <th>dm</th>\n",
       "      <th>bp</th>\n",
       "    </tr>\n",
       "    <tr>\n",
       "      <th>date</th>\n",
       "      <th></th>\n",
       "      <th></th>\n",
       "    </tr>\n",
       "  </thead>\n",
       "  <tbody>\n",
       "    <tr>\n",
       "      <th>1980-01-02</th>\n",
       "      <td>0.5861</td>\n",
       "      <td>2.2490</td>\n",
       "    </tr>\n",
       "    <tr>\n",
       "      <th>1980-01-03</th>\n",
       "      <td>0.5837</td>\n",
       "      <td>2.2365</td>\n",
       "    </tr>\n",
       "    <tr>\n",
       "      <th>1980-01-04</th>\n",
       "      <td>0.5842</td>\n",
       "      <td>2.2410</td>\n",
       "    </tr>\n",
       "    <tr>\n",
       "      <th>1980-01-07</th>\n",
       "      <td>0.5853</td>\n",
       "      <td>2.2645</td>\n",
       "    </tr>\n",
       "    <tr>\n",
       "      <th>1980-01-08</th>\n",
       "      <td>0.5824</td>\n",
       "      <td>2.2560</td>\n",
       "    </tr>\n",
       "  </tbody>\n",
       "</table>\n",
       "</div>"
      ],
      "text/plain": [
       "                dm      bp\n",
       "date                      \n",
       "1980-01-02  0.5861  2.2490\n",
       "1980-01-03  0.5837  2.2365\n",
       "1980-01-04  0.5842  2.2410\n",
       "1980-01-07  0.5853  2.2645\n",
       "1980-01-08  0.5824  2.2560"
      ]
     },
     "execution_count": 14,
     "metadata": {},
     "output_type": "execute_result"
    }
   ],
   "source": [
    "rates.loc[\"1980\"].head()"
   ]
  },
  {
   "cell_type": "code",
   "execution_count": 15,
   "metadata": {
    "collapsed": false,
    "jupyter": {
     "outputs_hidden": false
    },
    "scrolled": true
   },
   "outputs": [
    {
     "data": {
      "text/html": [
       "<div>\n",
       "<style scoped>\n",
       "    .dataframe tbody tr th:only-of-type {\n",
       "        vertical-align: middle;\n",
       "    }\n",
       "\n",
       "    .dataframe tbody tr th {\n",
       "        vertical-align: top;\n",
       "    }\n",
       "\n",
       "    .dataframe thead th {\n",
       "        text-align: right;\n",
       "    }\n",
       "</style>\n",
       "<table border=\"1\" class=\"dataframe\">\n",
       "  <thead>\n",
       "    <tr style=\"text-align: right;\">\n",
       "      <th></th>\n",
       "      <th>dm</th>\n",
       "      <th>bp</th>\n",
       "    </tr>\n",
       "    <tr>\n",
       "      <th>date</th>\n",
       "      <th></th>\n",
       "      <th></th>\n",
       "    </tr>\n",
       "  </thead>\n",
       "  <tbody>\n",
       "    <tr>\n",
       "      <th>1980-12-24</th>\n",
       "      <td>0.5144</td>\n",
       "      <td>2.3700</td>\n",
       "    </tr>\n",
       "    <tr>\n",
       "      <th>1980-12-26</th>\n",
       "      <td>0.5128</td>\n",
       "      <td>2.3790</td>\n",
       "    </tr>\n",
       "    <tr>\n",
       "      <th>1980-12-29</th>\n",
       "      <td>0.5121</td>\n",
       "      <td>2.3730</td>\n",
       "    </tr>\n",
       "    <tr>\n",
       "      <th>1980-12-30</th>\n",
       "      <td>0.5095</td>\n",
       "      <td>2.3870</td>\n",
       "    </tr>\n",
       "    <tr>\n",
       "      <th>1980-12-31</th>\n",
       "      <td>0.5062</td>\n",
       "      <td>2.3875</td>\n",
       "    </tr>\n",
       "  </tbody>\n",
       "</table>\n",
       "</div>"
      ],
      "text/plain": [
       "                dm      bp\n",
       "date                      \n",
       "1980-12-24  0.5144  2.3700\n",
       "1980-12-26  0.5128  2.3790\n",
       "1980-12-29  0.5121  2.3730\n",
       "1980-12-30  0.5095  2.3870\n",
       "1980-12-31  0.5062  2.3875"
      ]
     },
     "execution_count": 15,
     "metadata": {},
     "output_type": "execute_result"
    }
   ],
   "source": [
    "rates.loc[\"1980\"].tail()"
   ]
  },
  {
   "cell_type": "markdown",
   "metadata": {},
   "source": [
    "We can select 2 months:"
   ]
  },
  {
   "cell_type": "code",
   "execution_count": 16,
   "metadata": {
    "collapsed": false,
    "jupyter": {
     "outputs_hidden": false
    }
   },
   "outputs": [
    {
     "data": {
      "text/html": [
       "<div>\n",
       "<style scoped>\n",
       "    .dataframe tbody tr th:only-of-type {\n",
       "        vertical-align: middle;\n",
       "    }\n",
       "\n",
       "    .dataframe tbody tr th {\n",
       "        vertical-align: top;\n",
       "    }\n",
       "\n",
       "    .dataframe thead th {\n",
       "        text-align: right;\n",
       "    }\n",
       "</style>\n",
       "<table border=\"1\" class=\"dataframe\">\n",
       "  <thead>\n",
       "    <tr style=\"text-align: right;\">\n",
       "      <th></th>\n",
       "      <th>dm</th>\n",
       "      <th>bp</th>\n",
       "    </tr>\n",
       "    <tr>\n",
       "      <th>date</th>\n",
       "      <th></th>\n",
       "      <th></th>\n",
       "    </tr>\n",
       "  </thead>\n",
       "  <tbody>\n",
       "    <tr>\n",
       "      <th>1980-01-02</th>\n",
       "      <td>0.5861</td>\n",
       "      <td>2.2490</td>\n",
       "    </tr>\n",
       "    <tr>\n",
       "      <th>1980-01-03</th>\n",
       "      <td>0.5837</td>\n",
       "      <td>2.2365</td>\n",
       "    </tr>\n",
       "    <tr>\n",
       "      <th>1980-01-04</th>\n",
       "      <td>0.5842</td>\n",
       "      <td>2.2410</td>\n",
       "    </tr>\n",
       "    <tr>\n",
       "      <th>1980-01-07</th>\n",
       "      <td>0.5853</td>\n",
       "      <td>2.2645</td>\n",
       "    </tr>\n",
       "    <tr>\n",
       "      <th>1980-01-08</th>\n",
       "      <td>0.5824</td>\n",
       "      <td>2.2560</td>\n",
       "    </tr>\n",
       "  </tbody>\n",
       "</table>\n",
       "</div>"
      ],
      "text/plain": [
       "                dm      bp\n",
       "date                      \n",
       "1980-01-02  0.5861  2.2490\n",
       "1980-01-03  0.5837  2.2365\n",
       "1980-01-04  0.5842  2.2410\n",
       "1980-01-07  0.5853  2.2645\n",
       "1980-01-08  0.5824  2.2560"
      ]
     },
     "execution_count": 16,
     "metadata": {},
     "output_type": "execute_result"
    }
   ],
   "source": [
    "rates[\"1980-01\":\"1980-02\"].head()"
   ]
  },
  {
   "cell_type": "code",
   "execution_count": 17,
   "metadata": {
    "collapsed": false,
    "jupyter": {
     "outputs_hidden": false
    }
   },
   "outputs": [
    {
     "data": {
      "text/html": [
       "<div>\n",
       "<style scoped>\n",
       "    .dataframe tbody tr th:only-of-type {\n",
       "        vertical-align: middle;\n",
       "    }\n",
       "\n",
       "    .dataframe tbody tr th {\n",
       "        vertical-align: top;\n",
       "    }\n",
       "\n",
       "    .dataframe thead th {\n",
       "        text-align: right;\n",
       "    }\n",
       "</style>\n",
       "<table border=\"1\" class=\"dataframe\">\n",
       "  <thead>\n",
       "    <tr style=\"text-align: right;\">\n",
       "      <th></th>\n",
       "      <th>dm</th>\n",
       "      <th>bp</th>\n",
       "    </tr>\n",
       "    <tr>\n",
       "      <th>date</th>\n",
       "      <th></th>\n",
       "      <th></th>\n",
       "    </tr>\n",
       "  </thead>\n",
       "  <tbody>\n",
       "    <tr>\n",
       "      <th>1980-02-25</th>\n",
       "      <td>0.5670</td>\n",
       "      <td>2.270</td>\n",
       "    </tr>\n",
       "    <tr>\n",
       "      <th>1980-02-26</th>\n",
       "      <td>0.5668</td>\n",
       "      <td>2.279</td>\n",
       "    </tr>\n",
       "    <tr>\n",
       "      <th>1980-02-27</th>\n",
       "      <td>0.5683</td>\n",
       "      <td>2.284</td>\n",
       "    </tr>\n",
       "    <tr>\n",
       "      <th>1980-02-28</th>\n",
       "      <td>0.5670</td>\n",
       "      <td>2.283</td>\n",
       "    </tr>\n",
       "    <tr>\n",
       "      <th>1980-02-29</th>\n",
       "      <td>0.5614</td>\n",
       "      <td>2.258</td>\n",
       "    </tr>\n",
       "  </tbody>\n",
       "</table>\n",
       "</div>"
      ],
      "text/plain": [
       "                dm     bp\n",
       "date                     \n",
       "1980-02-25  0.5670  2.270\n",
       "1980-02-26  0.5668  2.279\n",
       "1980-02-27  0.5683  2.284\n",
       "1980-02-28  0.5670  2.283\n",
       "1980-02-29  0.5614  2.258"
      ]
     },
     "execution_count": 17,
     "metadata": {},
     "output_type": "execute_result"
    }
   ],
   "source": [
    "rates[\"1980-01\":\"1980-02\"].tail()"
   ]
  },
  {
   "cell_type": "markdown",
   "metadata": {},
   "source": [
    "### Resampling\n",
    "\n",
    "```resample``` is a very useful method in Pandas. It is a kind of time-based ```groupby```.\n",
    "\n",
    "The mean values by week can be calculated like this:"
   ]
  },
  {
   "cell_type": "code",
   "execution_count": 18,
   "metadata": {
    "collapsed": false,
    "jupyter": {
     "outputs_hidden": false
    }
   },
   "outputs": [
    {
     "data": {
      "text/html": [
       "<div>\n",
       "<style scoped>\n",
       "    .dataframe tbody tr th:only-of-type {\n",
       "        vertical-align: middle;\n",
       "    }\n",
       "\n",
       "    .dataframe tbody tr th {\n",
       "        vertical-align: top;\n",
       "    }\n",
       "\n",
       "    .dataframe thead th {\n",
       "        text-align: right;\n",
       "    }\n",
       "</style>\n",
       "<table border=\"1\" class=\"dataframe\">\n",
       "  <thead>\n",
       "    <tr style=\"text-align: right;\">\n",
       "      <th></th>\n",
       "      <th>dm</th>\n",
       "      <th>bp</th>\n",
       "    </tr>\n",
       "    <tr>\n",
       "      <th>date</th>\n",
       "      <th></th>\n",
       "      <th></th>\n",
       "    </tr>\n",
       "  </thead>\n",
       "  <tbody>\n",
       "    <tr>\n",
       "      <th>1980-01-06</th>\n",
       "      <td>0.584667</td>\n",
       "      <td>2.242167</td>\n",
       "    </tr>\n",
       "    <tr>\n",
       "      <th>1980-01-13</th>\n",
       "      <td>0.582740</td>\n",
       "      <td>2.260000</td>\n",
       "    </tr>\n",
       "    <tr>\n",
       "      <th>1980-01-20</th>\n",
       "      <td>0.580140</td>\n",
       "      <td>2.278900</td>\n",
       "    </tr>\n",
       "    <tr>\n",
       "      <th>1980-01-27</th>\n",
       "      <td>0.576860</td>\n",
       "      <td>2.273700</td>\n",
       "    </tr>\n",
       "    <tr>\n",
       "      <th>1980-02-03</th>\n",
       "      <td>0.575120</td>\n",
       "      <td>2.265900</td>\n",
       "    </tr>\n",
       "  </tbody>\n",
       "</table>\n",
       "</div>"
      ],
      "text/plain": [
       "                  dm        bp\n",
       "date                          \n",
       "1980-01-06  0.584667  2.242167\n",
       "1980-01-13  0.582740  2.260000\n",
       "1980-01-20  0.580140  2.278900\n",
       "1980-01-27  0.576860  2.273700\n",
       "1980-02-03  0.575120  2.265900"
      ]
     },
     "execution_count": 18,
     "metadata": {},
     "output_type": "execute_result"
    }
   ],
   "source": [
    "rates.resample('W').mean().head()"
   ]
  },
  {
   "cell_type": "markdown",
   "metadata": {},
   "source": [
    "Sum of 2 day periods:"
   ]
  },
  {
   "cell_type": "code",
   "execution_count": 19,
   "metadata": {
    "collapsed": false,
    "jupyter": {
     "outputs_hidden": false
    }
   },
   "outputs": [
    {
     "data": {
      "text/html": [
       "<div>\n",
       "<style scoped>\n",
       "    .dataframe tbody tr th:only-of-type {\n",
       "        vertical-align: middle;\n",
       "    }\n",
       "\n",
       "    .dataframe tbody tr th {\n",
       "        vertical-align: top;\n",
       "    }\n",
       "\n",
       "    .dataframe thead th {\n",
       "        text-align: right;\n",
       "    }\n",
       "</style>\n",
       "<table border=\"1\" class=\"dataframe\">\n",
       "  <thead>\n",
       "    <tr style=\"text-align: right;\">\n",
       "      <th></th>\n",
       "      <th>dm</th>\n",
       "      <th>bp</th>\n",
       "    </tr>\n",
       "    <tr>\n",
       "      <th>date</th>\n",
       "      <th></th>\n",
       "      <th></th>\n",
       "    </tr>\n",
       "  </thead>\n",
       "  <tbody>\n",
       "    <tr>\n",
       "      <th>1980-01-02</th>\n",
       "      <td>1.1698</td>\n",
       "      <td>4.4855</td>\n",
       "    </tr>\n",
       "    <tr>\n",
       "      <th>1980-01-04</th>\n",
       "      <td>0.5842</td>\n",
       "      <td>2.2410</td>\n",
       "    </tr>\n",
       "    <tr>\n",
       "      <th>1980-01-06</th>\n",
       "      <td>0.5853</td>\n",
       "      <td>2.2645</td>\n",
       "    </tr>\n",
       "    <tr>\n",
       "      <th>1980-01-08</th>\n",
       "      <td>1.1658</td>\n",
       "      <td>4.5210</td>\n",
       "    </tr>\n",
       "    <tr>\n",
       "      <th>1980-01-10</th>\n",
       "      <td>1.1626</td>\n",
       "      <td>4.5145</td>\n",
       "    </tr>\n",
       "  </tbody>\n",
       "</table>\n",
       "</div>"
      ],
      "text/plain": [
       "                dm      bp\n",
       "date                      \n",
       "1980-01-02  1.1698  4.4855\n",
       "1980-01-04  0.5842  2.2410\n",
       "1980-01-06  0.5853  2.2645\n",
       "1980-01-08  1.1658  4.5210\n",
       "1980-01-10  1.1626  4.5145"
      ]
     },
     "execution_count": 19,
     "metadata": {},
     "output_type": "execute_result"
    }
   ],
   "source": [
    "rates.resample('2D').sum().head()"
   ]
  },
  {
   "cell_type": "markdown",
   "metadata": {},
   "source": [
    "As in the aggregation example, many statistics can be defined:"
   ]
  },
  {
   "cell_type": "code",
   "execution_count": 20,
   "metadata": {
    "collapsed": false,
    "jupyter": {
     "outputs_hidden": false
    }
   },
   "outputs": [
    {
     "data": {
      "text/html": [
       "<div>\n",
       "<style scoped>\n",
       "    .dataframe tbody tr th:only-of-type {\n",
       "        vertical-align: middle;\n",
       "    }\n",
       "\n",
       "    .dataframe tbody tr th {\n",
       "        vertical-align: top;\n",
       "    }\n",
       "\n",
       "    .dataframe thead tr th {\n",
       "        text-align: left;\n",
       "    }\n",
       "\n",
       "    .dataframe thead tr:last-of-type th {\n",
       "        text-align: right;\n",
       "    }\n",
       "</style>\n",
       "<table border=\"1\" class=\"dataframe\">\n",
       "  <thead>\n",
       "    <tr>\n",
       "      <th></th>\n",
       "      <th colspan=\"3\" halign=\"left\">dm</th>\n",
       "      <th colspan=\"3\" halign=\"left\">bp</th>\n",
       "    </tr>\n",
       "    <tr>\n",
       "      <th></th>\n",
       "      <th>mean</th>\n",
       "      <th>amin</th>\n",
       "      <th>amax</th>\n",
       "      <th>mean</th>\n",
       "      <th>amin</th>\n",
       "      <th>amax</th>\n",
       "    </tr>\n",
       "    <tr>\n",
       "      <th>date</th>\n",
       "      <th></th>\n",
       "      <th></th>\n",
       "      <th></th>\n",
       "      <th></th>\n",
       "      <th></th>\n",
       "      <th></th>\n",
       "    </tr>\n",
       "  </thead>\n",
       "  <tbody>\n",
       "    <tr>\n",
       "      <th>1980-01-06</th>\n",
       "      <td>0.584667</td>\n",
       "      <td>0.5837</td>\n",
       "      <td>0.5861</td>\n",
       "      <td>2.242167</td>\n",
       "      <td>2.2365</td>\n",
       "      <td>2.2490</td>\n",
       "    </tr>\n",
       "    <tr>\n",
       "      <th>1980-01-20</th>\n",
       "      <td>0.581440</td>\n",
       "      <td>0.5787</td>\n",
       "      <td>0.5853</td>\n",
       "      <td>2.269450</td>\n",
       "      <td>2.2505</td>\n",
       "      <td>2.2835</td>\n",
       "    </tr>\n",
       "    <tr>\n",
       "      <th>1980-02-03</th>\n",
       "      <td>0.575990</td>\n",
       "      <td>0.5733</td>\n",
       "      <td>0.5778</td>\n",
       "      <td>2.269800</td>\n",
       "      <td>2.2530</td>\n",
       "      <td>2.2780</td>\n",
       "    </tr>\n",
       "    <tr>\n",
       "      <th>1980-02-17</th>\n",
       "      <td>0.574980</td>\n",
       "      <td>0.5735</td>\n",
       "      <td>0.5774</td>\n",
       "      <td>2.302000</td>\n",
       "      <td>2.2895</td>\n",
       "      <td>2.3150</td>\n",
       "    </tr>\n",
       "    <tr>\n",
       "      <th>1980-03-02</th>\n",
       "      <td>0.568333</td>\n",
       "      <td>0.5614</td>\n",
       "      <td>0.5729</td>\n",
       "      <td>2.276222</td>\n",
       "      <td>2.2580</td>\n",
       "      <td>2.2860</td>\n",
       "    </tr>\n",
       "  </tbody>\n",
       "</table>\n",
       "</div>"
      ],
      "text/plain": [
       "                  dm                        bp                \n",
       "                mean    amin    amax      mean    amin    amax\n",
       "date                                                          \n",
       "1980-01-06  0.584667  0.5837  0.5861  2.242167  2.2365  2.2490\n",
       "1980-01-20  0.581440  0.5787  0.5853  2.269450  2.2505  2.2835\n",
       "1980-02-03  0.575990  0.5733  0.5778  2.269800  2.2530  2.2780\n",
       "1980-02-17  0.574980  0.5735  0.5774  2.302000  2.2895  2.3150\n",
       "1980-03-02  0.568333  0.5614  0.5729  2.276222  2.2580  2.2860"
      ]
     },
     "execution_count": 20,
     "metadata": {},
     "output_type": "execute_result"
    }
   ],
   "source": [
    "rates.resample('2W').agg([np.mean, np.min, np.max]).head()"
   ]
  },
  {
   "cell_type": "code",
   "execution_count": 21,
   "metadata": {
    "collapsed": false,
    "jupyter": {
     "outputs_hidden": false
    }
   },
   "outputs": [
    {
     "data": {
      "text/html": [
       "<div>\n",
       "<style scoped>\n",
       "    .dataframe tbody tr th:only-of-type {\n",
       "        vertical-align: middle;\n",
       "    }\n",
       "\n",
       "    .dataframe tbody tr th {\n",
       "        vertical-align: top;\n",
       "    }\n",
       "\n",
       "    .dataframe thead th {\n",
       "        text-align: right;\n",
       "    }\n",
       "</style>\n",
       "<table border=\"1\" class=\"dataframe\">\n",
       "  <thead>\n",
       "    <tr style=\"text-align: right;\">\n",
       "      <th></th>\n",
       "      <th>dm</th>\n",
       "      <th>bp</th>\n",
       "    </tr>\n",
       "    <tr>\n",
       "      <th>date</th>\n",
       "      <th></th>\n",
       "      <th></th>\n",
       "    </tr>\n",
       "  </thead>\n",
       "  <tbody>\n",
       "    <tr>\n",
       "      <th>1980-01-31</th>\n",
       "      <td>0.5740</td>\n",
       "      <td>2.2835</td>\n",
       "    </tr>\n",
       "    <tr>\n",
       "      <th>1980-07-31</th>\n",
       "      <td>0.5060</td>\n",
       "      <td>2.3960</td>\n",
       "    </tr>\n",
       "    <tr>\n",
       "      <th>1981-01-31</th>\n",
       "      <td>0.4681</td>\n",
       "      <td>2.4545</td>\n",
       "    </tr>\n",
       "    <tr>\n",
       "      <th>1981-07-31</th>\n",
       "      <td>0.4035</td>\n",
       "      <td>2.3530</td>\n",
       "    </tr>\n",
       "    <tr>\n",
       "      <th>1982-01-31</th>\n",
       "      <td>0.3883</td>\n",
       "      <td>1.9660</td>\n",
       "    </tr>\n",
       "  </tbody>\n",
       "</table>\n",
       "</div>"
      ],
      "text/plain": [
       "                dm      bp\n",
       "date                      \n",
       "1980-01-31  0.5740  2.2835\n",
       "1980-07-31  0.5060  2.3960\n",
       "1981-01-31  0.4681  2.4545\n",
       "1981-07-31  0.4035  2.3530\n",
       "1982-01-31  0.3883  1.9660"
      ]
     },
     "execution_count": 21,
     "metadata": {},
     "output_type": "execute_result"
    }
   ],
   "source": [
    "rates.resample('6M').agg({'dm': np.min, 'bp': np.max}).head()"
   ]
  }
 ],
 "metadata": {
  "jupytext": {
   "formats": "ipynb,auto:percent"
  },
  "kernelspec": {
   "display_name": "PyCharm (Warp-Clustering)",
   "language": "python",
   "name": "pycharm-b613d24b"
  },
  "language_info": {
   "codemirror_mode": {
    "name": "ipython",
    "version": 3
   },
   "file_extension": ".py",
   "mimetype": "text/x-python",
   "name": "python",
   "nbconvert_exporter": "python",
   "pygments_lexer": "ipython3",
   "version": "3.8.8"
  }
 },
 "nbformat": 4,
 "nbformat_minor": 4
}
