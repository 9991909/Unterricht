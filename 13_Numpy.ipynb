{
 "cells": [
  {
   "cell_type": "markdown",
   "metadata": {},
   "source": [
    "<div align=\"center\"> <h1>numpy</h1>\n",
    "    <h2><a href=\"...\">Richard Leibrandt</a></h2>\n",
    "</div>"
   ]
  },
  {
   "cell_type": "code",
   "execution_count": 2,
   "metadata": {},
   "outputs": [],
   "source": [
    "import numpy as np"
   ]
  },
  {
   "cell_type": "markdown",
   "metadata": {},
   "source": [
    "# Creating Arrays - Part 1"
   ]
  },
  {
   "cell_type": "code",
   "execution_count": 3,
   "metadata": {},
   "outputs": [],
   "source": [
    "a = np.array([1, 2, 3])\n",
    "a[0]\n",
    "\n",
    "np.array(  [   [1, 2],    [3, 4],    [5, 6]    ]   )\n",
    "\n",
    "# ndim specifies the minimum number of dimensions that the resulting array should have.\n",
    "# Ones will be pre-pended to the shape as needed to meet this requirement.\n",
    "a = np.array([1, 2, 3, 4, 5, 6], ndmin = 1)\n",
    "a = np.array([[1, 2], [3, 4], [5, 6]], ndmin = 4)\n",
    "\n",
    "a = np.array([[1, 2, 3], [1, 2, 3]], dtype = float)"
   ]
  },
  {
   "cell_type": "markdown",
   "metadata": {},
   "source": [
    "# Array Attributes"
   ]
  },
  {
   "cell_type": "code",
   "execution_count": 4,
   "metadata": {},
   "outputs": [
    {
     "data": {
      "text/plain": [
       "(2, 4, 3)"
      ]
     },
     "execution_count": 4,
     "metadata": {},
     "output_type": "execute_result"
    }
   ],
   "source": [
    "a = np.array([[1,2,3],[4,5,6]])\n",
    "a.shape\n",
    "a.reshape(3, 2)\n",
    "\n",
    "a = np.arange(24)\n",
    "a.reshape(2, 4, 3).ndim\n",
    "a.reshape(2, 4, 3).shape"
   ]
  },
  {
   "cell_type": "markdown",
   "metadata": {},
   "source": [
    "# Creating Arrays - Part 2"
   ]
  },
  {
   "cell_type": "code",
   "execution_count": 6,
   "metadata": {},
   "outputs": [
    {
     "data": {
      "text/plain": [
       "array([   2.,    4.,    8.,   16.,   32.,   64.,  128.,  256.,  512.,\n",
       "       1024.])"
      ]
     },
     "execution_count": 6,
     "metadata": {},
     "output_type": "execute_result"
    }
   ],
   "source": [
    "np.empty(shape=(2,2), # Shape of an empty array in int or tuple of int\n",
    "         dtype = float, # Desired output data type. Optional\n",
    "         order = 'C' # 'C' for C-style row-major array, 'F' for FORTRAN style column-major array\n",
    "        )\n",
    "\n",
    "np.empty([3,2], dtype = int)\n",
    "np.zeros(5)\n",
    "np.zeros((5,), dtype = np.int)\n",
    "np.zeros((2,2))\n",
    "np.ones(5)\n",
    "np.ones([2, 2], dtype = int)\n",
    "\n",
    "x = [1,2,3]\n",
    "np.asarray(x)\n",
    "\n",
    "x = [1,2,3]\n",
    "np.asarray(x, dtype = float)\n",
    "\n",
    "x = [(1,2,3), (4,5)]\n",
    "np.asarray(x)\n",
    "\n",
    "np.arange(5)\n",
    "np.arange(5, dtype = float)  # dtype set\n",
    "np.arange(10,20,2)  # start and stop parameters set\n",
    "\n",
    "np.linspace(10,20,5)\n",
    "np.linspace(10,20, 5, endpoint = False)\n",
    "x, step = np.linspace(1,2,5, retstep = True)\n",
    "\n",
    "np.logspace(1.0, 2.0, num = 10)  # default base is 10\n",
    "np.logspace(1, 10, num = 10, base = 2)  # set base of log space to 2"
   ]
  },
  {
   "cell_type": "markdown",
   "metadata": {},
   "source": [
    "# Basic Indexing & Slicing"
   ]
  },
  {
   "cell_type": "code",
   "execution_count": 7,
   "metadata": {},
   "outputs": [
    {
     "data": {
      "text/plain": [
       "array([[2, 3],\n",
       "       [4, 5],\n",
       "       [5, 6]])"
      ]
     },
     "execution_count": 7,
     "metadata": {},
     "output_type": "execute_result"
    }
   ],
   "source": [
    "a = np.arange(10)\n",
    "s = slice(2, 7, 2)\n",
    "a[s]\n",
    "a[2:7:2]\n",
    "a[5]  # slice single item\n",
    "a[2:]  # slice items starting from index\n",
    "a[2:5]  # slice items between indexes\n",
    "\n",
    "a = np.array([[1, 2, 3], [3, 4, 5],[4,5,6]])\n",
    "a[1:]  # slice items starting from index\n",
    "a[..., 1]  # this returns array of items in the second column\n",
    "a[1,...]  # Now we will slice all items from the second row\n",
    "a[..., 1:]  # Now we will slice all items from column 1 onwards"
   ]
  },
  {
   "cell_type": "markdown",
   "metadata": {},
   "source": [
    "# Boolean Array Indexing"
   ]
  },
  {
   "cell_type": "code",
   "execution_count": 1,
   "metadata": {},
   "outputs": [
    {
     "ename": "NameError",
     "evalue": "name 'np' is not defined",
     "output_type": "error",
     "traceback": [
      "\u001b[0;31m---------------------------------------------------------------------------\u001b[0m",
      "\u001b[0;31mNameError\u001b[0m                                 Traceback (most recent call last)",
      "\u001b[0;32m<ipython-input-1-b2157a66e6f5>\u001b[0m in \u001b[0;36m<module>\u001b[0;34m\u001b[0m\n\u001b[0;32m----> 1\u001b[0;31m \u001b[0mx\u001b[0m \u001b[0;34m=\u001b[0m \u001b[0mnp\u001b[0m\u001b[0;34m.\u001b[0m\u001b[0marray\u001b[0m\u001b[0;34m(\u001b[0m\u001b[0;34m[\u001b[0m\u001b[0;34m[\u001b[0m \u001b[0;36m0\u001b[0m\u001b[0;34m,\u001b[0m  \u001b[0;36m1\u001b[0m\u001b[0;34m,\u001b[0m  \u001b[0;36m2\u001b[0m\u001b[0;34m]\u001b[0m\u001b[0;34m,\u001b[0m\u001b[0;34m[\u001b[0m \u001b[0;36m3\u001b[0m\u001b[0;34m,\u001b[0m  \u001b[0;36m4\u001b[0m\u001b[0;34m,\u001b[0m  \u001b[0;36m5\u001b[0m\u001b[0;34m]\u001b[0m\u001b[0;34m,\u001b[0m\u001b[0;34m[\u001b[0m \u001b[0;36m6\u001b[0m\u001b[0;34m,\u001b[0m  \u001b[0;36m7\u001b[0m\u001b[0;34m,\u001b[0m  \u001b[0;36m8\u001b[0m\u001b[0;34m]\u001b[0m\u001b[0;34m,\u001b[0m\u001b[0;34m[\u001b[0m \u001b[0;36m9\u001b[0m\u001b[0;34m,\u001b[0m \u001b[0;36m10\u001b[0m\u001b[0;34m,\u001b[0m \u001b[0;36m11\u001b[0m\u001b[0;34m]\u001b[0m\u001b[0;34m]\u001b[0m\u001b[0;34m)\u001b[0m\u001b[0;34m\u001b[0m\u001b[0;34m\u001b[0m\u001b[0m\n\u001b[0m\u001b[1;32m      2\u001b[0m \u001b[0mprint\u001b[0m\u001b[0;34m(\u001b[0m\u001b[0mx\u001b[0m\u001b[0;34m)\u001b[0m\u001b[0;34m\u001b[0m\u001b[0;34m\u001b[0m\u001b[0m\n\u001b[1;32m      3\u001b[0m \u001b[0mcondition\u001b[0m \u001b[0;34m=\u001b[0m \u001b[0mx\u001b[0m \u001b[0;34m>\u001b[0m \u001b[0;36m5\u001b[0m\u001b[0;34m\u001b[0m\u001b[0;34m\u001b[0m\u001b[0m\n\u001b[1;32m      4\u001b[0m \u001b[0mprint\u001b[0m\u001b[0;34m(\u001b[0m\u001b[0mcondition\u001b[0m\u001b[0;34m)\u001b[0m\u001b[0;34m\u001b[0m\u001b[0;34m\u001b[0m\u001b[0m\n\u001b[1;32m      5\u001b[0m \u001b[0mx\u001b[0m\u001b[0;34m[\u001b[0m\u001b[0mcondition\u001b[0m\u001b[0;34m]\u001b[0m\u001b[0;34m\u001b[0m\u001b[0;34m\u001b[0m\u001b[0m\n",
      "\u001b[0;31mNameError\u001b[0m: name 'np' is not defined"
     ]
    }
   ],
   "source": [
    "x = np.array([[ 0,  1,  2],[ 3,  4,  5],[ 6,  7,  8],[ 9, 10, 11]])\n",
    "print(x)\n",
    "condition = x > 5\n",
    "print(condition)\n",
    "x[condition]"
   ]
  },
  {
   "cell_type": "code",
   "execution_count": 2,
   "metadata": {},
   "outputs": [
    {
     "ename": "NameError",
     "evalue": "name 'x' is not defined",
     "output_type": "error",
     "traceback": [
      "\u001b[0;31m---------------------------------------------------------------------------\u001b[0m",
      "\u001b[0;31mNameError\u001b[0m                                 Traceback (most recent call last)",
      "\u001b[0;32m<ipython-input-2-91c219025fdd>\u001b[0m in \u001b[0;36m<module>\u001b[0;34m\u001b[0m\n\u001b[0;32m----> 1\u001b[0;31m \u001b[0mcondition\u001b[0m \u001b[0;34m=\u001b[0m \u001b[0mx\u001b[0m \u001b[0;34m%\u001b[0m \u001b[0;36m2\u001b[0m \u001b[0;34m==\u001b[0m \u001b[0;36m0\u001b[0m\u001b[0;34m\u001b[0m\u001b[0;34m\u001b[0m\u001b[0m\n\u001b[0m\u001b[1;32m      2\u001b[0m \u001b[0mx\u001b[0m\u001b[0;34m[\u001b[0m\u001b[0mcondition\u001b[0m\u001b[0;34m]\u001b[0m\u001b[0;34m\u001b[0m\u001b[0;34m\u001b[0m\u001b[0m\n",
      "\u001b[0;31mNameError\u001b[0m: name 'x' is not defined"
     ]
    }
   ],
   "source": [
    "condition = x % 2 == 0\n",
    "x[condition]"
   ]
  },
  {
   "cell_type": "markdown",
   "metadata": {},
   "source": [
    "We are able to deal with missing values (np.nan) like this:"
   ]
  },
  {
   "cell_type": "code",
   "execution_count": null,
   "metadata": {},
   "outputs": [],
   "source": [
    "a = np.array([np.nan, 1,2,np.nan,3,4,5])\n",
    "is_not_missing = ~np.isnan(a)\n",
    "\n",
    "a[is_not_missing]\n",
    "\n",
    "a[~np.isnan(a)]"
   ]
  },
  {
   "cell_type": "markdown",
   "metadata": {},
   "source": [
    "# Broadcasting"
   ]
  },
  {
   "cell_type": "code",
   "execution_count": 9,
   "metadata": {},
   "outputs": [
    {
     "data": {
      "text/plain": [
       "array([[ 1.,  2.,  3.],\n",
       "       [11., 12., 13.],\n",
       "       [21., 22., 23.],\n",
       "       [31., 32., 33.]])"
      ]
     },
     "execution_count": 9,
     "metadata": {},
     "output_type": "execute_result"
    }
   ],
   "source": [
    "a = np.array([1,2,3,4])\n",
    "b = np.array([10,20,30,40])\n",
    "c = a * b\n",
    "\n",
    "a = np.array([[0.0,0.0,0.0],[10.0,10.0,10.0],[20.0,20.0,20.0],[30.0,30.0,30.0]])\n",
    "b = np.array([1.0,2.0,3.0])\n",
    "b * 2\n",
    "\n",
    "a + b\n",
    "a + b.reshape((1, -1))\n",
    "a + np.concatenate([b.reshape((1, -1)),\n",
    "                    b.reshape((1, -1)),\n",
    "                    b.reshape((1, -1)),\n",
    "                    b.reshape((1, -1))])"
   ]
  },
  {
   "cell_type": "markdown",
   "metadata": {},
   "source": [
    "# Iterating Over Array"
   ]
  },
  {
   "cell_type": "code",
   "execution_count": 10,
   "metadata": {},
   "outputs": [
    {
     "name": "stdout",
     "output_type": "stream",
     "text": [
      "[ 0  5 10 15]\n",
      "[20 25 30 35]\n",
      "[40 45 50 55]\n",
      "0\n",
      "5\n",
      "10\n",
      "15\n",
      "20\n",
      "25\n",
      "30\n",
      "35\n",
      "40\n",
      "45\n",
      "50\n",
      "55\n",
      "0\n",
      "5\n",
      "10\n",
      "15\n",
      "20\n",
      "25\n",
      "30\n",
      "35\n",
      "40\n",
      "45\n",
      "50\n",
      "55\n"
     ]
    }
   ],
   "source": [
    "a = np.arange(0,60,5).reshape(3,4)\n",
    "for x in a:\n",
    "    print(x,)\n",
    "\n",
    "for x in np.nditer(a):\n",
    "    print(x,)\n",
    "\n",
    "a = np.arange(0,60,5)\n",
    "a = a.reshape(3,4)\n",
    "b = a.copy(order = 'C').T\n",
    "for x in np.nditer(b):\n",
    "    print(x,)\n",
    "\n",
    "# leackage of abstraction"
   ]
  },
  {
   "cell_type": "markdown",
   "metadata": {},
   "source": [
    "## Iteration Order"
   ]
  },
  {
   "cell_type": "code",
   "execution_count": 11,
   "metadata": {},
   "outputs": [
    {
     "name": "stdout",
     "output_type": "stream",
     "text": [
      "0\n",
      "20\n",
      "40\n",
      "5\n",
      "25\n",
      "45\n",
      "10\n",
      "30\n",
      "50\n",
      "15\n",
      "35\n",
      "55\n"
     ]
    }
   ],
   "source": [
    "a = np.arange(0,60,5).reshape(3,4)\n",
    "b = a.T\n",
    "c = b.copy(order = 'C')\n",
    "for x in np.nditer(c):\n",
    "    print(x,)"
   ]
  },
  {
   "cell_type": "markdown",
   "metadata": {},
   "source": [
    "## Broadcasting Iteration"
   ]
  },
  {
   "cell_type": "code",
   "execution_count": 12,
   "metadata": {},
   "outputs": [
    {
     "name": "stdout",
     "output_type": "stream",
     "text": [
      "0 : 0\n",
      "5 : 20\n",
      "10 : 40\n",
      "15 : 5\n",
      "20 : 25\n",
      "25 : 45\n",
      "30 : 10\n",
      "35 : 30\n",
      "40 : 50\n",
      "45 : 15\n",
      "50 : 35\n",
      "55 : 55\n"
     ]
    }
   ],
   "source": [
    "a = np.arange(0,60,5).reshape(3,4)\n",
    "b = b.reshape((3, 4)).copy(order = 'C')\n",
    "for x, y in np.nditer([a, b]):\n",
    "   print(\"%d : %d\" % (x, y),)"
   ]
  },
  {
   "cell_type": "markdown",
   "metadata": {},
   "source": [
    "# Array Manipulation"
   ]
  },
  {
   "cell_type": "code",
   "execution_count": 13,
   "metadata": {},
   "outputs": [
    {
     "data": {
      "text/plain": [
       "array([[1, 2, 3, 5, 5, 5],\n",
       "       [4, 5, 6, 7, 8, 9]])"
      ]
     },
     "execution_count": 13,
     "metadata": {},
     "output_type": "execute_result"
    }
   ],
   "source": [
    "a = np.arange(8)\n",
    "a = a.reshape(4,2)\n",
    "a.flat\n",
    "a.flatten()\n",
    "\n",
    "### OPTIONAL\n",
    "a.flatten(order = 'F')\n",
    "a.ravel()  # returns a flattened one-dimensional array. A copy is made only if needed.\n",
    "a.ravel(order = 'F')\n",
    "### OPTIONAL\n",
    "\n",
    "np.transpose(a)\n",
    "a.T\n",
    "\n",
    "a = np.array([[1,2],[3,4]])\n",
    "b = np.array([[5,6],[7,8]])\n",
    "np.concatenate((a,b))\n",
    "np.concatenate((a,b), axis = 1)\n",
    "np.stack((a,b),0)\n",
    "np.stack((a,b),1)\n",
    "np.hstack((a,b))\n",
    "np.vstack((a,b))\n",
    "\n",
    "a = np.arange(12)\n",
    "np.split(a,3)\n",
    "np.split(a,[4,7])\n",
    "\n",
    "a = np.array([[1,2,3],[4,5,6]])\n",
    "a.shape\n",
    "b = np.resize(a, (3,2))\n",
    "b.shape\n",
    "\n",
    "a = np.array([[1,2,3],[4,5,6]])\n",
    "np.append(a, [7,8,9])\n",
    "np.append(a, [[7,8,9]],axis = 0)\n",
    "np.append(a, [[5,5,5],[7,8,9]],axis = 1)"
   ]
  },
  {
   "cell_type": "code",
   "execution_count": 14,
   "metadata": {},
   "outputs": [
    {
     "name": "stdout",
     "output_type": "stream",
     "text": [
      "0.005019664764404297\n",
      "0.0008807182312011719\n"
     ]
    }
   ],
   "source": [
    "# BAD:\n",
    "from time import time\n",
    "\n",
    "my_total_array = np.array([])\n",
    "t0 = time()\n",
    "for i in range(100):\n",
    "    myarray = np.array([1,2])\n",
    "    my_total_array = np.append(my_total_array, myarray)\n",
    "print(time() - t0)\n",
    "\n",
    "# GOOD:\n",
    "array_list = []\n",
    "t0 = time()\n",
    "for i in range(100):\n",
    "    myarray = np.array([1,2])\n",
    "    array_list.append(myarray)\n",
    "my_total_array = np.concatenate(array_list)\n",
    "print(time() - t0)"
   ]
  },
  {
   "cell_type": "code",
   "execution_count": 15,
   "metadata": {},
   "outputs": [
    {
     "name": "stdout",
     "output_type": "stream",
     "text": [
      "[5 2 6 2 7 5 6 8 2 9]\n"
     ]
    },
    {
     "data": {
      "text/plain": [
       "array([13,  7, 15,  7, 17, 13, 15, 19,  7, 21])"
      ]
     },
     "execution_count": 15,
     "metadata": {},
     "output_type": "execute_result"
    }
   ],
   "source": [
    "a = np.array([5,2,6,2,7,5,6,8,2,9])\n",
    "\n",
    "# 'Return the count of repetitions of unique elements:'\n",
    "u, counts = np.unique(a, return_counts = True)\n",
    "\n",
    "# 'Unique array and Indices array:'\n",
    "u, indices = np.unique(a, return_index = True)\n",
    "\n",
    "# 'We can see each number corresponds to index in original array:'\n",
    "print(a)\n",
    "\n",
    "# 'Indices of unique array:'\n",
    "u, indices = np.unique(a, return_inverse = True)\n",
    "\n",
    "# 'Reconstruct the original array using indices:'\n",
    "u[indices]\n",
    "\n",
    "def complex_operation(x):\n",
    "    return x * 2 + 3\n",
    "\n",
    "result_a = complex_operation(a)  # what we want\n",
    "result_u = complex_operation(u)\n",
    "result_u[indices]  # ist gleich result_a"
   ]
  }
 ],
 "metadata": {
  "jupytext": {
   "cell_metadata_filter": "-all",
   "formats": "ipynb,auto:percent",
   "main_language": "python",
   "notebook_metadata_filter": "-all"
  },
  "kernelspec": {
   "display_name": "PyCharm (Warp-Clustering)",
   "language": "python",
   "name": "pycharm-b613d24b"
  },
  "language_info": {
   "codemirror_mode": {
    "name": "ipython",
    "version": 3
   },
   "file_extension": ".py",
   "mimetype": "text/x-python",
   "name": "python",
   "nbconvert_exporter": "python",
   "pygments_lexer": "ipython3",
   "version": "3.8.8"
  }
 },
 "nbformat": 4,
 "nbformat_minor": 4
}
